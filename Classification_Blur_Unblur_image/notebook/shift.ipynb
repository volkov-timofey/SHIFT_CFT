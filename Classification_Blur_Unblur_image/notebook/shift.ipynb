{
 "cells": [
  {
   "cell_type": "markdown",
   "metadata": {
    "id": "TqAxMkA8Hhq-"
   },
   "source": [
    "### Зависимости"
   ]
  },
  {
   "cell_type": "code",
   "execution_count": null,
   "metadata": {
    "execution": {
     "iopub.execute_input": "2023-01-10T14:16:01.777263Z",
     "iopub.status.busy": "2023-01-10T14:16:01.776905Z",
     "iopub.status.idle": "2023-01-10T14:16:01.786695Z",
     "shell.execute_reply": "2023-01-10T14:16:01.785540Z",
     "shell.execute_reply.started": "2023-01-10T14:16:01.777233Z"
    },
    "id": "naD6xsZzMxrC"
   },
   "outputs": [],
   "source": [
    "import numpy as np\n",
    "import pandas as pd\n",
    "\n",
    "from tqdm import tqdm, tqdm_notebook\n",
    "from PIL import Image\n",
    "from pathlib import Path\n",
    "\n",
    "from torchvision import models, transforms\n",
    "from torch.utils.data import Dataset, DataLoader\n",
    "import torch.nn as nn\n",
    "import torch\n",
    "import torch.optim as optim\n",
    "\n",
    "import seaborn as sns\n",
    "from matplotlib import colors, pyplot as plt\n",
    "%matplotlib inline\n",
    "\n",
    "import warnings\n",
    "warnings.filterwarnings(action='ignore', category=DeprecationWarning)"
   ]
  },
  {
   "cell_type": "markdown",
   "metadata": {
    "id": "gJYu9JASUBBg"
   },
   "source": [
    "### Globals"
   ]
  },
  {
   "cell_type": "code",
   "execution_count": null,
   "metadata": {
    "execution": {
     "iopub.execute_input": "2023-01-10T14:16:01.789331Z",
     "iopub.status.busy": "2023-01-10T14:16:01.788944Z",
     "iopub.status.idle": "2023-01-10T14:16:01.800632Z",
     "shell.execute_reply": "2023-01-10T14:16:01.799625Z",
     "shell.execute_reply.started": "2023-01-10T14:16:01.789294Z"
    },
    "id": "WTdzMtgJP15N",
    "outputId": "8c55fcc7-bb8d-468f-aeaa-b04e4980af5d"
   },
   "outputs": [],
   "source": [
    "# режимы датасета \n",
    "DATA_MODES = ['train', 'val', 'test']\n",
    "# все изображения масштабируем к размеру 299*299 px\n",
    "RESCALE_SIZE_INCEPTION = 299\n",
    "RESCALE_SIZE_RESNET = 224\n",
    "RESCALE_SIZE = 299\n",
    "# работаем на видеокарте\n",
    "DEVICE = torch.device(\"cuda\" if torch.cuda.is_available() else \"cpu\")\n",
    "# фиксим рандом\n",
    "RANDOM_STATE = 42\n",
    "torch.manual_seed(42)\n",
    "DIR = '/kaggle/input/shift2023/'\n",
    "DEVICE"
   ]
  },
  {
   "cell_type": "markdown",
   "metadata": {
    "id": "NDijCjqDJ_Pt"
   },
   "source": [
    "### Предварительный анализ данных"
   ]
  },
  {
   "cell_type": "code",
   "execution_count": null,
   "metadata": {
    "execution": {
     "iopub.execute_input": "2023-01-10T14:16:01.802665Z",
     "iopub.status.busy": "2023-01-10T14:16:01.802080Z",
     "iopub.status.idle": "2023-01-10T14:16:01.824315Z",
     "shell.execute_reply": "2023-01-10T14:16:01.823094Z",
     "shell.execute_reply.started": "2023-01-10T14:16:01.802629Z"
    },
    "id": "W-IMZRoyiYoJ",
    "outputId": "8d5f7d44-5e54-47b4-8a42-14cc4be59b45"
   },
   "outputs": [],
   "source": [
    "# загружаем метки с названиями файлов\n",
    "data_labels = pd.read_csv(DIR + 'train.csv')\n",
    "data_labels.info()"
   ]
  },
  {
   "cell_type": "code",
   "execution_count": null,
   "metadata": {
    "execution": {
     "iopub.execute_input": "2023-01-10T14:16:01.826993Z",
     "iopub.status.busy": "2023-01-10T14:16:01.826570Z",
     "iopub.status.idle": "2023-01-10T14:16:01.842326Z",
     "shell.execute_reply": "2023-01-10T14:16:01.841190Z",
     "shell.execute_reply.started": "2023-01-10T14:16:01.826959Z"
    },
    "id": "ms4N9-6HwJ7W",
    "outputId": "02592090-7d7f-4d83-8d1d-b6a0abd269f0"
   },
   "outputs": [],
   "source": [
    "# для удобства меняем тип заблюренности\n",
    "data_labels[['blur']] = data_labels[['blur']].astype('int')\n",
    "data_labels.info()"
   ]
  },
  {
   "cell_type": "code",
   "execution_count": null,
   "metadata": {
    "execution": {
     "iopub.execute_input": "2023-01-10T14:16:01.844853Z",
     "iopub.status.busy": "2023-01-10T14:16:01.844410Z",
     "iopub.status.idle": "2023-01-10T14:16:02.091509Z",
     "shell.execute_reply": "2023-01-10T14:16:02.090407Z",
     "shell.execute_reply.started": "2023-01-10T14:16:01.844819Z"
    },
    "id": "IspZ5N7vpfrw",
    "outputId": "9f00649e-a984-476d-b79e-011b00b5b15e"
   },
   "outputs": [],
   "source": [
    "# оценим количественные показатели разных классов\n",
    "sns.catplot(data=data_labels, x=\"blur\", kind=\"count\")\n",
    "#sns.displot(data_labels['blur'], stat='percent', discrete=True)\n",
    "plt.show()\n",
    "\n",
    "print('\\n')\n",
    "print(f'В датасете четких изображений - {len(data_labels[data_labels.iloc[:,1]== 0])}, размытых - {data_labels.shape[0] - len(data_labels[data_labels.iloc[:,1] == 0])}')"
   ]
  },
  {
   "cell_type": "markdown",
   "metadata": {
    "id": "1RG-JrnjTEjD"
   },
   "source": [
    "Количество изображений разных классов схоже. Воспользуемся стратификацией. Дополнительно можем не генерировать."
   ]
  },
  {
   "cell_type": "markdown",
   "metadata": {
    "id": "mkAwCLvwT3pH"
   },
   "source": [
    "### DataSet"
   ]
  },
  {
   "cell_type": "code",
   "execution_count": null,
   "metadata": {
    "execution": {
     "iopub.execute_input": "2023-01-10T14:16:02.093650Z",
     "iopub.status.busy": "2023-01-10T14:16:02.093248Z",
     "iopub.status.idle": "2023-01-10T14:16:02.106632Z",
     "shell.execute_reply": "2023-01-10T14:16:02.105312Z",
     "shell.execute_reply.started": "2023-01-10T14:16:02.093609Z"
    },
    "id": "nBq-pHF-UNc1"
   },
   "outputs": [],
   "source": [
    "class CastomDataset(Dataset):\n",
    "    \"\"\"\n",
    "    Датасет с картинками, который паралельно подгружает их из папок\n",
    "    производит скалирование и превращение в торчевые тензоры\n",
    "    \"\"\"\n",
    "    def __init__(self, files, mode):\n",
    "        super().__init__()\n",
    "        # список файлов для загрузки\n",
    "        self.files = sorted(files)\n",
    "        # режим работы\n",
    "        self.mode = mode\n",
    "\n",
    "        if self.mode not in DATA_MODES:\n",
    "            print(f\"{self.mode} is not correct; correct modes: {DATA_MODES}\")\n",
    "            raise NameError\n",
    "\n",
    "        self.len_ = len(self.files)\n",
    "\n",
    "        # загружем метки файлов\n",
    "        if self.mode != 'test':\n",
    "            self.labels = [np.array(data_labels[data_labels.iloc[:, 0] == path.name].iloc[:,1])[0] \\\n",
    "                           for path in self.files]\n",
    "                                  \n",
    "    def __len__(self):\n",
    "        return self.len_\n",
    "      \n",
    "    def load_sample(self, file):\n",
    "        image = Image.open(file)\n",
    "        image.load()\n",
    "        return image\n",
    "  \n",
    "    def __getitem__(self, index):\n",
    "        # проводим дополнительную обработку изображений \n",
    "        # переводим в тензоры и нормализуем\n",
    "        if self.mode == 'train':\n",
    "          transform = transforms.Compose([\n",
    "            transforms.ToPILImage(),\n",
    "            transforms.RandomVerticalFlip(0.5),\n",
    "            transforms.RandomHorizontalFlip(0.5),\n",
    "            transforms.ToTensor(),\n",
    "            transforms.Normalize([0.485, 0.456, 0.406], [0.229, 0.224, 0.225])\n",
    "          ])\n",
    "\n",
    "        if (self.mode == 'val') or (self.mode == 'test'):\n",
    "          transform = transforms.Compose([\n",
    "            transforms.ToTensor(),\n",
    "            transforms.Normalize([0.485, 0.456, 0.406], [0.229, 0.224, 0.225])\n",
    "          ])\n",
    "\n",
    "\n",
    "        x = self.load_sample(self.files[index])\n",
    "        x = self._prepare_sample(x)\n",
    "        x = transform(x)\n",
    "        if self.mode == 'test':\n",
    "            return x\n",
    "        else:\n",
    "            y = self.labels[index]\n",
    "            return x, y\n",
    "        \n",
    "    def _prepare_sample(self, image):\n",
    "        image = image.resize((RESCALE_SIZE, RESCALE_SIZE))\n",
    "        return np.array(image)"
   ]
  },
  {
   "cell_type": "code",
   "execution_count": null,
   "metadata": {
    "execution": {
     "iopub.execute_input": "2023-01-10T14:16:02.108872Z",
     "iopub.status.busy": "2023-01-10T14:16:02.108305Z",
     "iopub.status.idle": "2023-01-10T14:16:02.121433Z",
     "shell.execute_reply": "2023-01-10T14:16:02.120645Z",
     "shell.execute_reply.started": "2023-01-10T14:16:02.108835Z"
    },
    "id": "j_odtTEzcaWH"
   },
   "outputs": [],
   "source": [
    "# для просмотра изображений\n",
    "def imshow(inp, title=None, plt_ax=plt, default=False):\n",
    "    \"\"\"Imshow для тензоров\"\"\"\n",
    "    inp = inp.numpy().transpose((1, 2, 0))\n",
    "    mean = np.array([0.485, 0.456, 0.406])\n",
    "    std = np.array([0.229, 0.224, 0.225])\n",
    "    inp = std * inp + mean\n",
    "    inp = np.clip(inp, 0, 1)\n",
    "    plt_ax.imshow(inp)\n",
    "    if title is not None:\n",
    "        plt_ax.set_title(title)\n",
    "    plt_ax.grid(False)"
   ]
  },
  {
   "cell_type": "code",
   "execution_count": null,
   "metadata": {
    "execution": {
     "iopub.execute_input": "2023-01-10T14:16:02.125860Z",
     "iopub.status.busy": "2023-01-10T14:16:02.125158Z",
     "iopub.status.idle": "2023-01-10T14:16:02.295683Z",
     "shell.execute_reply": "2023-01-10T14:16:02.294799Z",
     "shell.execute_reply.started": "2023-01-10T14:16:02.125832Z"
    },
    "id": "yUhzOq1zRJil"
   },
   "outputs": [],
   "source": [
    "# пути нахождения train и test\n",
    "TRAIN_DIR = Path(DIR + 'train/train')\n",
    "TEST_DIR = Path(DIR + 'test/test')\n",
    "\n",
    "train_val_files = list(TRAIN_DIR.rglob('*.jpg'))\n",
    "test_files = list(TEST_DIR.rglob('*.jpg'))"
   ]
  },
  {
   "cell_type": "markdown",
   "metadata": {
    "id": "I8lD4dC1WCa9"
   },
   "source": [
    "### Деление выборки перед обучением"
   ]
  },
  {
   "cell_type": "code",
   "execution_count": null,
   "metadata": {
    "execution": {
     "iopub.execute_input": "2023-01-10T14:16:02.297714Z",
     "iopub.status.busy": "2023-01-10T14:16:02.297170Z",
     "iopub.status.idle": "2023-01-10T14:16:05.097931Z",
     "shell.execute_reply": "2023-01-10T14:16:05.096759Z",
     "shell.execute_reply.started": "2023-01-10T14:16:02.297677Z"
    },
    "id": "TmPhhKKlRyCF"
   },
   "outputs": [],
   "source": [
    "from sklearn.model_selection import train_test_split\n",
    "\n",
    "train_val_labels = [np.array(data_labels[data_labels.iloc[:, 0] == path.name].iloc[:,1])[0] for path in train_val_files]\n",
    "train_files, val_files = train_test_split(train_val_files, test_size=0.25, stratify=train_val_labels, random_state=RANDOM_STATE)"
   ]
  },
  {
   "cell_type": "code",
   "execution_count": null,
   "metadata": {
    "execution": {
     "iopub.execute_input": "2023-01-10T14:16:05.105201Z",
     "iopub.status.busy": "2023-01-10T14:16:05.102559Z",
     "iopub.status.idle": "2023-01-10T14:16:07.005615Z",
     "shell.execute_reply": "2023-01-10T14:16:07.004549Z",
     "shell.execute_reply.started": "2023-01-10T14:16:05.105162Z"
    },
    "id": "ArYtL74yOBb4"
   },
   "outputs": [],
   "source": [
    "train_dataset = CastomDataset(train_files, mode='train')\n",
    "\n",
    "val_dataset = CastomDataset(val_files, mode='val')"
   ]
  },
  {
   "cell_type": "markdown",
   "metadata": {
    "id": "EIvolLPfWacR"
   },
   "source": [
    "### Просмотр изображений"
   ]
  },
  {
   "cell_type": "code",
   "execution_count": null,
   "metadata": {
    "execution": {
     "iopub.execute_input": "2023-01-10T14:16:07.008428Z",
     "iopub.status.busy": "2023-01-10T14:16:07.007711Z",
     "iopub.status.idle": "2023-01-10T14:16:08.454317Z",
     "shell.execute_reply": "2023-01-10T14:16:08.450019Z",
     "shell.execute_reply.started": "2023-01-10T14:16:07.008387Z"
    },
    "id": "Bikt-z6AN6iq",
    "outputId": "1c1dbbf5-6896-4b01-8616-84dfe131cd38"
   },
   "outputs": [],
   "source": [
    "fig, ax = plt.subplots(nrows=3, ncols=3,figsize=(12, 12), \\\n",
    "                        sharey=True, sharex=True)\n",
    "for fig_x in ax.flatten():\n",
    "    random_characters = int(np.random.uniform(0,500))\n",
    "    im_val, label = val_dataset[random_characters]\n",
    "    img_label = val_dataset.labels[random_characters]\n",
    "    imshow(im_val.data.cpu(), \\\n",
    "          title=img_label,plt_ax=fig_x)"
   ]
  },
  {
   "cell_type": "markdown",
   "metadata": {
    "id": "XawTPYT4Wi-g"
   },
   "source": [
    "### Обучение"
   ]
  },
  {
   "cell_type": "markdown",
   "metadata": {
    "id": "g4ciz2D0XinH"
   },
   "source": [
    "Возьмем предобученную модель из PyTorch."
   ]
  },
  {
   "cell_type": "code",
   "execution_count": null,
   "metadata": {
    "execution": {
     "iopub.execute_input": "2023-01-10T14:16:08.457183Z",
     "iopub.status.busy": "2023-01-10T14:16:08.456494Z",
     "iopub.status.idle": "2023-01-10T14:16:08.469788Z",
     "shell.execute_reply": "2023-01-10T14:16:08.468617Z",
     "shell.execute_reply.started": "2023-01-10T14:16:08.457144Z"
    },
    "id": "z5BtJelc-pZW"
   },
   "outputs": [],
   "source": [
    "def train(train_files, val_files, model, epochs, batch_size):\n",
    "    \n",
    "    train_loader = DataLoader(train_dataset, batch_size=batch_size, shuffle=True)\n",
    "    val_loader = DataLoader(val_dataset, batch_size=batch_size, shuffle=False)\n",
    "\n",
    "    history = [] # сохраняем данные о loss и accuracy для  train и val\n",
    "    best_val_loss = 1\n",
    "    best_val_acc = 0\n",
    "    log_template = \"\\nEpoch {ep:03d} train_loss: {t_loss:0.4f} \\\n",
    "    val_loss {v_loss:0.4f} train_acc {t_acc:0.4f} val_acc {v_acc:0.4f}\"\n",
    "\n",
    "    with tqdm(desc=\"epoch\", total=epochs) as pbar_outer:\n",
    "\n",
    "        # Generate the optimizers.\n",
    "        \n",
    "        \n",
    "        optimizer = torch.optim.AdamW(model.parameters(), lr=3e-4)\n",
    "        \n",
    "        scheduler = torch.optim.lr_scheduler.ExponentialLR(optimizer=optimizer, gamma=0.5)\n",
    "        \n",
    "        \n",
    "        criterion = nn.CrossEntropyLoss()\n",
    "        \n",
    "        for epoch in range(epochs):\n",
    "            train_loss, train_acc = fit_epoch(model, train_loader, criterion, optimizer)\n",
    "            print(\"loss\", train_loss)\n",
    "            \n",
    "            val_loss, val_acc = eval_epoch(model, val_loader, criterion)\n",
    "            \n",
    "            scheduler.step()\n",
    "            \n",
    "            # если loss и acc на val, улучшили показатели, сохраняем модель,\n",
    "            # для будущих предсказаний\n",
    "            if best_val_loss >= val_loss and best_val_acc <= val_acc:\n",
    "              best_val_loss = val_loss\n",
    "              best_val_acc = val_acc\n",
    "              torch.save(model.state_dict(), 'best_model.pth')\n",
    "              print(f\"\\n\\nSave model's completed on {epoch+1} epoch's\")\n",
    "\n",
    "            history.append((train_loss, train_acc, val_loss, val_acc))\n",
    "            \n",
    "            pbar_outer.update(1)\n",
    "            tqdm.write(log_template.format(ep=epoch+1, t_loss=train_loss,\\\n",
    "                                           v_loss=val_loss, t_acc=train_acc, v_acc=val_acc))\n",
    "               \n",
    "    return [history, best_val_loss, best_val_acc]"
   ]
  },
  {
   "cell_type": "code",
   "execution_count": null,
   "metadata": {
    "execution": {
     "iopub.execute_input": "2023-01-10T14:16:08.472253Z",
     "iopub.status.busy": "2023-01-10T14:16:08.471152Z",
     "iopub.status.idle": "2023-01-10T14:16:08.486379Z",
     "shell.execute_reply": "2023-01-10T14:16:08.485178Z",
     "shell.execute_reply.started": "2023-01-10T14:16:08.472216Z"
    },
    "id": "Ut5H-_ii-_Xh"
   },
   "outputs": [],
   "source": [
    "def fit_epoch(model, train_loader, criterion, optimizer):\n",
    "    running_loss = 0.0\n",
    "    running_corrects = 0\n",
    "    processed_data = 0\n",
    "  \n",
    "    for inputs, labels in train_loader:\n",
    "        inputs = inputs.to(DEVICE)\n",
    "        labels = labels.to(DEVICE)\n",
    "        optimizer.zero_grad()\n",
    "\n",
    "        outputs = model(inputs)\n",
    "        loss = criterion(outputs, labels)\n",
    "        loss.backward()\n",
    "        optimizer.step()\n",
    "        preds = torch.argmax(outputs, 1)\n",
    "        running_loss += loss.item() * inputs.size(0)\n",
    "        running_corrects += torch.sum(preds == labels.data)\n",
    "        processed_data += inputs.size(0)\n",
    "    \n",
    "    train_loss = running_loss / processed_data\n",
    "    train_acc = running_corrects.cpu().numpy() / processed_data\n",
    "    return train_loss, train_acc"
   ]
  },
  {
   "cell_type": "code",
   "execution_count": null,
   "metadata": {
    "execution": {
     "iopub.execute_input": "2023-01-10T14:16:08.488080Z",
     "iopub.status.busy": "2023-01-10T14:16:08.487700Z",
     "iopub.status.idle": "2023-01-10T14:16:08.501094Z",
     "shell.execute_reply": "2023-01-10T14:16:08.500136Z",
     "shell.execute_reply.started": "2023-01-10T14:16:08.488046Z"
    },
    "id": "WTRpZazs-_Xj"
   },
   "outputs": [],
   "source": [
    "def eval_epoch(model, val_loader, criterion):\n",
    "    model.eval()\n",
    "    running_loss = 0.0\n",
    "    running_corrects = 0\n",
    "    processed_size = 0\n",
    "\n",
    "    for inputs, labels in val_loader:\n",
    "        inputs = inputs.to(DEVICE)\n",
    "        labels = labels.to(DEVICE)\n",
    "\n",
    "        with torch.set_grad_enabled(False):\n",
    "            outputs = model(inputs)\n",
    "            loss = criterion(outputs, labels)\n",
    "            preds = torch.argmax(outputs, 1)\n",
    "\n",
    "        running_loss += loss.item() * inputs.size(0)\n",
    "        running_corrects += torch.sum(preds == labels.data)\n",
    "        processed_size += inputs.size(0)\n",
    "    val_loss = running_loss / processed_size\n",
    "    val_acc = running_corrects.double() / processed_size\n",
    "    return val_loss, val_acc"
   ]
  },
  {
   "cell_type": "code",
   "execution_count": null,
   "metadata": {
    "execution": {
     "iopub.execute_input": "2023-01-10T14:16:08.503392Z",
     "iopub.status.busy": "2023-01-10T14:16:08.502354Z",
     "iopub.status.idle": "2023-01-10T14:16:08.513653Z",
     "shell.execute_reply": "2023-01-10T14:16:08.512654Z",
     "shell.execute_reply.started": "2023-01-10T14:16:08.503357Z"
    },
    "id": "vYAmYKM9-_Xm"
   },
   "outputs": [],
   "source": [
    "def predict(model, test_loader):\n",
    "    with torch.no_grad():\n",
    "        logits = []\n",
    "    \n",
    "        for inputs in test_loader:\n",
    "            inputs = inputs.to(DEVICE)\n",
    "            model.eval()\n",
    "            outputs = model(inputs).cpu()\n",
    "            logits.append(outputs)\n",
    "            \n",
    "    probs = nn.functional.softmax(torch.cat(logits), dim=-1).numpy()\n",
    "    return probs"
   ]
  },
  {
   "cell_type": "markdown",
   "metadata": {
    "id": "iSJRDBNr7HuX"
   },
   "source": [
    "#### Pretrained Inception_v3"
   ]
  },
  {
   "cell_type": "code",
   "execution_count": null,
   "metadata": {
    "execution": {
     "iopub.execute_input": "2023-01-10T14:16:08.515980Z",
     "iopub.status.busy": "2023-01-10T14:16:08.515616Z",
     "iopub.status.idle": "2023-01-10T14:16:08.905626Z",
     "shell.execute_reply": "2023-01-10T14:16:08.904574Z",
     "shell.execute_reply.started": "2023-01-10T14:16:08.515947Z"
    },
    "id": "1Eo66MtL0rLw",
    "outputId": "0a953e76-dbf3-4531-f795-c0221caf28f1"
   },
   "outputs": [],
   "source": [
    "model_inception_v3 = models.inception_v3(pretrained=True)\n",
    "model_inception_v3"
   ]
  },
  {
   "cell_type": "code",
   "execution_count": null,
   "metadata": {
    "execution": {
     "iopub.execute_input": "2023-01-10T14:16:08.907947Z",
     "iopub.status.busy": "2023-01-10T14:16:08.907224Z",
     "iopub.status.idle": "2023-01-10T14:16:08.919575Z",
     "shell.execute_reply": "2023-01-10T14:16:08.918213Z",
     "shell.execute_reply.started": "2023-01-10T14:16:08.907904Z"
    },
    "id": "bfBjvh5U0rLx"
   },
   "outputs": [],
   "source": [
    "# num_features - размерность вектора фич, поступающего на вход FC\n",
    "num_features = 2048\n",
    "# n_classes - количество классов, которые будет предсказывать наша модель\n",
    "n_classes = 2\n",
    "# Заменяем Fully-Connected слой на наш линейный классификатор\n",
    "model_inception_v3.fc = nn.Linear(in_features=num_features, out_features=n_classes)\n",
    "model_inception_v3.AuxLogits.fc = nn.Linear(768, 2)"
   ]
  },
  {
   "cell_type": "code",
   "execution_count": null,
   "metadata": {
    "execution": {
     "iopub.execute_input": "2023-01-10T14:16:08.923045Z",
     "iopub.status.busy": "2023-01-10T14:16:08.922721Z",
     "iopub.status.idle": "2023-01-10T14:16:08.978199Z",
     "shell.execute_reply": "2023-01-10T14:16:08.977138Z",
     "shell.execute_reply.started": "2023-01-10T14:16:08.923018Z"
    },
    "id": "P7t7R4D80rLy",
    "outputId": "55b451f5-ec1b-4f53-a238-9bd69fe22b1e"
   },
   "outputs": [],
   "source": [
    "# перенос модели в cuda\n",
    "model_inception_v3.to(DEVICE)"
   ]
  },
  {
   "cell_type": "code",
   "execution_count": null,
   "metadata": {
    "execution": {
     "iopub.execute_input": "2023-01-10T14:16:08.984690Z",
     "iopub.status.busy": "2023-01-10T14:16:08.984382Z",
     "iopub.status.idle": "2023-01-10T14:16:08.988821Z",
     "shell.execute_reply": "2023-01-10T14:16:08.987898Z",
     "shell.execute_reply.started": "2023-01-10T14:16:08.984661Z"
    },
    "id": "xB6Qj8Og0rLz",
    "scrolled": true
   },
   "outputs": [],
   "source": [
    "model_inception_v3.aux_logits = False"
   ]
  },
  {
   "cell_type": "markdown",
   "metadata": {
    "id": "Z5uUWs4F0rL4"
   },
   "source": [
    "##### Обучение модели"
   ]
  },
  {
   "cell_type": "code",
   "execution_count": null,
   "metadata": {
    "execution": {
     "iopub.execute_input": "2023-01-10T14:16:08.990919Z",
     "iopub.status.busy": "2023-01-10T14:16:08.990278Z",
     "iopub.status.idle": "2023-01-10T14:16:08.999004Z",
     "shell.execute_reply": "2023-01-10T14:16:08.998042Z",
     "shell.execute_reply.started": "2023-01-10T14:16:08.990884Z"
    },
    "id": "9o-PxjCix4ek"
   },
   "outputs": [],
   "source": [
    "epochs = 25"
   ]
  },
  {
   "cell_type": "code",
   "execution_count": null,
   "metadata": {
    "execution": {
     "iopub.execute_input": "2023-01-10T14:16:09.001088Z",
     "iopub.status.busy": "2023-01-10T14:16:09.000763Z",
     "iopub.status.idle": "2023-01-10T14:39:40.344098Z",
     "shell.execute_reply": "2023-01-10T14:39:40.343055Z",
     "shell.execute_reply.started": "2023-01-10T14:16:09.001063Z"
    },
    "id": "acLG97oH0rL5",
    "outputId": "21e005af-20ec-492e-b6a1-484d90b43e03"
   },
   "outputs": [],
   "source": [
    "%%time\n",
    "history_inception_v3 = train(train_dataset, val_dataset, model=model_inception_v3, epochs=epochs, batch_size=32)"
   ]
  },
  {
   "cell_type": "markdown",
   "metadata": {
    "id": "A9sLFEDnaAFw"
   },
   "source": [
    "##### Best results"
   ]
  },
  {
   "cell_type": "code",
   "execution_count": null,
   "metadata": {
    "execution": {
     "iopub.execute_input": "2023-01-10T14:39:40.346652Z",
     "iopub.status.busy": "2023-01-10T14:39:40.346016Z",
     "iopub.status.idle": "2023-01-10T14:39:40.352995Z",
     "shell.execute_reply": "2023-01-10T14:39:40.351624Z",
     "shell.execute_reply.started": "2023-01-10T14:39:40.346613Z"
    },
    "id": "GZJnMDnxHTHs",
    "outputId": "2ef0aa38-4d9d-41bd-f9df-59faddac7418"
   },
   "outputs": [],
   "source": [
    "print(f'best_loss = {history_inception_v3[1]}, best_acc = {history_inception_v3[2]}')"
   ]
  },
  {
   "cell_type": "markdown",
   "metadata": {
    "id": "UHrMXDpm0rL5"
   },
   "source": [
    "##### Кривые обучения"
   ]
  },
  {
   "cell_type": "code",
   "execution_count": null,
   "metadata": {
    "execution": {
     "iopub.execute_input": "2023-01-10T14:39:40.355215Z",
     "iopub.status.busy": "2023-01-10T14:39:40.354550Z",
     "iopub.status.idle": "2023-01-10T14:39:40.365133Z",
     "shell.execute_reply": "2023-01-10T14:39:40.363652Z",
     "shell.execute_reply.started": "2023-01-10T14:39:40.355176Z"
    },
    "id": "_DqxUrtH0rL6"
   },
   "outputs": [],
   "source": [
    "loss, acc, val_loss, val_acc = zip(*history_inception_v3[0])"
   ]
  },
  {
   "cell_type": "code",
   "execution_count": null,
   "metadata": {
    "execution": {
     "iopub.execute_input": "2023-01-10T14:39:40.366658Z",
     "iopub.status.busy": "2023-01-10T14:39:40.366364Z",
     "iopub.status.idle": "2023-01-10T14:39:40.624679Z",
     "shell.execute_reply": "2023-01-10T14:39:40.623677Z",
     "shell.execute_reply.started": "2023-01-10T14:39:40.366627Z"
    },
    "id": "R6sCVfB40rL7",
    "outputId": "f8990f0d-c37f-493e-cdb8-6b12c6636beb"
   },
   "outputs": [],
   "source": [
    "plt.figure(figsize=(15, 9))\n",
    "plt.plot(loss, label=\"train_loss\")\n",
    "plt.plot(val_loss, label=\"val_loss\")\n",
    "plt.legend(loc='best')\n",
    "plt.xlabel(\"epochs\")\n",
    "plt.ylabel(\"loss\")\n",
    "plt.show()"
   ]
  },
  {
   "cell_type": "markdown",
   "metadata": {
    "id": "WWtEDBhxF77D"
   },
   "source": [
    "##### Best model"
   ]
  },
  {
   "cell_type": "code",
   "execution_count": null,
   "metadata": {
    "execution": {
     "iopub.execute_input": "2023-01-10T14:39:40.627563Z",
     "iopub.status.busy": "2023-01-10T14:39:40.626573Z",
     "iopub.status.idle": "2023-01-10T14:39:40.826762Z",
     "shell.execute_reply": "2023-01-10T14:39:40.825686Z",
     "shell.execute_reply.started": "2023-01-10T14:39:40.627525Z"
    },
    "id": "8Z_VxMUPGCZZ",
    "outputId": "cc637f2d-fb99-4e26-dcce-01c86089bbcf"
   },
   "outputs": [],
   "source": [
    "model_inception_v3.load_state_dict(torch.load('best_model.pth'))"
   ]
  },
  {
   "cell_type": "markdown",
   "metadata": {
    "id": "_-hPjWLTMKTn"
   },
   "source": [
    "##### Predict_val"
   ]
  },
  {
   "cell_type": "code",
   "execution_count": null,
   "metadata": {
    "execution": {
     "iopub.execute_input": "2023-01-10T14:39:40.828699Z",
     "iopub.status.busy": "2023-01-10T14:39:40.828334Z",
     "iopub.status.idle": "2023-01-10T14:39:41.404394Z",
     "shell.execute_reply": "2023-01-10T14:39:41.403336Z",
     "shell.execute_reply.started": "2023-01-10T14:39:40.828661Z"
    },
    "id": "Yu-LIXnuMKTo"
   },
   "outputs": [],
   "source": [
    "idxs = list(map(int, np.random.uniform(0,650, 20))) # индексы  20 рандомных изображений\n",
    "imgs = [val_dataset[id][0].unsqueeze(0) for id in idxs] # изображения\n",
    "\n",
    "# вероятности предсказаний к определенному классу\n",
    "probs_ims = predict(model_inception_v3, imgs) "
   ]
  },
  {
   "cell_type": "code",
   "execution_count": null,
   "metadata": {
    "execution": {
     "iopub.execute_input": "2023-01-10T14:39:41.406891Z",
     "iopub.status.busy": "2023-01-10T14:39:41.406153Z",
     "iopub.status.idle": "2023-01-10T14:39:41.413311Z",
     "shell.execute_reply": "2023-01-10T14:39:41.411919Z",
     "shell.execute_reply.started": "2023-01-10T14:39:41.406846Z"
    },
    "id": "uaLywLLvMKTo"
   },
   "outputs": [],
   "source": [
    "probs_img = [np.round(prob[1], 1) for prob in probs_ims]"
   ]
  },
  {
   "cell_type": "code",
   "execution_count": null,
   "metadata": {
    "execution": {
     "iopub.execute_input": "2023-01-10T14:39:41.415781Z",
     "iopub.status.busy": "2023-01-10T14:39:41.414996Z",
     "iopub.status.idle": "2023-01-10T14:39:41.676585Z",
     "shell.execute_reply": "2023-01-10T14:39:41.675486Z",
     "shell.execute_reply.started": "2023-01-10T14:39:41.415545Z"
    },
    "id": "8EMBTvnEMKTp"
   },
   "outputs": [],
   "source": [
    "y_pred = np.argmax(probs_ims,-1)\n",
    "\n",
    "actual_labels = [val_dataset[id][1] for id in idxs]"
   ]
  },
  {
   "cell_type": "code",
   "execution_count": null,
   "metadata": {
    "execution": {
     "iopub.execute_input": "2023-01-10T14:39:41.678766Z",
     "iopub.status.busy": "2023-01-10T14:39:41.678062Z",
     "iopub.status.idle": "2023-01-10T14:39:41.684379Z",
     "shell.execute_reply": "2023-01-10T14:39:41.683155Z",
     "shell.execute_reply.started": "2023-01-10T14:39:41.678698Z"
    },
    "id": "9-WrJ7HQMKTp"
   },
   "outputs": [],
   "source": [
    "preds_class = [i for i in y_pred]"
   ]
  },
  {
   "cell_type": "markdown",
   "metadata": {
    "id": "7j7eMxa5MKTp"
   },
   "source": [
    "##### ROC_AUC"
   ]
  },
  {
   "cell_type": "code",
   "execution_count": null,
   "metadata": {
    "execution": {
     "iopub.execute_input": "2023-01-10T14:39:41.686546Z",
     "iopub.status.busy": "2023-01-10T14:39:41.686098Z",
     "iopub.status.idle": "2023-01-10T14:39:41.699230Z",
     "shell.execute_reply": "2023-01-10T14:39:41.697987Z",
     "shell.execute_reply.started": "2023-01-10T14:39:41.686510Z"
    },
    "id": "y8tHDLyGMKTq",
    "outputId": "4d969ba0-2c7a-4300-9777-4361fba23d4c"
   },
   "outputs": [],
   "source": [
    "from sklearn.metrics import roc_auc_score\n",
    "\n",
    "roc_auc_inception_v3 = roc_auc_score(actual_labels, preds_class, average='weighted')\n",
    "np.round(roc_auc_inception_v3,2)"
   ]
  },
  {
   "cell_type": "markdown",
   "metadata": {
    "id": "aqPy78dteTUN"
   },
   "source": [
    "#### Pretrained ResNet18"
   ]
  },
  {
   "cell_type": "code",
   "execution_count": null,
   "metadata": {
    "execution": {
     "iopub.execute_input": "2023-01-10T14:39:41.701483Z",
     "iopub.status.busy": "2023-01-10T14:39:41.700868Z",
     "iopub.status.idle": "2023-01-10T14:39:41.923045Z",
     "shell.execute_reply": "2023-01-10T14:39:41.922078Z",
     "shell.execute_reply.started": "2023-01-10T14:39:41.701444Z"
    },
    "id": "tRGC09nae9vU",
    "outputId": "e790baca-2e04-4cdb-d68d-db903ec0a91c"
   },
   "outputs": [],
   "source": [
    "model_resnet18 = models.resnet18(pretrained=True)"
   ]
  },
  {
   "cell_type": "code",
   "execution_count": null,
   "metadata": {
    "execution": {
     "iopub.execute_input": "2023-01-10T14:39:41.925114Z",
     "iopub.status.busy": "2023-01-10T14:39:41.924704Z",
     "iopub.status.idle": "2023-01-10T14:39:41.933410Z",
     "shell.execute_reply": "2023-01-10T14:39:41.932332Z",
     "shell.execute_reply.started": "2023-01-10T14:39:41.925077Z"
    },
    "id": "vM1LoGwbksVa",
    "outputId": "32588e60-abe8-4031-8a1d-d2cd5cf36de3"
   },
   "outputs": [],
   "source": [
    "model_resnet18"
   ]
  },
  {
   "cell_type": "code",
   "execution_count": null,
   "metadata": {
    "execution": {
     "iopub.execute_input": "2023-01-10T14:39:41.936448Z",
     "iopub.status.busy": "2023-01-10T14:39:41.935566Z",
     "iopub.status.idle": "2023-01-10T14:39:41.943223Z",
     "shell.execute_reply": "2023-01-10T14:39:41.942368Z",
     "shell.execute_reply.started": "2023-01-10T14:39:41.936411Z"
    },
    "id": "sOikU3aQe9vV"
   },
   "outputs": [],
   "source": [
    "# num_features - размерность вектора фич, поступающего на вход FC\n",
    "num_features = 512\n",
    "# n_classes - количество классов, которые будет предсказывать наша модель\n",
    "n_classes = 2\n",
    "\n",
    "# Заменяем Fully-Connected \n",
    "# решил усложнить жизнь модели Dropout'ом - \n",
    "#ощутимого прироста на этом датасете не вышло\n",
    " \n",
    "model_resnet18.fc = nn.Sequential(\n",
    "    nn.Dropout(p=0.5, inplace=False),\n",
    "    nn.Linear(num_features, n_classes)\n",
    ")"
   ]
  },
  {
   "cell_type": "code",
   "execution_count": null,
   "metadata": {
    "execution": {
     "iopub.execute_input": "2023-01-10T14:39:41.945240Z",
     "iopub.status.busy": "2023-01-10T14:39:41.944813Z",
     "iopub.status.idle": "2023-01-10T14:39:41.973573Z",
     "shell.execute_reply": "2023-01-10T14:39:41.972630Z",
     "shell.execute_reply.started": "2023-01-10T14:39:41.945206Z"
    },
    "id": "GCKPI2IEe9vV",
    "outputId": "6a73a74f-c193-477e-c4b9-59ebc4bca552"
   },
   "outputs": [],
   "source": [
    "model_resnet18.to(DEVICE)"
   ]
  },
  {
   "cell_type": "markdown",
   "metadata": {
    "id": "qJwMmKnDFaZE"
   },
   "source": [
    "##### Обучение модели"
   ]
  },
  {
   "cell_type": "code",
   "execution_count": null,
   "metadata": {
    "execution": {
     "iopub.execute_input": "2023-01-10T14:39:41.976857Z",
     "iopub.status.busy": "2023-01-10T14:39:41.976551Z",
     "iopub.status.idle": "2023-01-10T14:58:13.429888Z",
     "shell.execute_reply": "2023-01-10T14:58:13.428861Z",
     "shell.execute_reply.started": "2023-01-10T14:39:41.976832Z"
    },
    "id": "tzoxJQFwe9vW",
    "outputId": "48fd8297-305d-4550-fcb9-315880a08482"
   },
   "outputs": [],
   "source": [
    "%%time\n",
    "history_resnet18 = train(train_dataset, val_dataset, model=model_resnet18, epochs=epochs, batch_size=32)"
   ]
  },
  {
   "cell_type": "markdown",
   "metadata": {
    "id": "NympJSrVFg6g"
   },
   "source": [
    "##### Best results"
   ]
  },
  {
   "cell_type": "code",
   "execution_count": null,
   "metadata": {
    "execution": {
     "iopub.execute_input": "2023-01-10T14:58:13.431664Z",
     "iopub.status.busy": "2023-01-10T14:58:13.431379Z",
     "iopub.status.idle": "2023-01-10T14:58:13.449624Z",
     "shell.execute_reply": "2023-01-10T14:58:13.447208Z",
     "shell.execute_reply.started": "2023-01-10T14:58:13.431631Z"
    },
    "id": "NDcD7b7XFhdR",
    "outputId": "c6c20cce-fb08-4269-ab2b-47e157174905"
   },
   "outputs": [],
   "source": [
    "print(f'best_loss = {history_resnet18[1]}, best_acc = {history_resnet18[2]}')"
   ]
  },
  {
   "cell_type": "markdown",
   "metadata": {
    "id": "hgFRZscQFq50"
   },
   "source": [
    "##### Кривые обучения"
   ]
  },
  {
   "cell_type": "code",
   "execution_count": null,
   "metadata": {
    "execution": {
     "iopub.execute_input": "2023-01-10T14:58:13.454299Z",
     "iopub.status.busy": "2023-01-10T14:58:13.453677Z",
     "iopub.status.idle": "2023-01-10T14:58:13.466303Z",
     "shell.execute_reply": "2023-01-10T14:58:13.464270Z",
     "shell.execute_reply.started": "2023-01-10T14:58:13.454257Z"
    },
    "id": "lhr8EZn-e9vX"
   },
   "outputs": [],
   "source": [
    "loss, acc, val_loss, val_acc = zip(*history_resnet18[0])"
   ]
  },
  {
   "cell_type": "code",
   "execution_count": null,
   "metadata": {
    "execution": {
     "iopub.execute_input": "2023-01-10T14:58:13.467874Z",
     "iopub.status.busy": "2023-01-10T14:58:13.467586Z",
     "iopub.status.idle": "2023-01-10T14:58:13.721202Z",
     "shell.execute_reply": "2023-01-10T14:58:13.720230Z",
     "shell.execute_reply.started": "2023-01-10T14:58:13.467849Z"
    },
    "id": "3-p5N3khe9vX",
    "outputId": "56ca53d1-733c-4f5f-df2e-2aca2ac749f0"
   },
   "outputs": [],
   "source": [
    "plt.figure(figsize=(15, 9))\n",
    "plt.plot(loss, label=\"train_loss\")\n",
    "plt.plot(val_loss, label=\"val_loss\")\n",
    "plt.legend(loc='best')\n",
    "plt.xlabel(\"epochs\")\n",
    "plt.ylabel(\"loss\")\n",
    "plt.show()"
   ]
  },
  {
   "cell_type": "markdown",
   "metadata": {
    "id": "dm2N9qHNGnyI"
   },
   "source": [
    "##### Best model"
   ]
  },
  {
   "cell_type": "code",
   "execution_count": null,
   "metadata": {
    "execution": {
     "iopub.execute_input": "2023-01-10T14:58:13.723505Z",
     "iopub.status.busy": "2023-01-10T14:58:13.722873Z",
     "iopub.status.idle": "2023-01-10T14:58:13.783201Z",
     "shell.execute_reply": "2023-01-10T14:58:13.781812Z",
     "shell.execute_reply.started": "2023-01-10T14:58:13.723465Z"
    },
    "id": "7Prjq6L6GsCV",
    "outputId": "f8aad2bc-99d2-4dc4-deb1-05138ee26110"
   },
   "outputs": [],
   "source": [
    "model_resnet18.load_state_dict(torch.load('best_model.pth'))"
   ]
  },
  {
   "cell_type": "markdown",
   "metadata": {
    "id": "hHO-79kFNnYg"
   },
   "source": [
    "##### Predict_val"
   ]
  },
  {
   "cell_type": "code",
   "execution_count": null,
   "metadata": {
    "execution": {
     "iopub.execute_input": "2023-01-10T14:58:13.785576Z",
     "iopub.status.busy": "2023-01-10T14:58:13.785172Z",
     "iopub.status.idle": "2023-01-10T14:58:14.318762Z",
     "shell.execute_reply": "2023-01-10T14:58:14.316225Z",
     "shell.execute_reply.started": "2023-01-10T14:58:13.785535Z"
    },
    "id": "caivVFeAN9SY"
   },
   "outputs": [],
   "source": [
    "idxs = list(map(int, np.random.uniform(0,650, 20))) # индексы  20 рандомных изображений\n",
    "imgs = [val_dataset[id][0].unsqueeze(0) for id in idxs] # изображения\n",
    "\n",
    "# вероятности предсказаний к определенному классу\n",
    "probs_ims = predict(model_resnet18, imgs)"
   ]
  },
  {
   "cell_type": "code",
   "execution_count": null,
   "metadata": {
    "execution": {
     "iopub.execute_input": "2023-01-10T14:58:14.321090Z",
     "iopub.status.busy": "2023-01-10T14:58:14.320684Z",
     "iopub.status.idle": "2023-01-10T14:58:14.329476Z",
     "shell.execute_reply": "2023-01-10T14:58:14.328289Z",
     "shell.execute_reply.started": "2023-01-10T14:58:14.321051Z"
    },
    "id": "inljA9e8iqrH"
   },
   "outputs": [],
   "source": [
    "probs_img = [np.round(prob[1], 1) for prob in probs_ims]"
   ]
  },
  {
   "cell_type": "code",
   "execution_count": null,
   "metadata": {
    "execution": {
     "iopub.execute_input": "2023-01-10T14:58:14.333625Z",
     "iopub.status.busy": "2023-01-10T14:58:14.332658Z",
     "iopub.status.idle": "2023-01-10T14:58:14.595561Z",
     "shell.execute_reply": "2023-01-10T14:58:14.594520Z",
     "shell.execute_reply.started": "2023-01-10T14:58:14.333577Z"
    },
    "id": "GNMFc7sfQh1a"
   },
   "outputs": [],
   "source": [
    "y_pred = np.argmax(probs_ims,-1)\n",
    "\n",
    "actual_labels = [val_dataset[id][1] for id in idxs]"
   ]
  },
  {
   "cell_type": "code",
   "execution_count": null,
   "metadata": {
    "execution": {
     "iopub.execute_input": "2023-01-10T14:58:14.597718Z",
     "iopub.status.busy": "2023-01-10T14:58:14.597353Z",
     "iopub.status.idle": "2023-01-10T14:58:14.605566Z",
     "shell.execute_reply": "2023-01-10T14:58:14.604472Z",
     "shell.execute_reply.started": "2023-01-10T14:58:14.597681Z"
    },
    "id": "7D5KpJhQbQHR"
   },
   "outputs": [],
   "source": [
    "preds_class = [i for i in y_pred]"
   ]
  },
  {
   "cell_type": "markdown",
   "metadata": {
    "id": "XYFpsh8SpacT"
   },
   "source": [
    "##### ROC_AUC"
   ]
  },
  {
   "cell_type": "code",
   "execution_count": null,
   "metadata": {
    "execution": {
     "iopub.execute_input": "2023-01-10T14:58:14.611009Z",
     "iopub.status.busy": "2023-01-10T14:58:14.608984Z",
     "iopub.status.idle": "2023-01-10T14:58:14.621761Z",
     "shell.execute_reply": "2023-01-10T14:58:14.620565Z",
     "shell.execute_reply.started": "2023-01-10T14:58:14.610969Z"
    },
    "id": "_h-9dDWsKGU-",
    "outputId": "4717cf93-856b-4369-e1f6-86669e063e30"
   },
   "outputs": [],
   "source": [
    "from sklearn.metrics import roc_auc_score\n",
    "\n",
    "roc_auc_resnet18 = roc_auc_score(actual_labels, preds_class, average='weighted')\n",
    "roc_auc_resnet18"
   ]
  },
  {
   "cell_type": "markdown",
   "metadata": {
    "id": "JQpzQKOKFlML"
   },
   "source": [
    "#### Pretrained DenseNet"
   ]
  },
  {
   "cell_type": "code",
   "execution_count": null,
   "metadata": {
    "execution": {
     "iopub.execute_input": "2023-01-10T14:58:14.624984Z",
     "iopub.status.busy": "2023-01-10T14:58:14.624039Z",
     "iopub.status.idle": "2023-01-10T14:58:17.052251Z",
     "shell.execute_reply": "2023-01-10T14:58:17.051218Z",
     "shell.execute_reply.started": "2023-01-10T14:58:14.624944Z"
    },
    "id": "APk2TKBvuHT8",
    "outputId": "3825f608-b0f4-4fa3-c482-e1555d60b9e3"
   },
   "outputs": [],
   "source": [
    "model_dense = models.densenet121(pretrained=True)"
   ]
  },
  {
   "cell_type": "code",
   "execution_count": null,
   "metadata": {
    "execution": {
     "iopub.execute_input": "2023-01-10T14:58:17.054633Z",
     "iopub.status.busy": "2023-01-10T14:58:17.053932Z",
     "iopub.status.idle": "2023-01-10T14:58:17.068245Z",
     "shell.execute_reply": "2023-01-10T14:58:17.067179Z",
     "shell.execute_reply.started": "2023-01-10T14:58:17.054592Z"
    },
    "id": "54XqmO93uHT-",
    "outputId": "547240dd-0230-4cde-f06c-b62952a6a282"
   },
   "outputs": [],
   "source": [
    "model_dense"
   ]
  },
  {
   "cell_type": "code",
   "execution_count": null,
   "metadata": {
    "execution": {
     "iopub.execute_input": "2023-01-10T14:58:17.070999Z",
     "iopub.status.busy": "2023-01-10T14:58:17.070079Z",
     "iopub.status.idle": "2023-01-10T14:58:17.079299Z",
     "shell.execute_reply": "2023-01-10T14:58:17.078246Z",
     "shell.execute_reply.started": "2023-01-10T14:58:17.070958Z"
    },
    "id": "beF3C5iruHT_"
   },
   "outputs": [],
   "source": [
    "# num_features - размерность вектора фич, поступающего на вход FC\n",
    "num_features = 1024\n",
    "# n_classes - количество классов, которые будет предсказывать наша модель\n",
    "n_classes = 2\n",
    "# Заменяем Fully-Connected слой на наш линейный классификатор\n",
    "model_dense.classifier = nn.Sequential(\n",
    "    nn.Dropout(p=0.5, inplace=False),\n",
    "    nn.Linear(num_features, n_classes)\n",
    ")"
   ]
  },
  {
   "cell_type": "code",
   "execution_count": null,
   "metadata": {
    "execution": {
     "iopub.execute_input": "2023-01-10T14:58:17.081479Z",
     "iopub.status.busy": "2023-01-10T14:58:17.081003Z",
     "iopub.status.idle": "2023-01-10T14:58:17.127366Z",
     "shell.execute_reply": "2023-01-10T14:58:17.126281Z",
     "shell.execute_reply.started": "2023-01-10T14:58:17.081442Z"
    },
    "id": "3vuU9tH9uHUA",
    "outputId": "3f832d54-0f97-466f-fab4-c7418e1acd49"
   },
   "outputs": [],
   "source": [
    "model_dense.to(DEVICE)"
   ]
  },
  {
   "cell_type": "markdown",
   "metadata": {
    "id": "0BV1A917uHUA"
   },
   "source": [
    "##### Обучение модели Dense NET"
   ]
  },
  {
   "cell_type": "code",
   "execution_count": null,
   "metadata": {
    "execution": {
     "iopub.execute_input": "2023-01-10T14:58:17.129507Z",
     "iopub.status.busy": "2023-01-10T14:58:17.129081Z",
     "iopub.status.idle": "2023-01-10T15:24:19.139137Z",
     "shell.execute_reply": "2023-01-10T15:24:19.138008Z",
     "shell.execute_reply.started": "2023-01-10T14:58:17.129465Z"
    },
    "id": "HZ9zuys2uHUB",
    "outputId": "fdf063d5-9892-47b6-b6c5-f58c0ac311dd"
   },
   "outputs": [],
   "source": [
    "%%time\n",
    "history_dense = train(train_dataset, val_dataset, model=model_dense, epochs=epochs, batch_size=32)"
   ]
  },
  {
   "cell_type": "markdown",
   "metadata": {
    "id": "IA7qHTQduHUC"
   },
   "source": [
    "##### Best results"
   ]
  },
  {
   "cell_type": "code",
   "execution_count": null,
   "metadata": {
    "execution": {
     "iopub.execute_input": "2023-01-10T15:24:19.141883Z",
     "iopub.status.busy": "2023-01-10T15:24:19.141219Z",
     "iopub.status.idle": "2023-01-10T15:24:19.148001Z",
     "shell.execute_reply": "2023-01-10T15:24:19.146942Z",
     "shell.execute_reply.started": "2023-01-10T15:24:19.141843Z"
    },
    "id": "5cXbdW7auHUC",
    "outputId": "e938a891-6319-4420-ec34-cc0631871502"
   },
   "outputs": [],
   "source": [
    "print(f'best_loss = {history_dense[1]}, best_acc = {history_dense[2]}')"
   ]
  },
  {
   "cell_type": "markdown",
   "metadata": {
    "id": "wBWiBpC2uHUD"
   },
   "source": [
    "##### Кривые обучения"
   ]
  },
  {
   "cell_type": "code",
   "execution_count": null,
   "metadata": {
    "execution": {
     "iopub.execute_input": "2023-01-10T15:24:19.150288Z",
     "iopub.status.busy": "2023-01-10T15:24:19.149638Z",
     "iopub.status.idle": "2023-01-10T15:24:19.157837Z",
     "shell.execute_reply": "2023-01-10T15:24:19.156715Z",
     "shell.execute_reply.started": "2023-01-10T15:24:19.150250Z"
    },
    "id": "AtNkRUb-uHUE"
   },
   "outputs": [],
   "source": [
    "loss, acc, val_loss, val_acc = zip(*history_dense[0])"
   ]
  },
  {
   "cell_type": "code",
   "execution_count": null,
   "metadata": {
    "execution": {
     "iopub.execute_input": "2023-01-10T15:24:19.167003Z",
     "iopub.status.busy": "2023-01-10T15:24:19.166715Z",
     "iopub.status.idle": "2023-01-10T15:24:19.401582Z",
     "shell.execute_reply": "2023-01-10T15:24:19.400678Z",
     "shell.execute_reply.started": "2023-01-10T15:24:19.166978Z"
    },
    "id": "kKIAaKauuHUE",
    "outputId": "ed0a7b21-b45a-4f90-e045-7e9b6ecd5e86"
   },
   "outputs": [],
   "source": [
    "plt.figure(figsize=(15, 9))\n",
    "plt.plot(loss, label=\"train_loss\")\n",
    "plt.plot(val_loss, label=\"val_loss\")\n",
    "plt.legend(loc='best')\n",
    "plt.xlabel(\"epochs\")\n",
    "plt.ylabel(\"loss\")\n",
    "plt.show()"
   ]
  },
  {
   "cell_type": "markdown",
   "metadata": {
    "id": "a1gJ_a8zuHUF"
   },
   "source": [
    "##### Best model"
   ]
  },
  {
   "cell_type": "code",
   "execution_count": null,
   "metadata": {
    "execution": {
     "iopub.execute_input": "2023-01-10T15:24:19.404411Z",
     "iopub.status.busy": "2023-01-10T15:24:19.403732Z",
     "iopub.status.idle": "2023-01-10T15:24:19.609795Z",
     "shell.execute_reply": "2023-01-10T15:24:19.608525Z",
     "shell.execute_reply.started": "2023-01-10T15:24:19.404372Z"
    },
    "id": "wu0VCEqRuHUG",
    "outputId": "0f92b39d-2175-4725-ae1a-72619e245418"
   },
   "outputs": [],
   "source": [
    "model_dense.load_state_dict(torch.load('best_model.pth'))"
   ]
  },
  {
   "cell_type": "markdown",
   "metadata": {
    "id": "bA6dXUTAuHUG"
   },
   "source": [
    "##### Predict_val"
   ]
  },
  {
   "cell_type": "code",
   "execution_count": null,
   "metadata": {
    "execution": {
     "iopub.execute_input": "2023-01-10T15:24:19.611822Z",
     "iopub.status.busy": "2023-01-10T15:24:19.611407Z",
     "iopub.status.idle": "2023-01-10T15:24:20.263214Z",
     "shell.execute_reply": "2023-01-10T15:24:20.262096Z",
     "shell.execute_reply.started": "2023-01-10T15:24:19.611783Z"
    },
    "id": "OTLDBwJduHUH"
   },
   "outputs": [],
   "source": [
    "idxs = list(map(int, np.random.uniform(0,650, 20))) # индексы  20 рандомных изображений\n",
    "imgs = [val_dataset[id][0].unsqueeze(0) for id in idxs] # изображения\n",
    "\n",
    "# вероятности предсказаний к определенному классу\n",
    "probs_ims = predict(model_dense, imgs)"
   ]
  },
  {
   "cell_type": "code",
   "execution_count": null,
   "metadata": {
    "execution": {
     "iopub.execute_input": "2023-01-10T15:24:20.265850Z",
     "iopub.status.busy": "2023-01-10T15:24:20.264554Z",
     "iopub.status.idle": "2023-01-10T15:24:20.272296Z",
     "shell.execute_reply": "2023-01-10T15:24:20.271038Z",
     "shell.execute_reply.started": "2023-01-10T15:24:20.265809Z"
    },
    "id": "2Cs31n8ZuHUI"
   },
   "outputs": [],
   "source": [
    "probs_img = [np.round(prob[1], 1) for prob in probs_ims]"
   ]
  },
  {
   "cell_type": "code",
   "execution_count": null,
   "metadata": {
    "execution": {
     "iopub.execute_input": "2023-01-10T15:24:20.274607Z",
     "iopub.status.busy": "2023-01-10T15:24:20.273779Z",
     "iopub.status.idle": "2023-01-10T15:24:20.533390Z",
     "shell.execute_reply": "2023-01-10T15:24:20.532398Z",
     "shell.execute_reply.started": "2023-01-10T15:24:20.274568Z"
    },
    "id": "XQzbzKequHUI"
   },
   "outputs": [],
   "source": [
    "y_pred = np.argmax(probs_ims,-1)\n",
    "\n",
    "actual_labels = [val_dataset[id][1] for id in idxs]"
   ]
  },
  {
   "cell_type": "code",
   "execution_count": null,
   "metadata": {
    "execution": {
     "iopub.execute_input": "2023-01-10T15:24:20.535211Z",
     "iopub.status.busy": "2023-01-10T15:24:20.534756Z",
     "iopub.status.idle": "2023-01-10T15:24:20.540535Z",
     "shell.execute_reply": "2023-01-10T15:24:20.539494Z",
     "shell.execute_reply.started": "2023-01-10T15:24:20.535166Z"
    },
    "id": "c2K42CAYuHUJ"
   },
   "outputs": [],
   "source": [
    "preds_class = [i for i in y_pred]"
   ]
  },
  {
   "cell_type": "markdown",
   "metadata": {
    "id": "utQJ9HEQuHUK"
   },
   "source": [
    "##### ROC_AUC"
   ]
  },
  {
   "cell_type": "code",
   "execution_count": null,
   "metadata": {
    "execution": {
     "iopub.execute_input": "2023-01-10T15:24:20.542630Z",
     "iopub.status.busy": "2023-01-10T15:24:20.542230Z",
     "iopub.status.idle": "2023-01-10T15:24:20.555358Z",
     "shell.execute_reply": "2023-01-10T15:24:20.554381Z",
     "shell.execute_reply.started": "2023-01-10T15:24:20.542591Z"
    },
    "id": "pOsDdFysuHUK",
    "outputId": "8dad73f3-800c-4456-90b1-e5de83c7718a"
   },
   "outputs": [],
   "source": [
    "from sklearn.metrics import roc_auc_score\n",
    "\n",
    "roc_auc_dense = roc_auc_score(actual_labels, preds_class, average='weighted')\n",
    "roc_auc_dense"
   ]
  },
  {
   "cell_type": "markdown",
   "metadata": {
    "id": "PFWztIEFPACz"
   },
   "source": [
    "### Inception_V3 VS ResNet18 VS DenseNet"
   ]
  },
  {
   "cell_type": "code",
   "execution_count": null,
   "metadata": {
    "execution": {
     "iopub.execute_input": "2023-01-10T15:24:20.557316Z",
     "iopub.status.busy": "2023-01-10T15:24:20.557058Z",
     "iopub.status.idle": "2023-01-10T15:24:20.564792Z",
     "shell.execute_reply": "2023-01-10T15:24:20.563606Z",
     "shell.execute_reply.started": "2023-01-10T15:24:20.557292Z"
    },
    "id": "wql3Rbu2PHZ6",
    "outputId": "c4f60512-7132-4636-8451-7a94988a3db6"
   },
   "outputs": [],
   "source": [
    "print(f'Inception_V3 - best_loss = {history_inception_v3[1]}, best_acc = {history_inception_v3[2]}, roc_auc_score = {roc_auc_inception_v3}')\n",
    "print()\n",
    "print(f'ResNet18 - best_loss = {history_resnet18[1]}, best_acc = {history_resnet18[2]}, roc_auc_score = {roc_auc_resnet18}')\n",
    "print()\n",
    "print(f'DenseNet - best_loss = {history_dense[1]}, best_acc = {history_dense[2]}, roc_auc_score = {roc_auc_dense}')"
   ]
  },
  {
   "cell_type": "markdown",
   "metadata": {
    "id": "QEWTL6jgdh7L"
   },
   "source": [
    "### Submit на Kaggle"
   ]
  },
  {
   "cell_type": "code",
   "execution_count": null,
   "metadata": {
    "execution": {
     "iopub.execute_input": "2023-01-10T15:24:20.567533Z",
     "iopub.status.busy": "2023-01-10T15:24:20.566465Z",
     "iopub.status.idle": "2023-01-10T15:25:02.694984Z",
     "shell.execute_reply": "2023-01-10T15:25:02.693949Z",
     "shell.execute_reply.started": "2023-01-10T15:24:20.567503Z"
    },
    "id": "9UTbU0Zbc6Hb"
   },
   "outputs": [],
   "source": [
    "test_dataset = CastomDataset(test_files, mode=\"test\")\n",
    "test_loader = DataLoader(test_dataset, shuffle=False, batch_size=32)\n",
    "\n",
    "probs_inception_v3 = predict(model_inception_v3, test_loader)\n",
    "probs_resnet18 = predict(model_resnet18, test_loader)\n",
    "probs_dense = predict(model_dense, test_loader)\n",
    "\n",
    "preds_inception_v3 = [np.round(prob[1], 1) for prob in probs_inception_v3]\n",
    "preds_resnet18 = [np.round(prob[1], 1) for prob in probs_resnet18]\n",
    "preds_dense = [np.round(prob[1], 1) for prob in probs_dense]\n",
    "\n",
    "test_filenames = [path.name for path in test_dataset.files]"
   ]
  },
  {
   "cell_type": "code",
   "execution_count": null,
   "metadata": {
    "execution": {
     "iopub.execute_input": "2023-01-10T15:25:02.697352Z",
     "iopub.status.busy": "2023-01-10T15:25:02.696626Z",
     "iopub.status.idle": "2023-01-10T15:25:02.715648Z",
     "shell.execute_reply": "2023-01-10T15:25:02.714862Z",
     "shell.execute_reply.started": "2023-01-10T15:25:02.697308Z"
    },
    "id": "yw0zZ-Hdd89s",
    "outputId": "bffe225a-7f3d-42c5-d590-0a213102946c"
   },
   "outputs": [],
   "source": [
    "import pandas as pd\n",
    "\n",
    "submit_inception_v3 = pd.DataFrame({'filename': test_filenames, 'blur': preds_inception_v3})\n",
    "submit_inception_v3.head()"
   ]
  },
  {
   "cell_type": "code",
   "execution_count": null,
   "metadata": {
    "execution": {
     "iopub.execute_input": "2023-01-10T15:25:02.717791Z",
     "iopub.status.busy": "2023-01-10T15:25:02.716959Z",
     "iopub.status.idle": "2023-01-10T15:25:02.730490Z",
     "shell.execute_reply": "2023-01-10T15:25:02.729464Z",
     "shell.execute_reply.started": "2023-01-10T15:25:02.717737Z"
    },
    "id": "yrB8UMI9X80c",
    "outputId": "3080ac7f-e324-4b9c-dd52-60137684c832"
   },
   "outputs": [],
   "source": [
    "submit_resnet18 = pd.DataFrame({'filename': test_filenames, 'blur': preds_resnet18})\n",
    "submit_resnet18.head()"
   ]
  },
  {
   "cell_type": "code",
   "execution_count": null,
   "metadata": {
    "execution": {
     "iopub.execute_input": "2023-01-10T15:25:02.732222Z",
     "iopub.status.busy": "2023-01-10T15:25:02.731730Z",
     "iopub.status.idle": "2023-01-10T15:25:02.743599Z",
     "shell.execute_reply": "2023-01-10T15:25:02.742425Z",
     "shell.execute_reply.started": "2023-01-10T15:25:02.732177Z"
    },
    "id": "dt5pLp0GGiSi",
    "outputId": "46f88219-772b-42f9-f11b-12c301461efe"
   },
   "outputs": [],
   "source": [
    "submit_dense = pd.DataFrame({'filename': test_filenames, 'blur': preds_dense})\n",
    "submit_dense.head()"
   ]
  },
  {
   "cell_type": "code",
   "execution_count": null,
   "metadata": {
    "execution": {
     "iopub.execute_input": "2023-01-10T15:25:02.746035Z",
     "iopub.status.busy": "2023-01-10T15:25:02.745142Z",
     "iopub.status.idle": "2023-01-10T15:25:02.761397Z",
     "shell.execute_reply": "2023-01-10T15:25:02.760487Z",
     "shell.execute_reply.started": "2023-01-10T15:25:02.745997Z"
    },
    "id": "5rdlyMKtiYe2"
   },
   "outputs": [],
   "source": [
    "submit_inception_v3.to_csv('/kaggle/working/submit_inception_v3.csv', index=False)\n",
    "submit_resnet18.to_csv('/kaggle/working/submit_resnet18.csv', index=False)\n",
    "submit_dense.to_csv('/kaggle/working/submit_dense.csv', index=False)"
   ]
  }
 ],
 "metadata": {
  "kernelspec": {
   "display_name": "Python 3 (ipykernel)",
   "language": "python",
   "name": "python3"
  },
  "language_info": {
   "codemirror_mode": {
    "name": "ipython",
    "version": 3
   },
   "file_extension": ".py",
   "mimetype": "text/x-python",
   "name": "python",
   "nbconvert_exporter": "python",
   "pygments_lexer": "ipython3",
   "version": "3.10.4"
  }
 },
 "nbformat": 4,
 "nbformat_minor": 4
}
