{
 "cells": [
  {
   "cell_type": "markdown",
   "id": "129cb3fd-5962-46fd-bb08-b06a98115547",
   "metadata": {},
   "source": [
    "SQL:\n",
    "\n",
    " - Из базы HomeCredit размещенной в файлах \\*.csv;\n",
    " - Создана локальная база на PostreSQL;\n",
    " - Выполнены запросы на локальную базу.\n"
   ]
  },
  {
   "cell_type": "code",
   "execution_count": 1,
   "id": "73687f2d",
   "metadata": {
    "tags": []
   },
   "outputs": [],
   "source": [
    "import pandas as pd\n",
    "import psycopg2\n",
    "import os\n",
    "\n",
    "from tqdm import tqdm\n",
    "\n",
    "import warnings\n",
    "warnings.simplefilter(\"ignore\")"
   ]
  },
  {
   "cell_type": "code",
   "execution_count": 2,
   "id": "0b459b11",
   "metadata": {
    "tags": []
   },
   "outputs": [],
   "source": [
    "DB_USER = os.getenv('DB_USER')\n",
    "DB_PASSWORD = os.getenv('DB_PASSWORD')\n",
    "DATA_FULL_PATH = \"C:\\\\Temp\\\\data\\\\\"\n",
    "DATABASE_NAME = 'home_credit'"
   ]
  },
  {
   "cell_type": "code",
   "execution_count": 3,
   "id": "b71c96b4",
   "metadata": {
    "tags": []
   },
   "outputs": [],
   "source": [
    "DB_ARGS = {\n",
    "    'database': DATABASE_NAME,\n",
    "    'host': '127.0.0.1',\n",
    "    'user': DB_USER,\n",
    "    'password': DB_PASSWORD\n",
    "}"
   ]
  },
  {
   "cell_type": "markdown",
   "id": "a8e682c4",
   "metadata": {},
   "source": [
    "Сделаем функции выполнения запросов и возврата результата из БД"
   ]
  },
  {
   "cell_type": "code",
   "execution_count": 4,
   "id": "626a4f3d",
   "metadata": {
    "tags": []
   },
   "outputs": [],
   "source": [
    "def send_sql_query(query: str, args: dict):\n",
    "    \"\"\"\n",
    "    Выполняет запрос к базе.\n",
    "\n",
    "    :param query: строка с sql запросом.\n",
    "    :param args: аргументы для подключения в БД.\n",
    "    \"\"\"\n",
    "    conn = psycopg2.connect(**args)\n",
    "    try:      \n",
    "        cursor = conn.cursor()\n",
    "        cursor.execute(query)\n",
    "        conn.commit()\n",
    "    except (Exception, psycopg2.Error) as error:\n",
    "        print(\"Error while fetching data from PostgreSQL\", error)\n",
    "    finally:\n",
    "        if conn:\n",
    "            cursor.close()\n",
    "            conn.close()\n",
    "\n",
    "            \n",
    "def get_df_from_query(query: str, args: dict) -> pd.DataFrame:\n",
    "    \"\"\"\n",
    "    Выполняет запрос к базе.\n",
    "\n",
    "    :param query: строка с sql запросом.\n",
    "    :param args: аргументы для подключения в БД.\n",
    "    \n",
    "    :return df: датафрейм с результатом.\n",
    "    \"\"\"  \n",
    "    conn = psycopg2.connect(**args)\n",
    "    df = pd.read_sql(query, conn)\n",
    "    conn.close()\n",
    "    return df"
   ]
  },
  {
   "cell_type": "markdown",
   "id": "6c422a0a-cc11-41b8-9b62-bac60d4d158c",
   "metadata": {},
   "source": [
    "#### Объединим test и train"
   ]
  },
  {
   "cell_type": "code",
   "execution_count": 5,
   "id": "a87b7bf8-264d-4b1d-b819-86ea9813dd4b",
   "metadata": {
    "tags": []
   },
   "outputs": [],
   "source": [
    "def csv_train_test(train: pd.DataFrame, test: pd.DataFrame):\n",
    "    if os.path.isfile(train):\n",
    "        df_train = pd.read_csv(train)\n",
    "        df_test = pd.read_csv(test)\n",
    "        result = pd.concat([df_train, df_test], ignore_index=True)\n",
    "        result.to_csv(DATA_FULL_PATH + \"application_train_test.csv\",\n",
    "                      index=False)\n",
    "        \n",
    "        os.remove(train)\n",
    "        os.remove(test)"
   ]
  },
  {
   "cell_type": "markdown",
   "id": "1c445276-4e7b-443c-b481-d798c52ea2bf",
   "metadata": {},
   "source": [
    "Удалим данные файлы, т.к мы их уже объединили"
   ]
  },
  {
   "cell_type": "markdown",
   "id": "437867d4-76e6-4e9f-a07d-6e398b4c9e7d",
   "metadata": {},
   "source": [
    "#### Создадим список необходимых файлов"
   ]
  },
  {
   "cell_type": "code",
   "execution_count": 7,
   "id": "b2678348-668f-4a6e-9203-61422e9db011",
   "metadata": {
    "tags": []
   },
   "outputs": [],
   "source": [
    "from os import listdir\n",
    "from os.path import isfile, join\n",
    "list_files = [f for f in listdir(DATA_FULL_PATH) if isfile(join(DATA_FULL_PATH, f))]"
   ]
  },
  {
   "cell_type": "code",
   "execution_count": 8,
   "id": "b56e2745-ae12-4607-8370-a5c4d43dfdc1",
   "metadata": {
    "tags": []
   },
   "outputs": [],
   "source": [
    "def autocreate_table(list_files):\n",
    "    \n",
    "    for file in tqdm(list_files):\n",
    "        \n",
    "        replacements = {\n",
    "            'object': 'varchar',\n",
    "            'float64': 'float',\n",
    "            'int64': 'int',\n",
    "            'datetime64': 'timestamp',\n",
    "            'timedelta64[ns]': 'varchar'\n",
    "                }\n",
    "        df = pd.read_csv(DATA_FULL_PATH + file)\n",
    "\n",
    "        col_str = \", \".join(\"{} {}\".format(n, d) for (n, d) in zip(df.columns, df.dtypes.replace(replacements)))\n",
    "        cols = \", \".join(col for col in df.columns)\n",
    "        \n",
    "        sql_schema_query = f\"\"\"\n",
    "            DROP TABLE IF EXISTS {file[:-4]};\n",
    "            CREATE TABLE {file[:-4]}(\n",
    "            {col_str})\n",
    "        \"\"\"\n",
    "        \n",
    "        send_sql_query(sql_schema_query, DB_ARGS)\n",
    "        \n",
    "        sql_data_query = f\"\"\"\n",
    "            COPY {file[:-4]}(\n",
    "              {cols}\n",
    "            )\n",
    "            FROM '{DATA_FULL_PATH + file}' DELIMITER ',' CSV HEADER;\n",
    "            \"\"\"\n",
    "        send_sql_query(sql_data_query, DB_ARGS)"
   ]
  },
  {
   "cell_type": "code",
   "execution_count": 9,
   "id": "8c0941de-e3d6-4fb0-9f2f-a7d416658cb1",
   "metadata": {
    "tags": []
   },
   "outputs": [],
   "source": [
    "autocreate_table(list_files)"
   ]
  },
  {
   "cell_type": "markdown",
   "id": "57728906",
   "metadata": {},
   "source": [
    "Создадим тестовый запрос"
   ]
  },
  {
   "cell_type": "code",
   "execution_count": 10,
   "id": "e8f34c12",
   "metadata": {
    "tags": []
   },
   "outputs": [],
   "source": [
    "sql_query = \"\"\"\n",
    "    SELECT * FROM application_train_test LIMIT 1\n",
    "\"\"\""
   ]
  },
  {
   "cell_type": "code",
   "execution_count": 11,
   "id": "d24507a0",
   "metadata": {
    "tags": []
   },
   "outputs": [
    {
     "name": "stdout",
     "output_type": "stream",
     "text": [
      "CPU times: total: 15.6 ms\n",
      "Wall time: 304 ms\n"
     ]
    },
    {
     "data": {
      "text/html": [
       "<div>\n",
       "<style scoped>\n",
       "    .dataframe tbody tr th:only-of-type {\n",
       "        vertical-align: middle;\n",
       "    }\n",
       "\n",
       "    .dataframe tbody tr th {\n",
       "        vertical-align: top;\n",
       "    }\n",
       "\n",
       "    .dataframe thead th {\n",
       "        text-align: right;\n",
       "    }\n",
       "</style>\n",
       "<table border=\"1\" class=\"dataframe\">\n",
       "  <thead>\n",
       "    <tr style=\"text-align: right;\">\n",
       "      <th></th>\n",
       "      <th>sk_id_curr</th>\n",
       "      <th>target</th>\n",
       "      <th>name_contract_type</th>\n",
       "      <th>code_gender</th>\n",
       "      <th>flag_own_car</th>\n",
       "      <th>flag_own_realty</th>\n",
       "      <th>cnt_children</th>\n",
       "      <th>amt_income_total</th>\n",
       "      <th>amt_credit</th>\n",
       "      <th>amt_annuity</th>\n",
       "      <th>...</th>\n",
       "      <th>flag_document_18</th>\n",
       "      <th>flag_document_19</th>\n",
       "      <th>flag_document_20</th>\n",
       "      <th>flag_document_21</th>\n",
       "      <th>amt_req_credit_bureau_hour</th>\n",
       "      <th>amt_req_credit_bureau_day</th>\n",
       "      <th>amt_req_credit_bureau_week</th>\n",
       "      <th>amt_req_credit_bureau_mon</th>\n",
       "      <th>amt_req_credit_bureau_qrt</th>\n",
       "      <th>amt_req_credit_bureau_year</th>\n",
       "    </tr>\n",
       "  </thead>\n",
       "  <tbody>\n",
       "    <tr>\n",
       "      <th>0</th>\n",
       "      <td>100002</td>\n",
       "      <td>1.0</td>\n",
       "      <td>Cash loans</td>\n",
       "      <td>M</td>\n",
       "      <td>N</td>\n",
       "      <td>Y</td>\n",
       "      <td>0</td>\n",
       "      <td>202500.0</td>\n",
       "      <td>406597.5</td>\n",
       "      <td>24700.5</td>\n",
       "      <td>...</td>\n",
       "      <td>0</td>\n",
       "      <td>0</td>\n",
       "      <td>0</td>\n",
       "      <td>0</td>\n",
       "      <td>0.0</td>\n",
       "      <td>0.0</td>\n",
       "      <td>0.0</td>\n",
       "      <td>0.0</td>\n",
       "      <td>0.0</td>\n",
       "      <td>1.0</td>\n",
       "    </tr>\n",
       "  </tbody>\n",
       "</table>\n",
       "<p>1 rows × 122 columns</p>\n",
       "</div>"
      ],
      "text/plain": [
       "   sk_id_curr  target name_contract_type code_gender flag_own_car  \\\n",
       "0      100002     1.0         Cash loans           M            N   \n",
       "\n",
       "  flag_own_realty  cnt_children  amt_income_total  amt_credit  amt_annuity  \\\n",
       "0               Y             0          202500.0    406597.5      24700.5   \n",
       "\n",
       "   ...  flag_document_18 flag_document_19 flag_document_20 flag_document_21  \\\n",
       "0  ...                 0                0                0                0   \n",
       "\n",
       "  amt_req_credit_bureau_hour amt_req_credit_bureau_day  \\\n",
       "0                        0.0                       0.0   \n",
       "\n",
       "   amt_req_credit_bureau_week  amt_req_credit_bureau_mon  \\\n",
       "0                         0.0                        0.0   \n",
       "\n",
       "   amt_req_credit_bureau_qrt  amt_req_credit_bureau_year  \n",
       "0                        0.0                         1.0  \n",
       "\n",
       "[1 rows x 122 columns]"
      ]
     },
     "execution_count": 11,
     "metadata": {},
     "output_type": "execute_result"
    }
   ],
   "source": [
    "%%time\n",
    "get_df_from_query(sql_query, DB_ARGS)"
   ]
  },
  {
   "cell_type": "markdown",
   "id": "7008ea3f",
   "metadata": {},
   "source": [
    "### Упражнения"
   ]
  },
  {
   "cell_type": "code",
   "execution_count": 13,
   "id": "fa6e8826",
   "metadata": {},
   "outputs": [],
   "source": [
    "# вывести средний доход среди всех клиентов"
   ]
  },
  {
   "cell_type": "code",
   "execution_count": 14,
   "id": "052f3e61",
   "metadata": {
    "tags": []
   },
   "outputs": [
    {
     "name": "stdout",
     "output_type": "stream",
     "text": [
      "CPU times: total: 46.9 ms\n",
      "Wall time: 4.12 s\n"
     ]
    },
    {
     "data": {
      "text/html": [
       "<div>\n",
       "<style scoped>\n",
       "    .dataframe tbody tr th:only-of-type {\n",
       "        vertical-align: middle;\n",
       "    }\n",
       "\n",
       "    .dataframe tbody tr th {\n",
       "        vertical-align: top;\n",
       "    }\n",
       "\n",
       "    .dataframe thead th {\n",
       "        text-align: right;\n",
       "    }\n",
       "</style>\n",
       "<table border=\"1\" class=\"dataframe\">\n",
       "  <thead>\n",
       "    <tr style=\"text-align: right;\">\n",
       "      <th></th>\n",
       "      <th>mean_income</th>\n",
       "    </tr>\n",
       "  </thead>\n",
       "  <tbody>\n",
       "    <tr>\n",
       "      <th>0</th>\n",
       "      <td>170116.0</td>\n",
       "    </tr>\n",
       "  </tbody>\n",
       "</table>\n",
       "</div>"
      ],
      "text/plain": [
       "   mean_income\n",
       "0     170116.0"
      ]
     },
     "execution_count": 14,
     "metadata": {},
     "output_type": "execute_result"
    }
   ],
   "source": [
    "%%time\n",
    "\n",
    "query = \"\"\"\n",
    "SELECT ROUND(AVG(amt_income_total)) AS mean_income\n",
    "FROM application_train_test\n",
    "\"\"\"\n",
    "get_df_from_query(query, DB_ARGS)"
   ]
  },
  {
   "cell_type": "code",
   "execution_count": 15,
   "id": "72233f1c",
   "metadata": {},
   "outputs": [],
   "source": [
    "# вывести минимальный и максимальный возраст среди всех клиентов"
   ]
  },
  {
   "cell_type": "code",
   "execution_count": 16,
   "id": "53cc37ea",
   "metadata": {
    "tags": []
   },
   "outputs": [
    {
     "name": "stdout",
     "output_type": "stream",
     "text": [
      "CPU times: total: 15.6 ms\n",
      "Wall time: 858 ms\n"
     ]
    },
    {
     "data": {
      "text/html": [
       "<div>\n",
       "<style scoped>\n",
       "    .dataframe tbody tr th:only-of-type {\n",
       "        vertical-align: middle;\n",
       "    }\n",
       "\n",
       "    .dataframe tbody tr th {\n",
       "        vertical-align: top;\n",
       "    }\n",
       "\n",
       "    .dataframe thead th {\n",
       "        text-align: right;\n",
       "    }\n",
       "</style>\n",
       "<table border=\"1\" class=\"dataframe\">\n",
       "  <thead>\n",
       "    <tr style=\"text-align: right;\">\n",
       "      <th></th>\n",
       "      <th>min_age</th>\n",
       "      <th>max_age</th>\n",
       "    </tr>\n",
       "  </thead>\n",
       "  <tbody>\n",
       "    <tr>\n",
       "      <th>0</th>\n",
       "      <td>20.0</td>\n",
       "      <td>69.0</td>\n",
       "    </tr>\n",
       "  </tbody>\n",
       "</table>\n",
       "</div>"
      ],
      "text/plain": [
       "   min_age  max_age\n",
       "0     20.0     69.0"
      ]
     },
     "execution_count": 16,
     "metadata": {},
     "output_type": "execute_result"
    }
   ],
   "source": [
    "%%time\n",
    "\n",
    "query = \"\"\"\n",
    "SELECT FLOOR(MIN(ABS(days_birth) / 365)) AS min_age,\n",
    "       FLOOR(MAX(ABS(days_birth) / 365)) AS max_age\n",
    "FROM application_train_test\n",
    "\"\"\"\n",
    "get_df_from_query(query, DB_ARGS)"
   ]
  },
  {
   "cell_type": "code",
   "execution_count": 17,
   "id": "1f2a0e7f",
   "metadata": {},
   "outputs": [],
   "source": [
    "# вывести количество мужчин и женщин"
   ]
  },
  {
   "cell_type": "code",
   "execution_count": 18,
   "id": "3b109539-0a09-4a8d-b1ed-a0adf9485127",
   "metadata": {
    "tags": []
   },
   "outputs": [
    {
     "name": "stdout",
     "output_type": "stream",
     "text": [
      "CPU times: total: 15.6 ms\n",
      "Wall time: 822 ms\n"
     ]
    },
    {
     "data": {
      "text/html": [
       "<div>\n",
       "<style scoped>\n",
       "    .dataframe tbody tr th:only-of-type {\n",
       "        vertical-align: middle;\n",
       "    }\n",
       "\n",
       "    .dataframe tbody tr th {\n",
       "        vertical-align: top;\n",
       "    }\n",
       "\n",
       "    .dataframe thead th {\n",
       "        text-align: right;\n",
       "    }\n",
       "</style>\n",
       "<table border=\"1\" class=\"dataframe\">\n",
       "  <thead>\n",
       "    <tr style=\"text-align: right;\">\n",
       "      <th></th>\n",
       "      <th>code_gender</th>\n",
       "    </tr>\n",
       "  </thead>\n",
       "  <tbody>\n",
       "    <tr>\n",
       "      <th>0</th>\n",
       "      <td>M</td>\n",
       "    </tr>\n",
       "    <tr>\n",
       "      <th>1</th>\n",
       "      <td>F</td>\n",
       "    </tr>\n",
       "    <tr>\n",
       "      <th>2</th>\n",
       "      <td>XNA</td>\n",
       "    </tr>\n",
       "  </tbody>\n",
       "</table>\n",
       "</div>"
      ],
      "text/plain": [
       "  code_gender\n",
       "0           M\n",
       "1           F\n",
       "2         XNA"
      ]
     },
     "execution_count": 18,
     "metadata": {},
     "output_type": "execute_result"
    }
   ],
   "source": [
    "%%time\n",
    "\n",
    "query = \"\"\"\n",
    "SELECT DISTINCT code_gender\n",
    "FROM application_train_test\n",
    "\"\"\"\n",
    "get_df_from_query(query, DB_ARGS)"
   ]
  },
  {
   "cell_type": "markdown",
   "id": "c93c0a9f-352c-40c0-8cfb-d786318277dd",
   "metadata": {},
   "source": [
    "Загадочный пол обнаружен)"
   ]
  },
  {
   "cell_type": "code",
   "execution_count": 19,
   "id": "0360ba2f",
   "metadata": {},
   "outputs": [
    {
     "name": "stdout",
     "output_type": "stream",
     "text": [
      "CPU times: total: 0 ns\n",
      "Wall time: 859 ms\n"
     ]
    },
    {
     "data": {
      "text/html": [
       "<div>\n",
       "<style scoped>\n",
       "    .dataframe tbody tr th:only-of-type {\n",
       "        vertical-align: middle;\n",
       "    }\n",
       "\n",
       "    .dataframe tbody tr th {\n",
       "        vertical-align: top;\n",
       "    }\n",
       "\n",
       "    .dataframe thead th {\n",
       "        text-align: right;\n",
       "    }\n",
       "</style>\n",
       "<table border=\"1\" class=\"dataframe\">\n",
       "  <thead>\n",
       "    <tr style=\"text-align: right;\">\n",
       "      <th></th>\n",
       "      <th>count_men</th>\n",
       "      <th>count_women</th>\n",
       "      <th>count_other</th>\n",
       "    </tr>\n",
       "  </thead>\n",
       "  <tbody>\n",
       "    <tr>\n",
       "      <th>0</th>\n",
       "      <td>121125</td>\n",
       "      <td>235126</td>\n",
       "      <td>4</td>\n",
       "    </tr>\n",
       "  </tbody>\n",
       "</table>\n",
       "</div>"
      ],
      "text/plain": [
       "   count_men  count_women  count_other\n",
       "0     121125       235126            4"
      ]
     },
     "execution_count": 19,
     "metadata": {},
     "output_type": "execute_result"
    }
   ],
   "source": [
    "%%time\n",
    "\n",
    "query = \"\"\"\n",
    "SELECT COUNT(*) FILTER (WHERE code_gender = 'M') AS count_men,\n",
    "       COUNT(*) FILTER (WHERE code_gender = 'F') AS count_women,\n",
    "       COUNT(*) FILTER (WHERE code_gender != 'F' AND code_gender != 'M') AS count_other\n",
    "FROM application_train_test\n",
    "\"\"\"\n",
    "get_df_from_query(query, DB_ARGS)"
   ]
  },
  {
   "cell_type": "code",
   "execution_count": 20,
   "id": "d1916fe2",
   "metadata": {
    "tags": []
   },
   "outputs": [],
   "source": [
    "# вывести общую сумму, количество и среднюю сумму, запрошенную клиентами в кредит с авто и без"
   ]
  },
  {
   "cell_type": "code",
   "execution_count": 21,
   "id": "688b1449",
   "metadata": {
    "tags": []
   },
   "outputs": [
    {
     "name": "stdout",
     "output_type": "stream",
     "text": [
      "CPU times: total: 15.6 ms\n",
      "Wall time: 1.22 s\n"
     ]
    },
    {
     "data": {
      "text/html": [
       "<div>\n",
       "<style scoped>\n",
       "    .dataframe tbody tr th:only-of-type {\n",
       "        vertical-align: middle;\n",
       "    }\n",
       "\n",
       "    .dataframe tbody tr th {\n",
       "        vertical-align: top;\n",
       "    }\n",
       "\n",
       "    .dataframe thead th {\n",
       "        text-align: right;\n",
       "    }\n",
       "</style>\n",
       "<table border=\"1\" class=\"dataframe\">\n",
       "  <thead>\n",
       "    <tr style=\"text-align: right;\">\n",
       "      <th></th>\n",
       "      <th>is_car</th>\n",
       "      <th>sum_credit</th>\n",
       "      <th>count_credit</th>\n",
       "      <th>mean_credit</th>\n",
       "    </tr>\n",
       "  </thead>\n",
       "  <tbody>\n",
       "    <tr>\n",
       "      <th>0</th>\n",
       "      <td>no_car</td>\n",
       "      <td>1.303948e+11</td>\n",
       "      <td>235235</td>\n",
       "      <td>554317.0</td>\n",
       "    </tr>\n",
       "    <tr>\n",
       "      <th>1</th>\n",
       "      <td>car</td>\n",
       "      <td>7.900023e+10</td>\n",
       "      <td>121020</td>\n",
       "      <td>652787.0</td>\n",
       "    </tr>\n",
       "  </tbody>\n",
       "</table>\n",
       "</div>"
      ],
      "text/plain": [
       "   is_car    sum_credit  count_credit  mean_credit\n",
       "0  no_car  1.303948e+11        235235     554317.0\n",
       "1     car  7.900023e+10        121020     652787.0"
      ]
     },
     "execution_count": 21,
     "metadata": {},
     "output_type": "execute_result"
    }
   ],
   "source": [
    "%%time\n",
    "\n",
    "query = \"\"\"\n",
    "SELECT CASE\n",
    "           WHEN flag_own_car = 'Y' THEN 'car'\n",
    "           ELSE 'no_car'\n",
    "        END AS is_car,\n",
    "       SUM(amt_credit) AS sum_credit,\n",
    "       COUNT(amt_credit) AS count_credit,\n",
    "       ROUND(AVG(amt_credit)) AS mean_credit\n",
    "       \n",
    "FROM application_train_test\n",
    "GROUP BY flag_own_car\n",
    "\"\"\"\n",
    "get_df_from_query(query, DB_ARGS)"
   ]
  },
  {
   "cell_type": "code",
   "execution_count": 22,
   "id": "1fead722",
   "metadata": {},
   "outputs": [],
   "source": [
    "# вывести доли клиентов с различным образованием"
   ]
  },
  {
   "cell_type": "code",
   "execution_count": 23,
   "id": "036ff269-6b35-46e5-94dc-62ab2e5eb4a1",
   "metadata": {
    "tags": []
   },
   "outputs": [
    {
     "name": "stdout",
     "output_type": "stream",
     "text": [
      "CPU times: total: 31.2 ms\n",
      "Wall time: 1.6 s\n"
     ]
    },
    {
     "data": {
      "text/html": [
       "<div>\n",
       "<style scoped>\n",
       "    .dataframe tbody tr th:only-of-type {\n",
       "        vertical-align: middle;\n",
       "    }\n",
       "\n",
       "    .dataframe tbody tr th {\n",
       "        vertical-align: top;\n",
       "    }\n",
       "\n",
       "    .dataframe thead th {\n",
       "        text-align: right;\n",
       "    }\n",
       "</style>\n",
       "<table border=\"1\" class=\"dataframe\">\n",
       "  <thead>\n",
       "    <tr style=\"text-align: right;\">\n",
       "      <th></th>\n",
       "      <th>name_education_type</th>\n",
       "      <th>part_of_clients</th>\n",
       "    </tr>\n",
       "  </thead>\n",
       "  <tbody>\n",
       "    <tr>\n",
       "      <th>0</th>\n",
       "      <td>Academic degree</td>\n",
       "      <td>0.000575</td>\n",
       "    </tr>\n",
       "    <tr>\n",
       "      <th>1</th>\n",
       "      <td>Higher education</td>\n",
       "      <td>0.245271</td>\n",
       "    </tr>\n",
       "    <tr>\n",
       "      <th>2</th>\n",
       "      <td>Incomplete higher</td>\n",
       "      <td>0.033687</td>\n",
       "    </tr>\n",
       "    <tr>\n",
       "      <th>3</th>\n",
       "      <td>Lower secondary</td>\n",
       "      <td>0.012045</td>\n",
       "    </tr>\n",
       "    <tr>\n",
       "      <th>4</th>\n",
       "      <td>Secondary / secondary special</td>\n",
       "      <td>0.708422</td>\n",
       "    </tr>\n",
       "  </tbody>\n",
       "</table>\n",
       "</div>"
      ],
      "text/plain": [
       "             name_education_type  part_of_clients\n",
       "0                Academic degree         0.000575\n",
       "1               Higher education         0.245271\n",
       "2              Incomplete higher         0.033687\n",
       "3                Lower secondary         0.012045\n",
       "4  Secondary / secondary special         0.708422"
      ]
     },
     "execution_count": 23,
     "metadata": {},
     "output_type": "execute_result"
    }
   ],
   "source": [
    "%%time\n",
    "\n",
    "query = \"\"\"\n",
    "WITH count_education_type AS (\n",
    "\n",
    "    SELECT CAST(COUNT(name_education_type) AS real) AS count_education_type,\n",
    "           CAST((SELECT COUNT (*) FROM application_train_test) AS real) AS count_clients,\n",
    "           name_education_type\n",
    "\n",
    "    FROM application_train_test\n",
    "    GROUP BY name_education_type)\n",
    "    \n",
    "SELECT name_education_type,\n",
    "       count_education_type / count_clients AS part_of_clients\n",
    "   \n",
    "FROM count_education_type\n",
    "\"\"\"\n",
    "get_df_from_query(query, DB_ARGS)"
   ]
  },
  {
   "cell_type": "code",
   "execution_count": 24,
   "id": "f3fb9adf",
   "metadata": {},
   "outputs": [],
   "source": [
    "# подсчитать количество полных лет для клиентов, у которых есть во владении автомобиль и недвижимость.\n",
    "# вывести топ 10 по возрастанию"
   ]
  },
  {
   "cell_type": "code",
   "execution_count": 25,
   "id": "98857714",
   "metadata": {
    "tags": []
   },
   "outputs": [
    {
     "name": "stdout",
     "output_type": "stream",
     "text": [
      "CPU times: total: 15.6 ms\n",
      "Wall time: 943 ms\n"
     ]
    },
    {
     "data": {
      "text/html": [
       "<div>\n",
       "<style scoped>\n",
       "    .dataframe tbody tr th:only-of-type {\n",
       "        vertical-align: middle;\n",
       "    }\n",
       "\n",
       "    .dataframe tbody tr th {\n",
       "        vertical-align: top;\n",
       "    }\n",
       "\n",
       "    .dataframe thead th {\n",
       "        text-align: right;\n",
       "    }\n",
       "</style>\n",
       "<table border=\"1\" class=\"dataframe\">\n",
       "  <thead>\n",
       "    <tr style=\"text-align: right;\">\n",
       "      <th></th>\n",
       "      <th>sk_id_curr</th>\n",
       "      <th>age_cliens</th>\n",
       "    </tr>\n",
       "  </thead>\n",
       "  <tbody>\n",
       "    <tr>\n",
       "      <th>0</th>\n",
       "      <td>372716</td>\n",
       "      <td>20.0</td>\n",
       "    </tr>\n",
       "    <tr>\n",
       "      <th>1</th>\n",
       "      <td>283094</td>\n",
       "      <td>20.0</td>\n",
       "    </tr>\n",
       "    <tr>\n",
       "      <th>2</th>\n",
       "      <td>253377</td>\n",
       "      <td>21.0</td>\n",
       "    </tr>\n",
       "    <tr>\n",
       "      <th>3</th>\n",
       "      <td>221068</td>\n",
       "      <td>21.0</td>\n",
       "    </tr>\n",
       "    <tr>\n",
       "      <th>4</th>\n",
       "      <td>245666</td>\n",
       "      <td>21.0</td>\n",
       "    </tr>\n",
       "    <tr>\n",
       "      <th>5</th>\n",
       "      <td>248727</td>\n",
       "      <td>21.0</td>\n",
       "    </tr>\n",
       "    <tr>\n",
       "      <th>6</th>\n",
       "      <td>216327</td>\n",
       "      <td>21.0</td>\n",
       "    </tr>\n",
       "    <tr>\n",
       "      <th>7</th>\n",
       "      <td>229697</td>\n",
       "      <td>21.0</td>\n",
       "    </tr>\n",
       "    <tr>\n",
       "      <th>8</th>\n",
       "      <td>216772</td>\n",
       "      <td>21.0</td>\n",
       "    </tr>\n",
       "    <tr>\n",
       "      <th>9</th>\n",
       "      <td>230835</td>\n",
       "      <td>21.0</td>\n",
       "    </tr>\n",
       "  </tbody>\n",
       "</table>\n",
       "</div>"
      ],
      "text/plain": [
       "   sk_id_curr  age_cliens\n",
       "0      372716        20.0\n",
       "1      283094        20.0\n",
       "2      253377        21.0\n",
       "3      221068        21.0\n",
       "4      245666        21.0\n",
       "5      248727        21.0\n",
       "6      216327        21.0\n",
       "7      229697        21.0\n",
       "8      216772        21.0\n",
       "9      230835        21.0"
      ]
     },
     "execution_count": 25,
     "metadata": {},
     "output_type": "execute_result"
    }
   ],
   "source": [
    "%%time\n",
    "\n",
    "query = \"\"\"\n",
    "SELECT sk_id_curr, \n",
    "       (FLOOR(ABS(days_birth) / 365)) AS age_cliens\n",
    "FROM application_train_test\n",
    "WHERE flag_own_car = 'Y' AND flag_own_realty = 'Y'\n",
    "ORDER BY age_cliens\n",
    "LIMIT 10\n",
    "\"\"\"\n",
    "get_df_from_query(query, DB_ARGS)"
   ]
  },
  {
   "cell_type": "code",
   "execution_count": 26,
   "id": "3c1133dc",
   "metadata": {},
   "outputs": [],
   "source": [
    "# вывести тех клиентов, у кого доход на одного члена семьи в два раза больше, чем в среднем на одного члена семьи по выборке"
   ]
  },
  {
   "cell_type": "code",
   "execution_count": 27,
   "id": "daab56d4-6740-4592-88c0-b9a583294112",
   "metadata": {
    "tags": []
   },
   "outputs": [
    {
     "name": "stdout",
     "output_type": "stream",
     "text": [
      "CPU times: total: 46.9 ms\n",
      "Wall time: 1.89 s\n"
     ]
    },
    {
     "data": {
      "text/html": [
       "<div>\n",
       "<style scoped>\n",
       "    .dataframe tbody tr th:only-of-type {\n",
       "        vertical-align: middle;\n",
       "    }\n",
       "\n",
       "    .dataframe tbody tr th {\n",
       "        vertical-align: top;\n",
       "    }\n",
       "\n",
       "    .dataframe thead th {\n",
       "        text-align: right;\n",
       "    }\n",
       "</style>\n",
       "<table border=\"1\" class=\"dataframe\">\n",
       "  <thead>\n",
       "    <tr style=\"text-align: right;\">\n",
       "      <th></th>\n",
       "      <th>sk_id_curr</th>\n",
       "    </tr>\n",
       "  </thead>\n",
       "  <tbody>\n",
       "    <tr>\n",
       "      <th>0</th>\n",
       "      <td>100002</td>\n",
       "    </tr>\n",
       "    <tr>\n",
       "      <th>1</th>\n",
       "      <td>100033</td>\n",
       "    </tr>\n",
       "    <tr>\n",
       "      <th>2</th>\n",
       "      <td>100053</td>\n",
       "    </tr>\n",
       "    <tr>\n",
       "      <th>3</th>\n",
       "      <td>100070</td>\n",
       "    </tr>\n",
       "    <tr>\n",
       "      <th>4</th>\n",
       "      <td>100079</td>\n",
       "    </tr>\n",
       "    <tr>\n",
       "      <th>...</th>\n",
       "      <td>...</td>\n",
       "    </tr>\n",
       "    <tr>\n",
       "      <th>27728</th>\n",
       "      <td>455940</td>\n",
       "    </tr>\n",
       "    <tr>\n",
       "      <th>27729</th>\n",
       "      <td>455959</td>\n",
       "    </tr>\n",
       "    <tr>\n",
       "      <th>27730</th>\n",
       "      <td>456009</td>\n",
       "    </tr>\n",
       "    <tr>\n",
       "      <th>27731</th>\n",
       "      <td>456119</td>\n",
       "    </tr>\n",
       "    <tr>\n",
       "      <th>27732</th>\n",
       "      <td>456189</td>\n",
       "    </tr>\n",
       "  </tbody>\n",
       "</table>\n",
       "<p>27733 rows × 1 columns</p>\n",
       "</div>"
      ],
      "text/plain": [
       "       sk_id_curr\n",
       "0          100002\n",
       "1          100033\n",
       "2          100053\n",
       "3          100070\n",
       "4          100079\n",
       "...           ...\n",
       "27728      455940\n",
       "27729      455959\n",
       "27730      456009\n",
       "27731      456119\n",
       "27732      456189\n",
       "\n",
       "[27733 rows x 1 columns]"
      ]
     },
     "execution_count": 27,
     "metadata": {},
     "output_type": "execute_result"
    }
   ],
   "source": [
    "%%time\n",
    "\n",
    "query = \"\"\"\n",
    "WITH income_one_person AS (\n",
    "    SELECT sk_id_curr,\n",
    "           amt_income_total / cnt_fam_members AS income_one_person,\n",
    "           ROUND(AVG (amt_income_total / cnt_fam_members) OVER ()) AS mean_income_one_person\n",
    "    FROM application_train_test)\n",
    "\n",
    "SELECT sk_id_curr\n",
    "FROM income_one_person\n",
    "WHERE income_one_person >= 2 * mean_income_one_person\n",
    "\"\"\"\n",
    "get_df_from_query(query, DB_ARGS)"
   ]
  },
  {
   "cell_type": "code",
   "execution_count": 28,
   "id": "f38aee01",
   "metadata": {},
   "outputs": [],
   "source": [
    "# вывести клиентов старше 60 лет по которым нет данных в bureau"
   ]
  },
  {
   "cell_type": "code",
   "execution_count": 29,
   "id": "83fd949a",
   "metadata": {
    "tags": []
   },
   "outputs": [
    {
     "name": "stdout",
     "output_type": "stream",
     "text": [
      "CPU times: total: 15.6 ms\n",
      "Wall time: 13.4 s\n"
     ]
    },
    {
     "data": {
      "text/html": [
       "<div>\n",
       "<style scoped>\n",
       "    .dataframe tbody tr th:only-of-type {\n",
       "        vertical-align: middle;\n",
       "    }\n",
       "\n",
       "    .dataframe tbody tr th {\n",
       "        vertical-align: top;\n",
       "    }\n",
       "\n",
       "    .dataframe thead th {\n",
       "        text-align: right;\n",
       "    }\n",
       "</style>\n",
       "<table border=\"1\" class=\"dataframe\">\n",
       "  <thead>\n",
       "    <tr style=\"text-align: right;\">\n",
       "      <th></th>\n",
       "      <th>sk_id_curr</th>\n",
       "    </tr>\n",
       "  </thead>\n",
       "  <tbody>\n",
       "    <tr>\n",
       "      <th>0</th>\n",
       "      <td>101016</td>\n",
       "    </tr>\n",
       "    <tr>\n",
       "      <th>1</th>\n",
       "      <td>109918</td>\n",
       "    </tr>\n",
       "    <tr>\n",
       "      <th>2</th>\n",
       "      <td>119663</td>\n",
       "    </tr>\n",
       "    <tr>\n",
       "      <th>3</th>\n",
       "      <td>123614</td>\n",
       "    </tr>\n",
       "    <tr>\n",
       "      <th>4</th>\n",
       "      <td>129220</td>\n",
       "    </tr>\n",
       "    <tr>\n",
       "      <th>...</th>\n",
       "      <td>...</td>\n",
       "    </tr>\n",
       "    <tr>\n",
       "      <th>5051</th>\n",
       "      <td>125592</td>\n",
       "    </tr>\n",
       "    <tr>\n",
       "      <th>5052</th>\n",
       "      <td>230121</td>\n",
       "    </tr>\n",
       "    <tr>\n",
       "      <th>5053</th>\n",
       "      <td>232676</td>\n",
       "    </tr>\n",
       "    <tr>\n",
       "      <th>5054</th>\n",
       "      <td>297004</td>\n",
       "    </tr>\n",
       "    <tr>\n",
       "      <th>5055</th>\n",
       "      <td>365770</td>\n",
       "    </tr>\n",
       "  </tbody>\n",
       "</table>\n",
       "<p>5056 rows × 1 columns</p>\n",
       "</div>"
      ],
      "text/plain": [
       "      sk_id_curr\n",
       "0         101016\n",
       "1         109918\n",
       "2         119663\n",
       "3         123614\n",
       "4         129220\n",
       "...          ...\n",
       "5051      125592\n",
       "5052      230121\n",
       "5053      232676\n",
       "5054      297004\n",
       "5055      365770\n",
       "\n",
       "[5056 rows x 1 columns]"
      ]
     },
     "execution_count": 29,
     "metadata": {},
     "output_type": "execute_result"
    }
   ],
   "source": [
    "%%time\n",
    "\n",
    "query = \"\"\"\n",
    "WITH cliend_hight_60 AS (\n",
    "        SELECT sk_id_curr, \n",
    "               (FLOOR(ABS(days_birth) / 365)) AS age_cliens\n",
    "        FROM application_train_test)\n",
    "        \n",
    "    \n",
    "        \n",
    "SELECT cliend_hight_60.sk_id_curr\n",
    "FROM cliend_hight_60\n",
    "LEFT JOIN bureau ON cliend_hight_60.sk_id_curr = bureau.sk_id_curr\n",
    "WHERE age_cliens > 60 AND bureau.sk_id_bureau IS NULL\n",
    "\"\"\"\n",
    "get_df_from_query(query, DB_ARGS)"
   ]
  },
  {
   "cell_type": "code",
   "execution_count": 30,
   "id": "ed6523f5",
   "metadata": {},
   "outputs": [],
   "source": [
    "# вывести женщин, у которых в истории bureau было больше двух кредитов, просроченных на 61 день и более\n",
    "# отсортировать в порядке убывания по кол-ву таких кредитов"
   ]
  },
  {
   "cell_type": "code",
   "execution_count": 46,
   "id": "1a279265",
   "metadata": {
    "tags": []
   },
   "outputs": [
    {
     "name": "stdout",
     "output_type": "stream",
     "text": [
      "CPU times: total: 15.6 ms\n",
      "Wall time: 1.36 s\n"
     ]
    },
    {
     "data": {
      "text/html": [
       "<div>\n",
       "<style scoped>\n",
       "    .dataframe tbody tr th:only-of-type {\n",
       "        vertical-align: middle;\n",
       "    }\n",
       "\n",
       "    .dataframe tbody tr th {\n",
       "        vertical-align: top;\n",
       "    }\n",
       "\n",
       "    .dataframe thead th {\n",
       "        text-align: right;\n",
       "    }\n",
       "</style>\n",
       "<table border=\"1\" class=\"dataframe\">\n",
       "  <thead>\n",
       "    <tr style=\"text-align: right;\">\n",
       "      <th></th>\n",
       "      <th>id_client</th>\n",
       "      <th>count_credit</th>\n",
       "    </tr>\n",
       "  </thead>\n",
       "  <tbody>\n",
       "    <tr>\n",
       "      <th>0</th>\n",
       "      <td>264144</td>\n",
       "      <td>5</td>\n",
       "    </tr>\n",
       "    <tr>\n",
       "      <th>1</th>\n",
       "      <td>142384</td>\n",
       "      <td>4</td>\n",
       "    </tr>\n",
       "    <tr>\n",
       "      <th>2</th>\n",
       "      <td>114166</td>\n",
       "      <td>3</td>\n",
       "    </tr>\n",
       "    <tr>\n",
       "      <th>3</th>\n",
       "      <td>337741</td>\n",
       "      <td>3</td>\n",
       "    </tr>\n",
       "    <tr>\n",
       "      <th>4</th>\n",
       "      <td>374345</td>\n",
       "      <td>3</td>\n",
       "    </tr>\n",
       "    <tr>\n",
       "      <th>5</th>\n",
       "      <td>375724</td>\n",
       "      <td>3</td>\n",
       "    </tr>\n",
       "    <tr>\n",
       "      <th>6</th>\n",
       "      <td>431820</td>\n",
       "      <td>3</td>\n",
       "    </tr>\n",
       "    <tr>\n",
       "      <th>7</th>\n",
       "      <td>436084</td>\n",
       "      <td>3</td>\n",
       "    </tr>\n",
       "  </tbody>\n",
       "</table>\n",
       "</div>"
      ],
      "text/plain": [
       "   id_client  count_credit\n",
       "0     264144             5\n",
       "1     142384             4\n",
       "2     114166             3\n",
       "3     337741             3\n",
       "4     374345             3\n",
       "5     375724             3\n",
       "6     431820             3\n",
       "7     436084             3"
      ]
     },
     "execution_count": 46,
     "metadata": {},
     "output_type": "execute_result"
    }
   ],
   "source": [
    "%%time\n",
    "\n",
    "query = \"\"\"\n",
    "WITH person_overdue AS (\n",
    "        SELECT app_tt.sk_id_curr AS id_client,\n",
    "               bureau.credit_day_overdue,\n",
    "               COUNT(app_tt.sk_id_curr) OVER (PARTITION BY app_tt.sk_id_curr) AS count_credit\n",
    "        FROM application_train_test AS app_tt\n",
    "        LEFT JOIN bureau ON app_tt.sk_id_curr = bureau.sk_id_curr\n",
    "        WHERE code_gender = 'F' and bureau.credit_day_overdue >= 61)\n",
    "\n",
    "SELECT DISTINCT(id_client),\n",
    "       count_credit\n",
    "FROM person_overdue\n",
    "WHERE count_credit > 2\n",
    "ORDER BY count_credit DESC\n",
    "\"\"\"\n",
    "get_df_from_query(query, DB_ARGS)"
   ]
  },
  {
   "cell_type": "code",
   "execution_count": null,
   "id": "7dd2a85c",
   "metadata": {},
   "outputs": [],
   "source": [
    "# по данным из bureau (БКИ) расчитать долю просрочки в активных займах для каждого клиента\n",
    "# вывести топ 7 мужчин с наибольшей суммой просрочки, указав для них, помимо прочего,\n",
    "# сумму активных кредитов и суммы всех кредитов (активных и закрытых)."
   ]
  },
  {
   "cell_type": "code",
   "execution_count": 95,
   "id": "74ff9254-eed3-47db-ad23-0b118af777fc",
   "metadata": {
    "tags": []
   },
   "outputs": [
    {
     "name": "stdout",
     "output_type": "stream",
     "text": [
      "CPU times: total: 15.6 ms\n",
      "Wall time: 13.7 s\n"
     ]
    },
    {
     "data": {
      "text/html": [
       "<div>\n",
       "<style scoped>\n",
       "    .dataframe tbody tr th:only-of-type {\n",
       "        vertical-align: middle;\n",
       "    }\n",
       "\n",
       "    .dataframe tbody tr th {\n",
       "        vertical-align: top;\n",
       "    }\n",
       "\n",
       "    .dataframe thead th {\n",
       "        text-align: right;\n",
       "    }\n",
       "</style>\n",
       "<table border=\"1\" class=\"dataframe\">\n",
       "  <thead>\n",
       "    <tr style=\"text-align: right;\">\n",
       "      <th></th>\n",
       "      <th>sk_id_curr</th>\n",
       "      <th>part_of_overdue</th>\n",
       "      <th>curr_sum_overdue</th>\n",
       "      <th>curr_active_credit</th>\n",
       "      <th>credit_sum</th>\n",
       "    </tr>\n",
       "  </thead>\n",
       "  <tbody>\n",
       "    <tr>\n",
       "      <th>0</th>\n",
       "      <td>355093</td>\n",
       "      <td>0.878756</td>\n",
       "      <td>3756681.000</td>\n",
       "      <td>4275000.0</td>\n",
       "      <td>4275000.0</td>\n",
       "    </tr>\n",
       "    <tr>\n",
       "      <th>1</th>\n",
       "      <td>121845</td>\n",
       "      <td>0.923688</td>\n",
       "      <td>2387232.000</td>\n",
       "      <td>2584458.0</td>\n",
       "      <td>2584458.0</td>\n",
       "    </tr>\n",
       "    <tr>\n",
       "      <th>2</th>\n",
       "      <td>142384</td>\n",
       "      <td>0.140314</td>\n",
       "      <td>2079509.895</td>\n",
       "      <td>14820399.0</td>\n",
       "      <td>14820399.0</td>\n",
       "    </tr>\n",
       "    <tr>\n",
       "      <th>3</th>\n",
       "      <td>264144</td>\n",
       "      <td>0.520968</td>\n",
       "      <td>1958260.500</td>\n",
       "      <td>3758890.5</td>\n",
       "      <td>3758890.5</td>\n",
       "    </tr>\n",
       "    <tr>\n",
       "      <th>4</th>\n",
       "      <td>174099</td>\n",
       "      <td>0.680128</td>\n",
       "      <td>1617403.500</td>\n",
       "      <td>2378088.0</td>\n",
       "      <td>2378088.0</td>\n",
       "    </tr>\n",
       "    <tr>\n",
       "      <th>5</th>\n",
       "      <td>226707</td>\n",
       "      <td>14.705493</td>\n",
       "      <td>1361214.000</td>\n",
       "      <td>92565.0</td>\n",
       "      <td>92565.0</td>\n",
       "    </tr>\n",
       "    <tr>\n",
       "      <th>6</th>\n",
       "      <td>175940</td>\n",
       "      <td>0.616354</td>\n",
       "      <td>1146667.500</td>\n",
       "      <td>1860403.5</td>\n",
       "      <td>1860403.5</td>\n",
       "    </tr>\n",
       "  </tbody>\n",
       "</table>\n",
       "</div>"
      ],
      "text/plain": [
       "   sk_id_curr  part_of_overdue  curr_sum_overdue  curr_active_credit  \\\n",
       "0      355093         0.878756       3756681.000           4275000.0   \n",
       "1      121845         0.923688       2387232.000           2584458.0   \n",
       "2      142384         0.140314       2079509.895          14820399.0   \n",
       "3      264144         0.520968       1958260.500           3758890.5   \n",
       "4      174099         0.680128       1617403.500           2378088.0   \n",
       "5      226707        14.705493       1361214.000             92565.0   \n",
       "6      175940         0.616354       1146667.500           1860403.5   \n",
       "\n",
       "   credit_sum  \n",
       "0   4275000.0  \n",
       "1   2584458.0  \n",
       "2  14820399.0  \n",
       "3   3758890.5  \n",
       "4   2378088.0  \n",
       "5     92565.0  \n",
       "6   1860403.5  "
      ]
     },
     "execution_count": 95,
     "metadata": {},
     "output_type": "execute_result"
    }
   ],
   "source": [
    "%%time\n",
    "\n",
    "'''\n",
    "part_of_overdue - извлекаем необходимые данные для дальнейшей обработки \n",
    "(id, текущую сумму задолженности, сумма кредитов и статус активный кредит или нет)\n",
    "\n",
    "intermediate_request - избавляемся от деления на 0,\n",
    "                       рассчитываем долю просрочки в активных займах,\n",
    "                       создаем отдельный столбец активный кредит,\n",
    "                       считаем общую сумму кредитов активных и закрытых\n",
    "\n",
    "Основной запрос - выборка согласно условиям задачи (топ 7 мужчин с наибольшей суммой просрочки)\n",
    "'''\n",
    "\n",
    "query = \"\"\"\n",
    "WITH part_of_overdue AS (\n",
    "        SELECT app_tt.sk_id_curr AS sk_id_curr, \n",
    "               SUM(bureau.amt_credit_sum_overdue) AS curr_sum_overdue,\n",
    "               SUM(bureau.amt_credit_sum) AS credit_sum,\n",
    "               bureau.credit_active AS status_credit\n",
    "        FROM bureau\n",
    "        LEFT JOIN application_train_test AS app_tt ON app_tt.sk_id_curr = bureau.sk_id_curr\n",
    "        WHERE app_tt.code_gender = 'F'\n",
    "        GROUP BY app_tt.sk_id_curr, bureau.credit_active, app_tt.code_gender),\n",
    "        \n",
    "    intermediate_request AS (\n",
    "        SELECT sk_id_curr,\n",
    "                CASE\n",
    "                   WHEN status_credit = 'Active' THEN SUM(curr_sum_overdue) / SUM(credit_sum)\n",
    "                   ELSE 0\n",
    "                END AS part_of_overdue,\n",
    "                SUM(curr_sum_overdue) AS curr_sum_overdue,\n",
    "                SUM(credit_sum) AS credit_sum,\n",
    "                CASE\n",
    "                   WHEN status_credit = 'Active' THEN SUM(credit_sum)\n",
    "                   ELSE 0\n",
    "                END AS curr_active_credit,\n",
    "                status_credit\n",
    "        FROM part_of_overdue\n",
    "        WHERE credit_sum > 0\n",
    "        GROUP BY sk_id_curr, status_credit\n",
    "        ORDER BY part_of_overdue DESC)\n",
    "        \n",
    "SELECT sk_id_curr,\n",
    "        part_of_overdue,\n",
    "        curr_sum_overdue,\n",
    "        curr_active_credit,\n",
    "        credit_sum\n",
    "        \n",
    "FROM intermediate_request\n",
    "ORDER BY curr_sum_overdue DESC\n",
    "LIMIT 7\n",
    "\"\"\"\n",
    "get_df_from_query(query, DB_ARGS)"
   ]
  }
 ],
 "metadata": {
  "kernelspec": {
   "display_name": "Python 3 (ipykernel)",
   "language": "python",
   "name": "python3"
  },
  "language_info": {
   "codemirror_mode": {
    "name": "ipython",
    "version": 3
   },
   "file_extension": ".py",
   "mimetype": "text/x-python",
   "name": "python",
   "nbconvert_exporter": "python",
   "pygments_lexer": "ipython3",
   "version": "3.10.4"
  }
 },
 "nbformat": 4,
 "nbformat_minor": 5
}
