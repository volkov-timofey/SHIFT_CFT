{
  "cells": [
    {
      "cell_type": "markdown",
      "metadata": {
        "id": "n8pAhEfbULBw"
      },
      "source": [
        "## Загрузка данных"
      ]
    },
    {
      "cell_type": "code",
      "execution_count": null,
      "metadata": {
        "id": "vUsokIQ0svwS"
      },
      "outputs": [],
      "source": [
        "main_dir = '/content/metric_learning_classifire'\n",
        "zip_file = '/Fruits_Vegetables.zip'\n",
        "data_dir = '/data'\n",
        "train_dir = '/train'\n",
        "test_dir = '/test'\n",
        "save_path_ = '/checkpoint/'\n",
        "\n",
        "# wandb\n",
        "path_wandb = 'volkov-timm/image_recognition/dataset:v0'\n",
        "filename = 'Fruits_Vegetables.zip'\n",
        "unpack_path = main_dir + '/data'\n",
        "\n",
        "# train:\n",
        "pretrained = True\n",
        "#model = models.resnet18(pretrained=pretrained).to(device)\n",
        "lr = 3e-4\n",
        "gamma = 0.5\n",
        "weight = None\n",
        "size_average = None\n",
        "\n",
        "epochs = 1\n",
        "batch_size = 32"
      ]
    },
    {
      "cell_type": "code",
      "execution_count": null,
      "metadata": {
        "id": "aqcAeK4WUTJr",
        "colab": {
          "base_uri": "https://localhost:8080/"
        },
        "outputId": "1ea83481-0cc1-4864-99cf-5e2ecd357410"
      },
      "outputs": [
        {
          "output_type": "stream",
          "name": "stdout",
          "text": [
            "\u001b[2K     \u001b[90m━━━━━━━━━━━━━━━━━━━━━━━━━━━━━━━━━━━━━━━━\u001b[0m \u001b[32m2.0/2.0 MB\u001b[0m \u001b[31m17.8 MB/s\u001b[0m eta \u001b[36m0:00:00\u001b[0m\n",
            "\u001b[2K     \u001b[90m━━━━━━━━━━━━━━━━━━━━━━━━━━━━━━━━━━━━━━━\u001b[0m \u001b[32m189.1/189.1 KB\u001b[0m \u001b[31m8.5 MB/s\u001b[0m eta \u001b[36m0:00:00\u001b[0m\n",
            "\u001b[?25h  Preparing metadata (setup.py) ... \u001b[?25l\u001b[?25hdone\n",
            "\u001b[2K     \u001b[90m━━━━━━━━━━━━━━━━━━━━━━━━━━━━━━━━━━━━━━\u001b[0m \u001b[32m184.3/184.3 KB\u001b[0m \u001b[31m12.4 MB/s\u001b[0m eta \u001b[36m0:00:00\u001b[0m\n",
            "\u001b[2K     \u001b[90m━━━━━━━━━━━━━━━━━━━━━━━━━━━━━━━━━━━━━━━━\u001b[0m \u001b[32m62.7/62.7 KB\u001b[0m \u001b[31m5.7 MB/s\u001b[0m eta \u001b[36m0:00:00\u001b[0m\n",
            "\u001b[?25h  Building wheel for pathtools (setup.py) ... \u001b[?25l\u001b[?25hdone\n",
            "\u001b[2K     \u001b[90m━━━━━━━━━━━━━━━━━━━━━━━━━━━━━━━━━━━━━━━\u001b[0m \u001b[32m109.3/109.3 KB\u001b[0m \u001b[31m4.4 MB/s\u001b[0m eta \u001b[36m0:00:00\u001b[0m\n",
            "\u001b[2K     \u001b[90m━━━━━━━━━━━━━━━━━━━━━━━━━━━━━━━━━━━━━━━━\u001b[0m \u001b[32m85.5/85.5 MB\u001b[0m \u001b[31m12.9 MB/s\u001b[0m eta \u001b[36m0:00:00\u001b[0m\n",
            "\u001b[2K     \u001b[90m━━━━━━━━━━━━━━━━━━━━━━━━━━━━━━━━━━━━━━━━\u001b[0m \u001b[32m88.2/88.2 KB\u001b[0m \u001b[31m3.6 MB/s\u001b[0m eta \u001b[36m0:00:00\u001b[0m\n",
            "\u001b[?25h  Preparing metadata (setup.py) ... \u001b[?25l\u001b[?25hdone\n",
            "\u001b[2K     \u001b[90m━━━━━━━━━━━━━━━━━━━━━━━━━━━━━━━━━━━━━━━━\u001b[0m \u001b[32m1.1/1.1 MB\u001b[0m \u001b[31m24.8 MB/s\u001b[0m eta \u001b[36m0:00:00\u001b[0m\n",
            "\u001b[?25h  Preparing metadata (setup.py) ... \u001b[?25l\u001b[?25hdone\n",
            "  Building wheel for umap-learn (setup.py) ... \u001b[?25l\u001b[?25hdone\n",
            "  Building wheel for pynndescent (setup.py) ... \u001b[?25l\u001b[?25hdone\n",
            "\u001b[2K     \u001b[90m━━━━━━━━━━━━━━━━━━━━━━━━━━━━━━━━━━━━━━━\u001b[0m \u001b[32m123.5/123.5 KB\u001b[0m \u001b[31m4.0 MB/s\u001b[0m eta \u001b[36m0:00:00\u001b[0m\n",
            "\u001b[?25h"
          ]
        }
      ],
      "source": [
        "# IMPORTS -q\n",
        "!pip install -q wandb \n",
        "!pip install -q pytorch-metric-learning[with-hooks]"
      ]
    },
    {
      "cell_type": "code",
      "execution_count": null,
      "metadata": {
        "id": "8_2q2QEcUg09"
      },
      "outputs": [],
      "source": [
        "# download data\n",
        "import shutil\n",
        "#import config\n",
        "import wandb\n",
        "from pathlib import Path\n",
        "import os\n",
        "\n",
        "\n",
        "def data_extract(filename: str, extract_dir:str) -> None:\n",
        "    \"\"\"\n",
        "    Скачивание датасета\n",
        "    Распаковка архива в необходимую директорию\n",
        "\n",
        "    filename - путь до датасета /.zip\n",
        "    extract_dir - директория для извлечения\n",
        "    \"\"\"\n",
        "    if Path(extract_dir).is_dir() == False:\n",
        "      os.makedirs(extract_dir)\n",
        "      \n",
        "      run = wandb.init()\n",
        "      artifact = run.use_artifact(path_wandb, type='dataset')\n",
        "      artifact.download(extract_dir)\n",
        "\n",
        "      shutil.unpack_archive(filename, extract_dir)\n",
        "      os.remove(filename)\n"
      ]
    },
    {
      "cell_type": "code",
      "execution_count": null,
      "metadata": {
        "id": "Q8mo2RMXU7CW",
        "colab": {
          "base_uri": "https://localhost:8080/",
          "height": 191
        },
        "outputId": "d0d50b44-69c6-4136-be38-039bf964d83b"
      },
      "outputs": [
        {
          "output_type": "display_data",
          "data": {
            "text/plain": [
              "<IPython.core.display.Javascript object>"
            ],
            "application/javascript": [
              "\n",
              "        window._wandbApiKey = new Promise((resolve, reject) => {\n",
              "            function loadScript(url) {\n",
              "            return new Promise(function(resolve, reject) {\n",
              "                let newScript = document.createElement(\"script\");\n",
              "                newScript.onerror = reject;\n",
              "                newScript.onload = resolve;\n",
              "                document.body.appendChild(newScript);\n",
              "                newScript.src = url;\n",
              "            });\n",
              "            }\n",
              "            loadScript(\"https://cdn.jsdelivr.net/npm/postmate/build/postmate.min.js\").then(() => {\n",
              "            const iframe = document.createElement('iframe')\n",
              "            iframe.style.cssText = \"width:0;height:0;border:none\"\n",
              "            document.body.appendChild(iframe)\n",
              "            const handshake = new Postmate({\n",
              "                container: iframe,\n",
              "                url: 'https://wandb.ai/authorize'\n",
              "            });\n",
              "            const timeout = setTimeout(() => reject(\"Couldn't auto authenticate\"), 5000)\n",
              "            handshake.then(function(child) {\n",
              "                child.on('authorize', data => {\n",
              "                    clearTimeout(timeout)\n",
              "                    resolve(data)\n",
              "                });\n",
              "            });\n",
              "            })\n",
              "        });\n",
              "    "
            ]
          },
          "metadata": {}
        },
        {
          "output_type": "stream",
          "name": "stderr",
          "text": [
            "\u001b[34m\u001b[1mwandb\u001b[0m: Appending key for api.wandb.ai to your netrc file: /root/.netrc\n"
          ]
        },
        {
          "output_type": "display_data",
          "data": {
            "text/plain": [
              "<IPython.core.display.HTML object>"
            ],
            "text/html": [
              "Tracking run with wandb version 0.14.0"
            ]
          },
          "metadata": {}
        },
        {
          "output_type": "display_data",
          "data": {
            "text/plain": [
              "<IPython.core.display.HTML object>"
            ],
            "text/html": [
              "Run data is saved locally in <code>/content/wandb/run-20230322_105554-3d1lq4y0</code>"
            ]
          },
          "metadata": {}
        },
        {
          "output_type": "display_data",
          "data": {
            "text/plain": [
              "<IPython.core.display.HTML object>"
            ],
            "text/html": [
              "Syncing run <strong><a href='https://wandb.ai/volkov-timm/uncategorized/runs/3d1lq4y0' target=\"_blank\">morning-donkey-58</a></strong> to <a href='https://wandb.ai/volkov-timm/uncategorized' target=\"_blank\">Weights & Biases</a> (<a href='https://wandb.me/run' target=\"_blank\">docs</a>)<br/>"
            ]
          },
          "metadata": {}
        },
        {
          "output_type": "display_data",
          "data": {
            "text/plain": [
              "<IPython.core.display.HTML object>"
            ],
            "text/html": [
              " View project at <a href='https://wandb.ai/volkov-timm/uncategorized' target=\"_blank\">https://wandb.ai/volkov-timm/uncategorized</a>"
            ]
          },
          "metadata": {}
        },
        {
          "output_type": "display_data",
          "data": {
            "text/plain": [
              "<IPython.core.display.HTML object>"
            ],
            "text/html": [
              " View run at <a href='https://wandb.ai/volkov-timm/uncategorized/runs/3d1lq4y0' target=\"_blank\">https://wandb.ai/volkov-timm/uncategorized/runs/3d1lq4y0</a>"
            ]
          },
          "metadata": {}
        },
        {
          "output_type": "stream",
          "name": "stderr",
          "text": [
            "\u001b[34m\u001b[1mwandb\u001b[0m: Downloading large artifact dataset:v0, 2032.05MB. 1 files... \n",
            "\u001b[34m\u001b[1mwandb\u001b[0m:   1 of 1 files downloaded.  \n",
            "Done. 0:0:22.1\n"
          ]
        }
      ],
      "source": [
        "data_extract(\n",
        "      main_dir + data_dir + zip_file,\n",
        "      main_dir + data_dir\n",
        "    )"
      ]
    },
    {
      "cell_type": "code",
      "execution_count": null,
      "metadata": {
        "id": "LsQrMAmDVAo0"
      },
      "outputs": [],
      "source": [
        "# create df\n",
        "\n",
        "import glob\n",
        "import cv2\n",
        "import pandas as pd\n",
        "from sklearn import preprocessing\n",
        "from pathlib import Path\n",
        "\n",
        "def pivot_df_data(\n",
        "    data_path: str\n",
        ") -> pd.DataFrame:\n",
        "    '''\n",
        "    Create data frame train and test data\n",
        "    path|str(label)|train or test|int(label)\n",
        "    '''\n",
        "    \n",
        "    p = Path(data_path)\n",
        "\n",
        "    labels = [x.name for x in p.iterdir()]\n",
        "    le = preprocessing.LabelEncoder()\n",
        "    targets = le.fit_transform(labels)\n",
        "\n",
        "    # Датафрейм для работы с данными\n",
        "    for img_ in glob.glob((data_path + '/*/*/*.p*')):\n",
        "      png_img = cv2.imread(img_)\n",
        "        \n",
        "      # converting png_to_jpg\n",
        "      cv2.imwrite(\n",
        "          img_[:-4] + '.jpg',\n",
        "          png_img,\n",
        "          [int(cv2.IMWRITE_JPEG_QUALITY), 100]\n",
        "          )\n",
        "\n",
        "    df = pd.DataFrame({'image': glob.glob((data_path + '/*/*/*.j*'))})\n",
        "    df['label'] = df['image'].apply(lambda p: p.split('/')[-2])\n",
        "    df['split'] = df['image'].apply(lambda p: p.split('/')[-3])\n",
        "    df['int_label'] = le.fit_transform(df['label'])\n",
        "\n",
        "    return df"
      ]
    },
    {
      "cell_type": "code",
      "execution_count": null,
      "metadata": {
        "id": "ZRR1UBmNVdrR"
      },
      "outputs": [],
      "source": [
        "df = pivot_df_data(main_dir + data_dir)"
      ]
    },
    {
      "cell_type": "code",
      "execution_count": null,
      "metadata": {
        "id": "1touPrb4Vklj"
      },
      "outputs": [],
      "source": [
        "num_class = df[df['split'] == 'train']['label'].value_counts().shape[0]"
      ]
    },
    {
      "cell_type": "code",
      "execution_count": null,
      "metadata": {
        "colab": {
          "base_uri": "https://localhost:8080/"
        },
        "id": "EP0kUh_YVwax",
        "outputId": "b37a9432-a979-4123-81da-c5874ca7a7f2"
      },
      "outputs": [
        {
          "output_type": "stream",
          "name": "stderr",
          "text": [
            "INFO:root:VERSION 2.0.1\n"
          ]
        }
      ],
      "source": [
        "%matplotlib inline\n",
        "import logging\n",
        "\n",
        "import matplotlib.pyplot as plt\n",
        "import numpy as np\n",
        "import torch\n",
        "import torch.nn as nn\n",
        "import torchvision\n",
        "import umap\n",
        "from cycler import cycler\n",
        "from PIL import Image\n",
        "from torchvision import datasets, transforms\n",
        "import albumentations as A\n",
        "from albumentations.pytorch import ToTensorV2 as ToTensor\n",
        "\n",
        "import pytorch_metric_learning\n",
        "import pytorch_metric_learning.utils.logging_presets as logging_presets\n",
        "from pytorch_metric_learning import losses, miners, samplers, testers, trainers\n",
        "from pytorch_metric_learning.utils.accuracy_calculator import AccuracyCalculator\n",
        "import torch\n",
        "import torch.nn as nn\n",
        "import torch.nn.functional as F\n",
        "import torch.optim as optim\n",
        "from torchvision import datasets, transforms\n",
        "\n",
        "from pytorch_metric_learning import losses, testers\n",
        "from pytorch_metric_learning.utils.accuracy_calculator import AccuracyCalculator\n",
        "\n",
        "# посмотреть как работает\n",
        "logging.getLogger().setLevel(logging.INFO)\n",
        "logging.info(\"VERSION %s\" % pytorch_metric_learning.__version__)"
      ]
    },
    {
      "cell_type": "markdown",
      "metadata": {
        "id": "YvegB3dz0n1T"
      },
      "source": [
        "### Create embedding"
      ]
    },
    {
      "cell_type": "markdown",
      "metadata": {
        "id": "xYV_FLZo4FUf"
      },
      "source": [
        "# Transform"
      ]
    },
    {
      "cell_type": "code",
      "execution_count": null,
      "metadata": {
        "id": "-Slwb8_sV_R2"
      },
      "outputs": [],
      "source": [
        "device = torch.device(\"cuda\" if torch.cuda.is_available() else \"cpu\")\n",
        "\n",
        "image_size = 224\n",
        "\n",
        "train_transform = transforms.Compose([\n",
        "                transforms.Resize((image_size, image_size)),\n",
        "                transforms.RandomHorizontalFlip(),\n",
        "                transforms.ToTensor(),\n",
        "                transforms.Normalize((0.4914, 0.4822, 0.4465), \n",
        "                                     (0.2023, 0.1994, 0.2010)),\n",
        "            ])\n",
        "val_transform = transforms.Compose([\n",
        "        transforms.Resize((image_size, image_size)),\n",
        "        transforms.ToTensor(),\n",
        "        transforms.Normalize((0.4914, 0.4822, 0.4465), \n",
        "                             (0.2023, 0.1994, 0.2010)),\n",
        "    ])\n",
        "\n",
        "batch_size = 32"
      ]
    },
    {
      "cell_type": "markdown",
      "metadata": {
        "id": "RvoceSdl4JuD"
      },
      "source": [
        "# DataSet"
      ]
    },
    {
      "cell_type": "code",
      "execution_count": null,
      "metadata": {
        "id": "pVcttdMOX1v7"
      },
      "outputs": [],
      "source": [
        "from torch.utils.data import Dataset\n",
        "from PIL import Image\n",
        "from typing import Tuple\n",
        "from torchvision.transforms import transforms\n",
        "import torch\n",
        "import pandas as pd\n",
        "\n",
        "class CastomDataset(Dataset):\n",
        "    \n",
        "    def __init__(self, df: pd.DataFrame, mode, transforms=None):\n",
        "        self.df = df[df.split == mode]\n",
        "        self.transforms = transforms\n",
        "    \n",
        "    def __getitem__(self, index: int) -> Tuple[torch.Tensor, int]:\n",
        "        row = self.df.iloc[index, :]\n",
        "        # принудительно конвертируем в RGB из RGBA\n",
        "        image = Image.open(row['image']).convert('RGB')\n",
        "\n",
        "        label = row['int_label']\n",
        "\n",
        "        if self.transforms:\n",
        "            image = self.transforms(image)\n",
        "\n",
        "        return image, label\n",
        "    \n",
        "    def __len__(self):\n",
        "        return len(self.df)"
      ]
    },
    {
      "cell_type": "code",
      "execution_count": null,
      "metadata": {
        "id": "4ShNGiA1YE3O"
      },
      "outputs": [],
      "source": [
        "train_dataset = CastomDataset(\n",
        "    df, \n",
        "    mode='train',\n",
        "    transforms=train_transform\n",
        ")\n",
        "\n",
        "val_dataset = CastomDataset(\n",
        "    df, \n",
        "    mode='validation', \n",
        "    transforms=val_transform\n",
        ")\n",
        "\n",
        "test_dataset = CastomDataset(\n",
        "    df, \n",
        "    mode='test', \n",
        "    transforms=val_transform\n",
        ")"
      ]
    },
    {
      "cell_type": "markdown",
      "metadata": {
        "id": "X9HKx83K4Nu7"
      },
      "source": [
        "## Simple NN"
      ]
    },
    {
      "cell_type": "code",
      "execution_count": null,
      "metadata": {
        "id": "TQQXP4Fa4Oz9"
      },
      "outputs": [],
      "source": [
        "class MLP(nn.Module):\n",
        "    \"\"\"\n",
        "    Модель для создания эмбеддингов\n",
        "    layer_sizes: размер поносвязной сети\n",
        "    \"\"\"\n",
        "\n",
        "    def __init__(self, layer_sizes: int, final_relu: bool=False):\n",
        "        super().__init__()\n",
        "        layer_list = []\n",
        "        layer_sizes = [int(x) for x in layer_sizes]\n",
        "        num_layers = len(layer_sizes) - 1\n",
        "        final_relu_layer = num_layers if final_relu else num_layers - 1\n",
        "        for i in range(len(layer_sizes) - 1):\n",
        "            input_size = layer_sizes[i]\n",
        "            curr_size = layer_sizes[i + 1]\n",
        "            if i < final_relu_layer:\n",
        "                layer_list.append(nn.ReLU(inplace=False))\n",
        "            layer_list.append(nn.Linear(input_size, curr_size))\n",
        "        self.net = nn.Sequential(*layer_list)\n",
        "        self.last_linear = self.net[-1]\n",
        "\n",
        "    def forward(self, x):\n",
        "        return self.net(x)"
      ]
    },
    {
      "cell_type": "markdown",
      "metadata": {
        "id": "eI84hEhocsy2"
      },
      "source": [
        "Initialize models, optimizers and image transforms"
      ]
    },
    {
      "cell_type": "code",
      "execution_count": null,
      "metadata": {
        "id": "B_DKo2LEcYdc",
        "colab": {
          "base_uri": "https://localhost:8080/",
          "height": 156,
          "referenced_widgets": [
            "be11047bd98d41c88af4ea9d7cfc1ee8",
            "277415adab124273b52508a23fa56638",
            "a22b31c2b7a14525a3d21e6f2c3f2b6b",
            "e587baff1efe4aa2827c97dbae62c37c",
            "65f686c4db0e456c92ff5026cf4eb35d",
            "dce237b4702e40df9816858a7c00e2d8",
            "f20dbd95f78e4277ae5932b41fc98f07",
            "c33d2b8330bf4598b92a37eeaabbbdcc",
            "d29194f402cc4a299ec6e874b19e27a1",
            "20a78dae1507429789aae54a33f9a9a0",
            "22364d9c346b4e9d89e67f91d9d1f459"
          ]
        },
        "outputId": "42e5007e-7a40-463f-e695-042cf6b8e022"
      },
      "outputs": [
        {
          "output_type": "stream",
          "name": "stderr",
          "text": [
            "/usr/local/lib/python3.9/dist-packages/torchvision/models/_utils.py:208: UserWarning: The parameter 'pretrained' is deprecated since 0.13 and may be removed in the future, please use 'weights' instead.\n",
            "  warnings.warn(\n",
            "/usr/local/lib/python3.9/dist-packages/torchvision/models/_utils.py:223: UserWarning: Arguments other than a weight enum or `None` for 'weights' are deprecated since 0.13 and may be removed in the future. The current behavior is equivalent to passing `weights=ResNet18_Weights.IMAGENET1K_V1`. You can also use `weights=ResNet18_Weights.DEFAULT` to get the most up-to-date weights.\n",
            "  warnings.warn(msg)\n",
            "Downloading: \"https://download.pytorch.org/models/resnet18-f37072fd.pth\" to /root/.cache/torch/hub/checkpoints/resnet18-f37072fd.pth\n"
          ]
        },
        {
          "output_type": "display_data",
          "data": {
            "text/plain": [
              "  0%|          | 0.00/44.7M [00:00<?, ?B/s]"
            ],
            "application/vnd.jupyter.widget-view+json": {
              "version_major": 2,
              "version_minor": 0,
              "model_id": "be11047bd98d41c88af4ea9d7cfc1ee8"
            }
          },
          "metadata": {}
        }
      ],
      "source": [
        "#from pytorch_metric_learning.utils.accuracy_calculator import AccuracyCalculator\n",
        "device = torch.device(\"cuda\" if torch.cuda.is_available() else \"cpu\")\n",
        "\n",
        "# Set trunk model and replace the softmax layer with an identity function\n",
        "trunk = torchvision.models.resnet18(pretrained=True)\n",
        "trunk_output_size = trunk.fc.in_features\n",
        "trunk.fc = nn.Identity()\n",
        "trunk = torch.nn.DataParallel(trunk.to(device))\n",
        "\n",
        "# Set embedder model. This takes in the output of the trunk and outputs 64 dimensional embeddings\n",
        "embedder = torch.nn.DataParallel(MLP([trunk_output_size, 128]).to(device))\n",
        "\n",
        "# Set the classifier. The classifier will take the embeddings and output a 50 dimensional vector.\n",
        "# (Our training set will consist of the first 50 classes of the CIFAR100 dataset.)\n",
        "# We'll specify the classification loss further down in the code.\n",
        "classifier = torch.nn.DataParallel(MLP([128, num_class])).to(device)\n",
        "\n",
        "# Set optimizers\n",
        "trunk_optimizer = torch.optim.Adam(trunk.parameters(), lr=0.00001, weight_decay=0.0001)\n",
        "embedder_optimizer = torch.optim.Adam(\n",
        "    embedder.parameters(), lr=0.0001, weight_decay=0.0001\n",
        ")\n",
        "classifier_optimizer = torch.optim.Adam(\n",
        "    classifier.parameters(), lr=0.0001, weight_decay=0.0001\n",
        ")\n",
        "\n",
        "#accuracy_calculator = AccuracyCalculator(include=(\"precision_at_1\",), k=1)"
      ]
    },
    {
      "cell_type": "code",
      "execution_count": null,
      "metadata": {
        "colab": {
          "base_uri": "https://localhost:8080/",
          "height": 70
        },
        "id": "ba0LNrys6leE",
        "outputId": "89ca961b-b58f-441e-8d39-4ae98bd04064"
      },
      "outputs": [
        {
          "output_type": "execute_result",
          "data": {
            "text/plain": [
              "'\\nfrom pytorch_metric_learning.utils import accuracy_calculator\\n\\nclass YourCalculator(accuracy_calculator.AccuracyCalculator):\\n    def mean_average_precision_at_18(self, knn_labels, query_labels, **kwargs):\\n        return accuracy_calculator.mean_average_precision_at_r(knn_labels, query_labels[:, None], 6)\\n        '"
            ],
            "application/vnd.google.colaboratory.intrinsic+json": {
              "type": "string"
            }
          },
          "metadata": {},
          "execution_count": 14
        }
      ],
      "source": [
        "'''\n",
        "from pytorch_metric_learning.utils import accuracy_calculator\n",
        "\n",
        "class YourCalculator(accuracy_calculator.AccuracyCalculator):\n",
        "    def mean_average_precision_at_18(self, knn_labels, query_labels, **kwargs):\n",
        "        return accuracy_calculator.mean_average_precision_at_r(knn_labels, query_labels[:, None], 6)\n",
        "        '''"
      ]
    },
    {
      "cell_type": "code",
      "execution_count": null,
      "metadata": {
        "colab": {
          "base_uri": "https://localhost:8080/"
        },
        "id": "rjgmukRVkBkX",
        "outputId": "b977bae8-9bb9-4676-fd01-a895dd31ea72"
      },
      "outputs": [
        {
          "output_type": "execute_result",
          "data": {
            "text/plain": [
              "Index(['image', 'label', 'split', 'int_label'], dtype='object')"
            ]
          },
          "metadata": {},
          "execution_count": 15
        }
      ],
      "source": [
        "df.columns"
      ]
    },
    {
      "cell_type": "code",
      "execution_count": null,
      "metadata": {
        "id": "XfnlNigQhgAF"
      },
      "outputs": [],
      "source": [
        "train_labels = df[df['split'] == 'train']['int_label']"
      ]
    },
    {
      "cell_type": "code",
      "execution_count": null,
      "metadata": {
        "colab": {
          "base_uri": "https://localhost:8080/",
          "height": 272,
          "referenced_widgets": [
            "5832c6e329c94828a8f2ae86996ce841",
            "97fa3d354b8f44c998efdd7b20356e94",
            "21133a97f45d4c6caa790f70d2780d2b",
            "25686b68cbf549eb8419872515d4f766",
            "452f3feedc75415d8b501872b82fcfb6",
            "9fe9873b1b754149843f2068f5e5caf3",
            "e17c10902bbc4c6f9c7e1f3ddb9ea278",
            "37a67fb643374a83a632cd320bb08a85"
          ]
        },
        "id": "Hl7cfLR_dFP5",
        "outputId": "d93aef88-7525-480f-e6f1-2d14dca52365"
      },
      "outputs": [
        {
          "output_type": "display_data",
          "data": {
            "text/plain": [
              "<IPython.core.display.HTML object>"
            ],
            "text/html": [
              "Finishing last run (ID:3d1lq4y0) before initializing another..."
            ]
          },
          "metadata": {}
        },
        {
          "output_type": "display_data",
          "data": {
            "text/plain": [
              "<IPython.core.display.HTML object>"
            ],
            "text/html": [
              "Waiting for W&B process to finish... <strong style=\"color:green\">(success).</strong>"
            ]
          },
          "metadata": {}
        },
        {
          "output_type": "display_data",
          "data": {
            "text/plain": [
              "VBox(children=(Label(value='0.001 MB of 0.001 MB uploaded (0.000 MB deduped)\\r'), FloatProgress(value=1.0, max…"
            ],
            "application/vnd.jupyter.widget-view+json": {
              "version_major": 2,
              "version_minor": 0,
              "model_id": "5832c6e329c94828a8f2ae86996ce841"
            }
          },
          "metadata": {}
        },
        {
          "output_type": "display_data",
          "data": {
            "text/plain": [
              "<IPython.core.display.HTML object>"
            ],
            "text/html": [
              " View run <strong style=\"color:#cdcd00\">morning-donkey-58</strong> at: <a href='https://wandb.ai/volkov-timm/uncategorized/runs/3d1lq4y0' target=\"_blank\">https://wandb.ai/volkov-timm/uncategorized/runs/3d1lq4y0</a><br/>Synced 5 W&B file(s), 0 media file(s), 0 artifact file(s) and 0 other file(s)"
            ]
          },
          "metadata": {}
        },
        {
          "output_type": "display_data",
          "data": {
            "text/plain": [
              "<IPython.core.display.HTML object>"
            ],
            "text/html": [
              "Find logs at: <code>./wandb/run-20230322_105554-3d1lq4y0/logs</code>"
            ]
          },
          "metadata": {}
        },
        {
          "output_type": "display_data",
          "data": {
            "text/plain": [
              "<IPython.core.display.HTML object>"
            ],
            "text/html": [
              "Successfully finished last run (ID:3d1lq4y0). Initializing new run:<br/>"
            ]
          },
          "metadata": {}
        },
        {
          "output_type": "display_data",
          "data": {
            "text/plain": [
              "<IPython.core.display.HTML object>"
            ],
            "text/html": [
              "Tracking run with wandb version 0.14.0"
            ]
          },
          "metadata": {}
        },
        {
          "output_type": "display_data",
          "data": {
            "text/plain": [
              "<IPython.core.display.HTML object>"
            ],
            "text/html": [
              "Run data is saved locally in <code>/content/wandb/run-20230322_105723-9iei8guc</code>"
            ]
          },
          "metadata": {}
        },
        {
          "output_type": "display_data",
          "data": {
            "text/plain": [
              "<IPython.core.display.HTML object>"
            ],
            "text/html": [
              "Syncing run <strong><a href='https://wandb.ai/volkov-timm/metric-learning/runs/9iei8guc' target=\"_blank\">stellar-music-17</a></strong> to <a href='https://wandb.ai/volkov-timm/metric-learning' target=\"_blank\">Weights & Biases</a> (<a href='https://wandb.me/run' target=\"_blank\">docs</a>)<br/>"
            ]
          },
          "metadata": {}
        },
        {
          "output_type": "display_data",
          "data": {
            "text/plain": [
              "<IPython.core.display.HTML object>"
            ],
            "text/html": [
              " View project at <a href='https://wandb.ai/volkov-timm/metric-learning' target=\"_blank\">https://wandb.ai/volkov-timm/metric-learning</a>"
            ]
          },
          "metadata": {}
        },
        {
          "output_type": "display_data",
          "data": {
            "text/plain": [
              "<IPython.core.display.HTML object>"
            ],
            "text/html": [
              " View run at <a href='https://wandb.ai/volkov-timm/metric-learning/runs/9iei8guc' target=\"_blank\">https://wandb.ai/volkov-timm/metric-learning/runs/9iei8guc</a>"
            ]
          },
          "metadata": {}
        }
      ],
      "source": [
        "wandb.init(project='metric-learning')\n",
        "\n",
        "# Set the loss function\n",
        "loss = losses.CosFaceLoss(num_classes=num_class, embedding_size=128).to(device)\n",
        "#loss = losses.SubCenterArcFaceLoss(num_classes=num_class, embedding_size=128).to(device)\n",
        "#loss = losses.TripletMarginLoss(margin=0.1)\n",
        "\n",
        "# Set the classification loss:\n",
        "classification_loss = torch.nn.CrossEntropyLoss()\n",
        "\n",
        "# Set the mining function\n",
        "#miner = miners.MultiSimilarityMiner(epsilon=0.1)\n",
        "\n",
        "# Set the dataloader sampler\n",
        "#sampler = samplers.MPerClassSampler(\n",
        "#    train_labels, m=4, length_before_new_iter=len(train_dataset)\n",
        "#)\n",
        "\n",
        "# Set other training parameters\n",
        "\n",
        "num_epochs = 5\n",
        "\n"
      ]
    },
    {
      "cell_type": "code",
      "execution_count": null,
      "metadata": {
        "id": "s02Trm0l03Ot"
      },
      "outputs": [],
      "source": [
        "models = {\"trunk\": trunk, \"embedder\": embedder, \"classifier\": classifier}\n",
        "optimizers = {\n",
        "    \"trunk_optimizer\": trunk_optimizer,\n",
        "    \"embedder_optimizer\": embedder_optimizer,\n",
        "    \"classifier_optimizer\": classifier_optimizer,\n",
        "}\n",
        "loss_funcs = {\"metric_loss\": loss, \"classifier_loss\": classification_loss}\n",
        "#mining_funcs = {\"tuple_miner\": miner}\n",
        "\n",
        "# We can specify loss weights if we want to. This is optional\n",
        "#loss_weights = {\"metric_loss\": 1, \"classifier_loss\": 0.5}"
      ]
    },
    {
      "cell_type": "code",
      "execution_count": null,
      "metadata": {
        "id": "MVUh1ZjE3udv"
      },
      "outputs": [],
      "source": [
        "train_loader = torch.utils.data.DataLoader(\n",
        "        train_dataset, \n",
        "        batch_size=batch_size,\n",
        "        shuffle=True,\n",
        "        drop_last=True,\n",
        "        num_workers=2,\n",
        "        pin_memory=True,\n",
        "    )\n",
        "\n",
        "val_loader = torch.utils.data.DataLoader(\n",
        "    val_dataset, \n",
        "    batch_size=1,\n",
        "    shuffle=False,\n",
        "    num_workers=2,\n",
        "    pin_memory=True,\n",
        ")"
      ]
    },
    {
      "cell_type": "code",
      "execution_count": null,
      "metadata": {
        "id": "NMOk1UYi6NUF"
      },
      "outputs": [],
      "source": [
        "import torch.nn as nn\n",
        "from typing import Callable\n",
        "import tqdm\n",
        "\n",
        "\n",
        "def train_one_epoch(\n",
        "    models: nn.Module,\n",
        "    dataloader: torch.utils.data.DataLoader,\n",
        "    optimizers: torch.optim.Optimizer,\n",
        "    \n",
        ") -> Tuple[float, float]:\n",
        "\n",
        "    trunk = models[\"trunk\"].train()\n",
        "    embedder = models[\"embedder\"].train()\n",
        "    classifier = models[\"classifier\"].train()\n",
        "\n",
        "    trunk_optimizer = torch.optim.AdamW(trunk.parameters(), lr=lr)\n",
        "    embedder_optimizer = torch.optim.AdamW(\n",
        "        embedder.parameters(), lr=lr)\n",
        "    classifier_optimizer = torch.optim.AdamW(\n",
        "        classifier.parameters(), lr=lr)\n",
        "\n",
        "    loss_f = losses.CosFaceLoss(num_classes=num_class, embedding_size=128).to(device)\n",
        "    #loss = losses.SubCenterArcFaceLoss(num_classes=num_class, embedding_size=128).to(device)\n",
        "    #loss = losses.TripletMarginLoss(margin=0.1)\n",
        "\n",
        "    # Set the classification loss:\n",
        "    classification_loss = torch.nn.CrossEntropyLoss()\n",
        "    \n",
        "\n",
        "    train_running_loss = 0.0\n",
        "    train_running_correct = 0\n",
        "    total_epoch_steps = int(len(dataloader.dataset)/dataloader.batch_size)\n",
        "\n",
        "    for _, batch in tqdm(enumerate(dataloader), total=total_epoch_steps):\n",
        "        data, labels = batch\n",
        "        data, labels = data.to(device), labels.to(device)\n",
        "\n",
        "        output_trunk = trunk(data)\n",
        "        output_embedding = embedder(output_trunk)\n",
        "        output_classifier = classifier(output_embedding)\n",
        "        \n",
        "        loss = loss_f(output_embedding, labels) \\\n",
        "               + 0.5 * classification_loss(output_classifier, labels)\n",
        "        train_running_loss += loss.item()\n",
        "\n",
        "        _, preds = torch.max(output_classifier.data, 1) # можем не использовать softmax, а просто взять .max\n",
        "        train_running_correct += (preds == labels).sum().item()\n",
        "\n",
        "        trunk_optimizer.zero_grad()\n",
        "        embedder_optimizer.zero_grad()\n",
        "        classifier_optimizer.zero_grad()\n",
        "        \n",
        "        loss.backward()\n",
        "\n",
        "        trunk_optimizer.step()\n",
        "        embedder_optimizer.step()\n",
        "        classifier_optimizer.step()\n",
        "        \n",
        "    train_loss = train_running_loss/len(dataloader.dataset)\n",
        "    train_accuracy = train_running_correct/len(dataloader.dataset)    \n",
        "    return train_loss, train_accuracy"
      ]
    },
    {
      "cell_type": "code",
      "source": [
        "len(df[df['split'] == 'validation']['label'].value_counts())"
      ],
      "metadata": {
        "colab": {
          "base_uri": "https://localhost:8080/"
        },
        "id": "haOgXpcpzUvc",
        "outputId": "2f0ce50f-90c7-4d01-e6b9-e0f64ad1c1fb"
      },
      "execution_count": null,
      "outputs": [
        {
          "output_type": "execute_result",
          "data": {
            "text/plain": [
              "36"
            ]
          },
          "metadata": {},
          "execution_count": 21
        }
      ]
    },
    {
      "cell_type": "code",
      "source": [
        "from itertools import count\n",
        "import torch\n",
        "import torch.nn as nn\n",
        "from torch.utils.data import Dataset\n",
        "\n",
        "def eval_epoch(models: nn.Sequential, val_loader: Dataset) -> tuple['float', 'float']:\n",
        "    \"\"\"\n",
        "    Валидация одной эпохи\n",
        "    \"\"\"\n",
        "   \n",
        "    trunk = models[\"trunk\"].eval()\n",
        "    embedder = models[\"embedder\"].eval()\n",
        "    classifier = models[\"classifier\"].eval()\n",
        "\n",
        "    running_loss = 0.0\n",
        "    running_corrects = 0\n",
        "    processed_size = 0\n",
        "\n",
        "    last_label = None\n",
        "    flag = True\n",
        "    k = 1\n",
        "    count_true = 0\n",
        "    list_p_k = []\n",
        "    list_ap_k = []\n",
        "    \n",
        "\n",
        "    for data, labels in val_loader:\n",
        "        data = data.to(device)\n",
        "        labels = labels.to(device)\n",
        "\n",
        "        \n",
        "        if last_label != labels:\n",
        "          k = 1\n",
        "          count_true = 0\n",
        "          flag = True\n",
        "          list_p_k = []\n",
        "          last_label = labels\n",
        "        elif k < 5: #min_count_val\n",
        "          k += 1\n",
        "        else:\n",
        "          list_ap_k.append(sum(list_p_k) / len(list_p_k)) \n",
        "          flag = False\n",
        "\n",
        "\n",
        "        with torch.set_grad_enabled(False):\n",
        "\n",
        "            output_trunk = trunk(data)\n",
        "            output_embedding = embedder(output_trunk)\n",
        "            output_classifier = classifier(output_embedding)\n",
        "\n",
        "            loss = loss_funcs['metric_loss'](output_embedding, labels) \\\n",
        "               + 0.5 * loss_funcs['classifier_loss'](output_classifier, labels)\n",
        "\n",
        "            preds = torch.argmax(output_classifier, 1)\n",
        "\n",
        "            if flag:\n",
        "              if preds == labels:\n",
        "                count_true += int(preds == labels)\n",
        "                list_p_k.append(count_true / k)\n",
        "              else:\n",
        "                list_p_k.append(0)\n",
        "\n",
        "        running_loss += loss.item() * data.size(0)\n",
        "        running_corrects += torch.sum(preds == labels)\n",
        "        processed_size += data.size(0)\n",
        "\n",
        "\n",
        "\n",
        "        \n",
        "    val_loss = running_loss / processed_size\n",
        "    val_acc = running_corrects.double() / processed_size\n",
        "    map_k = sum(list_ap_k) / len(list_ap_k)\n",
        "    \n",
        "    return val_loss, val_acc, map_k"
      ],
      "metadata": {
        "id": "7RLxWafVEkGs"
      },
      "execution_count": null,
      "outputs": []
    },
    {
      "cell_type": "code",
      "source": [
        "from tqdm.notebook import tqdm\n",
        "\n",
        "def train(\n",
        "        train_loader,\n",
        "        val_loader,\n",
        "        models: nn.Sequential,\n",
        "        epochs: int,\n",
        "        #lr: float,\n",
        "        #gamma: float\n",
        ") -> list[tuple[float, float, float, float]]:\n",
        "    \"\"\"\n",
        "    Обучение модели, логирование гиперпараметров,\n",
        "    сохранение наилучшей модели\n",
        "    \"\"\"\n",
        "\n",
        "    wandb.init(project='HW_metric-learning')\n",
        "\n",
        "    loss = losses.CosFaceLoss(num_classes=num_class, embedding_size=128).to(device)\n",
        "    classification_loss = torch.nn.CrossEntropyLoss()\n",
        "\n",
        "    loss_funcs = {\"metric_loss\": loss, \"classifier_loss\": classification_loss}\n",
        "\n",
        "\n",
        "    history = []  # сохраняем данные о loss и accuracy для train и val\n",
        "\n",
        "    log_template = \"\\nEpoch {ep:03d} train_loss: {t_loss:0.4f} \\\n",
        "    val_loss {v_loss:0.4f} train_acc {t_acc:0.4f} val_acc {v_acc:0.4f} \\\n",
        "    map_k {map_k:0.4f}\"\n",
        "\n",
        "    with tqdm(desc=\"epoch\", total=epochs) as pbar_outer:\n",
        "\n",
        "        for epoch in range(epochs):\n",
        "            train_loss, train_acc = train_one_epoch(models,\n",
        "                                              train_loader,\n",
        "                                              loss_funcs,\n",
        "                                              )\n",
        "\n",
        "            print(\"loss\", train_loss)\n",
        "\n",
        "            val_loss, val_acc, map_k = eval_epoch(models, val_loader)\n",
        "\n",
        "            #scheduler.step()\n",
        "\n",
        "            history.append((train_loss, train_acc, val_loss, val_acc, map_k))\n",
        "\n",
        "            wandb.log({\"train_loss\": train_loss,\n",
        "                       \"val_loss\": val_loss,\n",
        "                       \"epoch\": epoch,\n",
        "                       \"train_acc\": train_acc,\n",
        "                       \"val_acc\": val_acc,\n",
        "                       \"map_k\": map_k\n",
        "                       })\n",
        "\n",
        "            pbar_outer.update(1)\n",
        "            tqdm.write(log_template.format(\n",
        "                ep=epoch + 1,\n",
        "                t_loss=train_loss,\n",
        "                v_loss=val_loss,\n",
        "                t_acc=train_acc,\n",
        "                v_acc=val_acc,\n",
        "                map_k=map_k\n",
        "                ))\n",
        "\n",
        "            \n",
        "            \n",
        "\n",
        "    return history"
      ],
      "metadata": {
        "id": "rABIW2UxA2Sh"
      },
      "execution_count": null,
      "outputs": []
    },
    {
      "cell_type": "code",
      "execution_count": null,
      "metadata": {
        "colab": {
          "base_uri": "https://localhost:8080/",
          "height": 966,
          "referenced_widgets": [
            "4d46aecebddf46f796e97c0776e92299",
            "c22d781efe92458fb3a80cc4c1f1a76b",
            "4cb40c1609ee44ef80e60f895ac111bb",
            "8e982d1a324045138b04e78db146f53f",
            "ef7336fa99554b44a1bb0d3086e5ce7f",
            "317b314285184f35b49c846c1ebe2753",
            "0a436f8aa5004f52a926c990835b63e6",
            "8f4380508fca416d83e5fb5c03aa08c4",
            "e57960f4fa914907a6b916d22bafc92b",
            "25afa9c190974b01b3b0ab863db85378",
            "d840af9f7fa7445685348fc770c6aae4",
            "508d9311df904c37a23169344a64ad90",
            "70af65fec77a43a98f46d3950956567d",
            "e869d9a404cc41a5ba5659615222685f",
            "4feda0e053314386ab9e33f3ebe7b785",
            "a6bedec0e7f2469cba1ef0f9fce21812",
            "81e3ed6872714e7f8741c8121b9209d5",
            "4d1ef78f9a1642489298c098145a54d8",
            "b997d7153b0c4067823eea73de6ce257",
            "2c78bc7804cf41d381aff96a248da6b4",
            "fd57e560eefc47199808a6bb02e3b412",
            "ab45bb44bf924289869e691c64bc8db8",
            "0ee239e2e5d147f399df87ff11eb3448",
            "43ea3398c40d4b4ea9ecbdd65d7da2ae",
            "912676ba2d7b4e1085fdc5a7b97b056d",
            "5823cb5dffdf42b89a34eb74e77b9c60",
            "82d9c19ffb244ac2bbd8e9f1ab459f54",
            "ca4c8d53539246beacb14668dc0cf756",
            "d574a2e1c97b48dfb6f0007752d2f639",
            "be6488cc3e204757aef012d232c8f94d",
            "6a8d0f8998654842ac517781107878cd",
            "c7db5c957cb84a658e5523196e717a1a"
          ]
        },
        "id": "o_Idlegz2u4G",
        "outputId": "88a55a12-26a3-4e3f-d8fb-41950318d0be"
      },
      "outputs": [
        {
          "data": {
            "text/html": [
              "Finishing last run (ID:9iei8guc) before initializing another..."
            ],
            "text/plain": [
              "<IPython.core.display.HTML object>"
            ]
          },
          "metadata": {},
          "output_type": "display_data"
        },
        {
          "data": {
            "text/html": [
              "Waiting for W&B process to finish... <strong style=\"color:green\">(success).</strong>"
            ],
            "text/plain": [
              "<IPython.core.display.HTML object>"
            ]
          },
          "metadata": {},
          "output_type": "display_data"
        },
        {
          "data": {
            "text/html": [
              " View run <strong style=\"color:#cdcd00\">stellar-music-17</strong> at: <a href='https://wandb.ai/volkov-timm/metric-learning/runs/9iei8guc' target=\"_blank\">https://wandb.ai/volkov-timm/metric-learning/runs/9iei8guc</a><br/>Synced 4 W&B file(s), 0 media file(s), 0 artifact file(s) and 0 other file(s)"
            ],
            "text/plain": [
              "<IPython.core.display.HTML object>"
            ]
          },
          "metadata": {},
          "output_type": "display_data"
        },
        {
          "data": {
            "text/html": [
              "Find logs at: <code>./wandb/run-20230322_105723-9iei8guc/logs</code>"
            ],
            "text/plain": [
              "<IPython.core.display.HTML object>"
            ]
          },
          "metadata": {},
          "output_type": "display_data"
        },
        {
          "data": {
            "text/html": [
              "Successfully finished last run (ID:9iei8guc). Initializing new run:<br/>"
            ],
            "text/plain": [
              "<IPython.core.display.HTML object>"
            ]
          },
          "metadata": {},
          "output_type": "display_data"
        },
        {
          "data": {
            "text/html": [
              "Tracking run with wandb version 0.14.0"
            ],
            "text/plain": [
              "<IPython.core.display.HTML object>"
            ]
          },
          "metadata": {},
          "output_type": "display_data"
        },
        {
          "data": {
            "text/html": [
              "Run data is saved locally in <code>/content/wandb/run-20230322_105729-isj6w9fr</code>"
            ],
            "text/plain": [
              "<IPython.core.display.HTML object>"
            ]
          },
          "metadata": {},
          "output_type": "display_data"
        },
        {
          "data": {
            "text/html": [
              "Syncing run <strong><a href='https://wandb.ai/volkov-timm/HW_metric-learning/runs/isj6w9fr' target=\"_blank\">fallen-cosmos-1</a></strong> to <a href='https://wandb.ai/volkov-timm/HW_metric-learning' target=\"_blank\">Weights & Biases</a> (<a href='https://wandb.me/run' target=\"_blank\">docs</a>)<br/>"
            ],
            "text/plain": [
              "<IPython.core.display.HTML object>"
            ]
          },
          "metadata": {},
          "output_type": "display_data"
        },
        {
          "data": {
            "text/html": [
              " View project at <a href='https://wandb.ai/volkov-timm/HW_metric-learning' target=\"_blank\">https://wandb.ai/volkov-timm/HW_metric-learning</a>"
            ],
            "text/plain": [
              "<IPython.core.display.HTML object>"
            ]
          },
          "metadata": {},
          "output_type": "display_data"
        },
        {
          "data": {
            "text/html": [
              " View run at <a href='https://wandb.ai/volkov-timm/HW_metric-learning/runs/isj6w9fr' target=\"_blank\">https://wandb.ai/volkov-timm/HW_metric-learning/runs/isj6w9fr</a>"
            ],
            "text/plain": [
              "<IPython.core.display.HTML object>"
            ]
          },
          "metadata": {},
          "output_type": "display_data"
        },
        {
          "data": {
            "application/vnd.jupyter.widget-view+json": {
              "model_id": "4d46aecebddf46f796e97c0776e92299",
              "version_major": 2,
              "version_minor": 0
            },
            "text/plain": [
              "epoch:   0%|          | 0/15 [00:00<?, ?it/s]"
            ]
          },
          "metadata": {},
          "output_type": "display_data"
        },
        {
          "data": {
            "application/vnd.jupyter.widget-view+json": {
              "model_id": "508d9311df904c37a23169344a64ad90",
              "version_major": 2,
              "version_minor": 0
            },
            "text/plain": [
              "  0%|          | 0/95 [00:00<?, ?it/s]"
            ]
          },
          "metadata": {},
          "output_type": "display_data"
        },
        {
          "metadata": {
            "tags": null
          },
          "name": "stdout",
          "output_type": "stream",
          "text": [
            "loss 0.6055178256411301\n",
            "\n",
            "Epoch 001 train_loss: 0.6055     val_loss 36.6192 train_acc 0.2421 val_acc 0.6174     map_k 0.5521\n"
          ]
        },
        {
          "data": {
            "application/vnd.jupyter.widget-view+json": {
              "model_id": "0ee239e2e5d147f399df87ff11eb3448",
              "version_major": 2,
              "version_minor": 0
            },
            "text/plain": [
              "  0%|          | 0/95 [00:00<?, ?it/s]"
            ]
          },
          "metadata": {},
          "output_type": "display_data"
        },
        {
          "metadata": {
            "tags": null
          },
          "name": "stdout",
          "output_type": "stream",
          "text": [
            "loss 0.4968244543201045\n",
            "\n",
            "Epoch 002 train_loss: 0.4968     val_loss 36.0312 train_acc 0.5286 val_acc 0.7826     map_k 0.7158\n"
          ]
        },
        {
          "data": {
            "application/vnd.jupyter.widget-view+json": {
              "model_id": "43ea3398c40d4b4ea9ecbdd65d7da2ae",
              "version_major": 2,
              "version_minor": 0
            },
            "text/plain": [
              "  0%|          | 0/95 [00:00<?, ?it/s]"
            ]
          },
          "metadata": {},
          "output_type": "display_data"
        },
        {
          "metadata": {
            "tags": null
          },
          "name": "stdout",
          "output_type": "stream",
          "text": [
            "loss 0.4535255273706035\n",
            "\n",
            "Epoch 003 train_loss: 0.4535     val_loss 36.7642 train_acc 0.6803 val_acc 0.8029     map_k 0.7220\n"
          ]
        },
        {
          "data": {
            "application/vnd.jupyter.widget-view+json": {
              "model_id": "912676ba2d7b4e1085fdc5a7b97b056d",
              "version_major": 2,
              "version_minor": 0
            },
            "text/plain": [
              "  0%|          | 0/95 [00:00<?, ?it/s]"
            ]
          },
          "metadata": {},
          "output_type": "display_data"
        },
        {
          "metadata": {
            "tags": null
          },
          "name": "stdout",
          "output_type": "stream",
          "text": [
            "loss 0.4196235346166711\n",
            "\n",
            "Epoch 004 train_loss: 0.4196     val_loss 35.3036 train_acc 0.7441 val_acc 0.8638     map_k 0.8329\n"
          ]
        },
        {
          "data": {
            "application/vnd.jupyter.widget-view+json": {
              "model_id": "5823cb5dffdf42b89a34eb74e77b9c60",
              "version_major": 2,
              "version_minor": 0
            },
            "text/plain": [
              "  0%|          | 0/95 [00:00<?, ?it/s]"
            ]
          },
          "metadata": {},
          "output_type": "display_data"
        },
        {
          "metadata": {
            "tags": null
          },
          "name": "stdout",
          "output_type": "stream",
          "text": [
            "loss 0.39858914747049934\n",
            "\n",
            "Epoch 005 train_loss: 0.3986     val_loss 34.1494 train_acc 0.7803 val_acc 0.8667     map_k 0.8346\n"
          ]
        },
        {
          "data": {
            "application/vnd.jupyter.widget-view+json": {
              "model_id": "82d9c19ffb244ac2bbd8e9f1ab459f54",
              "version_major": 2,
              "version_minor": 0
            },
            "text/plain": [
              "  0%|          | 0/95 [00:00<?, ?it/s]"
            ]
          },
          "metadata": {},
          "output_type": "display_data"
        },
        {
          "metadata": {
            "tags": null
          },
          "name": "stdout",
          "output_type": "stream",
          "text": [
            "loss 0.35167677567193384\n",
            "\n",
            "Epoch 006 train_loss: 0.3517     val_loss 35.7531 train_acc 0.8109 val_acc 0.8493     map_k 0.8059\n"
          ]
        },
        {
          "data": {
            "application/vnd.jupyter.widget-view+json": {
              "model_id": "ca4c8d53539246beacb14668dc0cf756",
              "version_major": 2,
              "version_minor": 0
            },
            "text/plain": [
              "  0%|          | 0/95 [00:00<?, ?it/s]"
            ]
          },
          "metadata": {},
          "output_type": "display_data"
        },
        {
          "metadata": {
            "tags": null
          },
          "name": "stdout",
          "output_type": "stream",
          "text": [
            "loss 0.37485674894169757\n",
            "\n",
            "Epoch 007 train_loss: 0.3749     val_loss 35.1863 train_acc 0.8178 val_acc 0.9101     map_k 0.8799\n"
          ]
        },
        {
          "data": {
            "application/vnd.jupyter.widget-view+json": {
              "model_id": "d574a2e1c97b48dfb6f0007752d2f639",
              "version_major": 2,
              "version_minor": 0
            },
            "text/plain": [
              "  0%|          | 0/95 [00:00<?, ?it/s]"
            ]
          },
          "metadata": {},
          "output_type": "display_data"
        },
        {
          "metadata": {
            "tags": null
          },
          "name": "stdout",
          "output_type": "stream",
          "text": [
            "loss 0.3273728902402677\n",
            "\n",
            "Epoch 008 train_loss: 0.3274     val_loss 35.3645 train_acc 0.8414 val_acc 0.8957     map_k 0.8481\n"
          ]
        },
        {
          "data": {
            "application/vnd.jupyter.widget-view+json": {
              "model_id": "be6488cc3e204757aef012d232c8f94d",
              "version_major": 2,
              "version_minor": 0
            },
            "text/plain": [
              "  0%|          | 0/95 [00:00<?, ?it/s]"
            ]
          },
          "metadata": {},
          "output_type": "display_data"
        },
        {
          "metadata": {
            "tags": null
          },
          "name": "stdout",
          "output_type": "stream",
          "text": [
            "loss 0.340910998222075\n",
            "\n",
            "Epoch 009 train_loss: 0.3409     val_loss 34.2307 train_acc 0.8194 val_acc 0.8580     map_k 0.8206\n"
          ]
        },
        {
          "data": {
            "application/vnd.jupyter.widget-view+json": {
              "model_id": "6a8d0f8998654842ac517781107878cd",
              "version_major": 2,
              "version_minor": 0
            },
            "text/plain": [
              "  0%|          | 0/95 [00:00<?, ?it/s]"
            ]
          },
          "metadata": {},
          "output_type": "display_data"
        },
        {
          "metadata": {
            "tags": null
          },
          "name": "stdout",
          "output_type": "stream",
          "text": [
            "loss 0.3180199118821245\n",
            "\n",
            "Epoch 010 train_loss: 0.3180     val_loss 35.0060 train_acc 0.8609 val_acc 0.9217     map_k 0.9046\n"
          ]
        },
        {
          "data": {
            "application/vnd.jupyter.widget-view+json": {
              "model_id": "c7db5c957cb84a658e5523196e717a1a",
              "version_major": 2,
              "version_minor": 0
            },
            "text/plain": [
              "  0%|          | 0/95 [00:00<?, ?it/s]"
            ]
          },
          "metadata": {},
          "output_type": "display_data"
        }
      ],
      "source": [
        "train(train_loader,\n",
        "        val_loader,\n",
        "        models,\n",
        "        15)"
      ]
    },
    {
      "cell_type": "code",
      "execution_count": null,
      "metadata": {
        "id": "fVZje7BybthM"
      },
      "outputs": [],
      "source": [
        "wandb.finish()"
      ]
    }
  ],
  "metadata": {
    "accelerator": "GPU",
    "colab": {
      "provenance": [],
      "toc_visible": true
    },
    "gpuClass": "standard",
    "kernelspec": {
      "display_name": "Python 3",
      "name": "python3"
    },
    "language_info": {
      "name": "python"
    },
    "widgets": {
      "application/vnd.jupyter.widget-state+json": {
        "be11047bd98d41c88af4ea9d7cfc1ee8": {
          "model_module": "@jupyter-widgets/controls",
          "model_name": "HBoxModel",
          "model_module_version": "1.5.0",
          "state": {
            "_dom_classes": [],
            "_model_module": "@jupyter-widgets/controls",
            "_model_module_version": "1.5.0",
            "_model_name": "HBoxModel",
            "_view_count": null,
            "_view_module": "@jupyter-widgets/controls",
            "_view_module_version": "1.5.0",
            "_view_name": "HBoxView",
            "box_style": "",
            "children": [
              "IPY_MODEL_277415adab124273b52508a23fa56638",
              "IPY_MODEL_a22b31c2b7a14525a3d21e6f2c3f2b6b",
              "IPY_MODEL_e587baff1efe4aa2827c97dbae62c37c"
            ],
            "layout": "IPY_MODEL_65f686c4db0e456c92ff5026cf4eb35d"
          }
        },
        "277415adab124273b52508a23fa56638": {
          "model_module": "@jupyter-widgets/controls",
          "model_name": "HTMLModel",
          "model_module_version": "1.5.0",
          "state": {
            "_dom_classes": [],
            "_model_module": "@jupyter-widgets/controls",
            "_model_module_version": "1.5.0",
            "_model_name": "HTMLModel",
            "_view_count": null,
            "_view_module": "@jupyter-widgets/controls",
            "_view_module_version": "1.5.0",
            "_view_name": "HTMLView",
            "description": "",
            "description_tooltip": null,
            "layout": "IPY_MODEL_dce237b4702e40df9816858a7c00e2d8",
            "placeholder": "​",
            "style": "IPY_MODEL_f20dbd95f78e4277ae5932b41fc98f07",
            "value": "100%"
          }
        },
        "a22b31c2b7a14525a3d21e6f2c3f2b6b": {
          "model_module": "@jupyter-widgets/controls",
          "model_name": "FloatProgressModel",
          "model_module_version": "1.5.0",
          "state": {
            "_dom_classes": [],
            "_model_module": "@jupyter-widgets/controls",
            "_model_module_version": "1.5.0",
            "_model_name": "FloatProgressModel",
            "_view_count": null,
            "_view_module": "@jupyter-widgets/controls",
            "_view_module_version": "1.5.0",
            "_view_name": "ProgressView",
            "bar_style": "success",
            "description": "",
            "description_tooltip": null,
            "layout": "IPY_MODEL_c33d2b8330bf4598b92a37eeaabbbdcc",
            "max": 46830571,
            "min": 0,
            "orientation": "horizontal",
            "style": "IPY_MODEL_d29194f402cc4a299ec6e874b19e27a1",
            "value": 46830571
          }
        },
        "e587baff1efe4aa2827c97dbae62c37c": {
          "model_module": "@jupyter-widgets/controls",
          "model_name": "HTMLModel",
          "model_module_version": "1.5.0",
          "state": {
            "_dom_classes": [],
            "_model_module": "@jupyter-widgets/controls",
            "_model_module_version": "1.5.0",
            "_model_name": "HTMLModel",
            "_view_count": null,
            "_view_module": "@jupyter-widgets/controls",
            "_view_module_version": "1.5.0",
            "_view_name": "HTMLView",
            "description": "",
            "description_tooltip": null,
            "layout": "IPY_MODEL_20a78dae1507429789aae54a33f9a9a0",
            "placeholder": "​",
            "style": "IPY_MODEL_22364d9c346b4e9d89e67f91d9d1f459",
            "value": " 44.7M/44.7M [00:00&lt;00:00, 175MB/s]"
          }
        },
        "65f686c4db0e456c92ff5026cf4eb35d": {
          "model_module": "@jupyter-widgets/base",
          "model_name": "LayoutModel",
          "model_module_version": "1.2.0",
          "state": {
            "_model_module": "@jupyter-widgets/base",
            "_model_module_version": "1.2.0",
            "_model_name": "LayoutModel",
            "_view_count": null,
            "_view_module": "@jupyter-widgets/base",
            "_view_module_version": "1.2.0",
            "_view_name": "LayoutView",
            "align_content": null,
            "align_items": null,
            "align_self": null,
            "border": null,
            "bottom": null,
            "display": null,
            "flex": null,
            "flex_flow": null,
            "grid_area": null,
            "grid_auto_columns": null,
            "grid_auto_flow": null,
            "grid_auto_rows": null,
            "grid_column": null,
            "grid_gap": null,
            "grid_row": null,
            "grid_template_areas": null,
            "grid_template_columns": null,
            "grid_template_rows": null,
            "height": null,
            "justify_content": null,
            "justify_items": null,
            "left": null,
            "margin": null,
            "max_height": null,
            "max_width": null,
            "min_height": null,
            "min_width": null,
            "object_fit": null,
            "object_position": null,
            "order": null,
            "overflow": null,
            "overflow_x": null,
            "overflow_y": null,
            "padding": null,
            "right": null,
            "top": null,
            "visibility": null,
            "width": null
          }
        },
        "dce237b4702e40df9816858a7c00e2d8": {
          "model_module": "@jupyter-widgets/base",
          "model_name": "LayoutModel",
          "model_module_version": "1.2.0",
          "state": {
            "_model_module": "@jupyter-widgets/base",
            "_model_module_version": "1.2.0",
            "_model_name": "LayoutModel",
            "_view_count": null,
            "_view_module": "@jupyter-widgets/base",
            "_view_module_version": "1.2.0",
            "_view_name": "LayoutView",
            "align_content": null,
            "align_items": null,
            "align_self": null,
            "border": null,
            "bottom": null,
            "display": null,
            "flex": null,
            "flex_flow": null,
            "grid_area": null,
            "grid_auto_columns": null,
            "grid_auto_flow": null,
            "grid_auto_rows": null,
            "grid_column": null,
            "grid_gap": null,
            "grid_row": null,
            "grid_template_areas": null,
            "grid_template_columns": null,
            "grid_template_rows": null,
            "height": null,
            "justify_content": null,
            "justify_items": null,
            "left": null,
            "margin": null,
            "max_height": null,
            "max_width": null,
            "min_height": null,
            "min_width": null,
            "object_fit": null,
            "object_position": null,
            "order": null,
            "overflow": null,
            "overflow_x": null,
            "overflow_y": null,
            "padding": null,
            "right": null,
            "top": null,
            "visibility": null,
            "width": null
          }
        },
        "f20dbd95f78e4277ae5932b41fc98f07": {
          "model_module": "@jupyter-widgets/controls",
          "model_name": "DescriptionStyleModel",
          "model_module_version": "1.5.0",
          "state": {
            "_model_module": "@jupyter-widgets/controls",
            "_model_module_version": "1.5.0",
            "_model_name": "DescriptionStyleModel",
            "_view_count": null,
            "_view_module": "@jupyter-widgets/base",
            "_view_module_version": "1.2.0",
            "_view_name": "StyleView",
            "description_width": ""
          }
        },
        "c33d2b8330bf4598b92a37eeaabbbdcc": {
          "model_module": "@jupyter-widgets/base",
          "model_name": "LayoutModel",
          "model_module_version": "1.2.0",
          "state": {
            "_model_module": "@jupyter-widgets/base",
            "_model_module_version": "1.2.0",
            "_model_name": "LayoutModel",
            "_view_count": null,
            "_view_module": "@jupyter-widgets/base",
            "_view_module_version": "1.2.0",
            "_view_name": "LayoutView",
            "align_content": null,
            "align_items": null,
            "align_self": null,
            "border": null,
            "bottom": null,
            "display": null,
            "flex": null,
            "flex_flow": null,
            "grid_area": null,
            "grid_auto_columns": null,
            "grid_auto_flow": null,
            "grid_auto_rows": null,
            "grid_column": null,
            "grid_gap": null,
            "grid_row": null,
            "grid_template_areas": null,
            "grid_template_columns": null,
            "grid_template_rows": null,
            "height": null,
            "justify_content": null,
            "justify_items": null,
            "left": null,
            "margin": null,
            "max_height": null,
            "max_width": null,
            "min_height": null,
            "min_width": null,
            "object_fit": null,
            "object_position": null,
            "order": null,
            "overflow": null,
            "overflow_x": null,
            "overflow_y": null,
            "padding": null,
            "right": null,
            "top": null,
            "visibility": null,
            "width": null
          }
        },
        "d29194f402cc4a299ec6e874b19e27a1": {
          "model_module": "@jupyter-widgets/controls",
          "model_name": "ProgressStyleModel",
          "model_module_version": "1.5.0",
          "state": {
            "_model_module": "@jupyter-widgets/controls",
            "_model_module_version": "1.5.0",
            "_model_name": "ProgressStyleModel",
            "_view_count": null,
            "_view_module": "@jupyter-widgets/base",
            "_view_module_version": "1.2.0",
            "_view_name": "StyleView",
            "bar_color": null,
            "description_width": ""
          }
        },
        "20a78dae1507429789aae54a33f9a9a0": {
          "model_module": "@jupyter-widgets/base",
          "model_name": "LayoutModel",
          "model_module_version": "1.2.0",
          "state": {
            "_model_module": "@jupyter-widgets/base",
            "_model_module_version": "1.2.0",
            "_model_name": "LayoutModel",
            "_view_count": null,
            "_view_module": "@jupyter-widgets/base",
            "_view_module_version": "1.2.0",
            "_view_name": "LayoutView",
            "align_content": null,
            "align_items": null,
            "align_self": null,
            "border": null,
            "bottom": null,
            "display": null,
            "flex": null,
            "flex_flow": null,
            "grid_area": null,
            "grid_auto_columns": null,
            "grid_auto_flow": null,
            "grid_auto_rows": null,
            "grid_column": null,
            "grid_gap": null,
            "grid_row": null,
            "grid_template_areas": null,
            "grid_template_columns": null,
            "grid_template_rows": null,
            "height": null,
            "justify_content": null,
            "justify_items": null,
            "left": null,
            "margin": null,
            "max_height": null,
            "max_width": null,
            "min_height": null,
            "min_width": null,
            "object_fit": null,
            "object_position": null,
            "order": null,
            "overflow": null,
            "overflow_x": null,
            "overflow_y": null,
            "padding": null,
            "right": null,
            "top": null,
            "visibility": null,
            "width": null
          }
        },
        "22364d9c346b4e9d89e67f91d9d1f459": {
          "model_module": "@jupyter-widgets/controls",
          "model_name": "DescriptionStyleModel",
          "model_module_version": "1.5.0",
          "state": {
            "_model_module": "@jupyter-widgets/controls",
            "_model_module_version": "1.5.0",
            "_model_name": "DescriptionStyleModel",
            "_view_count": null,
            "_view_module": "@jupyter-widgets/base",
            "_view_module_version": "1.2.0",
            "_view_name": "StyleView",
            "description_width": ""
          }
        },
        "5832c6e329c94828a8f2ae86996ce841": {
          "model_module": "@jupyter-widgets/controls",
          "model_name": "VBoxModel",
          "model_module_version": "1.5.0",
          "state": {
            "_dom_classes": [],
            "_model_module": "@jupyter-widgets/controls",
            "_model_module_version": "1.5.0",
            "_model_name": "VBoxModel",
            "_view_count": null,
            "_view_module": "@jupyter-widgets/controls",
            "_view_module_version": "1.5.0",
            "_view_name": "VBoxView",
            "box_style": "",
            "children": [
              "IPY_MODEL_97fa3d354b8f44c998efdd7b20356e94",
              "IPY_MODEL_21133a97f45d4c6caa790f70d2780d2b"
            ],
            "layout": "IPY_MODEL_25686b68cbf549eb8419872515d4f766"
          }
        },
        "97fa3d354b8f44c998efdd7b20356e94": {
          "model_module": "@jupyter-widgets/controls",
          "model_name": "LabelModel",
          "model_module_version": "1.5.0",
          "state": {
            "_dom_classes": [],
            "_model_module": "@jupyter-widgets/controls",
            "_model_module_version": "1.5.0",
            "_model_name": "LabelModel",
            "_view_count": null,
            "_view_module": "@jupyter-widgets/controls",
            "_view_module_version": "1.5.0",
            "_view_name": "LabelView",
            "description": "",
            "description_tooltip": null,
            "layout": "IPY_MODEL_452f3feedc75415d8b501872b82fcfb6",
            "placeholder": "​",
            "style": "IPY_MODEL_9fe9873b1b754149843f2068f5e5caf3",
            "value": "0.001 MB of 0.010 MB uploaded (0.000 MB deduped)\r"
          }
        },
        "21133a97f45d4c6caa790f70d2780d2b": {
          "model_module": "@jupyter-widgets/controls",
          "model_name": "FloatProgressModel",
          "model_module_version": "1.5.0",
          "state": {
            "_dom_classes": [],
            "_model_module": "@jupyter-widgets/controls",
            "_model_module_version": "1.5.0",
            "_model_name": "FloatProgressModel",
            "_view_count": null,
            "_view_module": "@jupyter-widgets/controls",
            "_view_module_version": "1.5.0",
            "_view_name": "ProgressView",
            "bar_style": "",
            "description": "",
            "description_tooltip": null,
            "layout": "IPY_MODEL_e17c10902bbc4c6f9c7e1f3ddb9ea278",
            "max": 1,
            "min": 0,
            "orientation": "horizontal",
            "style": "IPY_MODEL_37a67fb643374a83a632cd320bb08a85",
            "value": 0.12415943865120359
          }
        },
        "25686b68cbf549eb8419872515d4f766": {
          "model_module": "@jupyter-widgets/base",
          "model_name": "LayoutModel",
          "model_module_version": "1.2.0",
          "state": {
            "_model_module": "@jupyter-widgets/base",
            "_model_module_version": "1.2.0",
            "_model_name": "LayoutModel",
            "_view_count": null,
            "_view_module": "@jupyter-widgets/base",
            "_view_module_version": "1.2.0",
            "_view_name": "LayoutView",
            "align_content": null,
            "align_items": null,
            "align_self": null,
            "border": null,
            "bottom": null,
            "display": null,
            "flex": null,
            "flex_flow": null,
            "grid_area": null,
            "grid_auto_columns": null,
            "grid_auto_flow": null,
            "grid_auto_rows": null,
            "grid_column": null,
            "grid_gap": null,
            "grid_row": null,
            "grid_template_areas": null,
            "grid_template_columns": null,
            "grid_template_rows": null,
            "height": null,
            "justify_content": null,
            "justify_items": null,
            "left": null,
            "margin": null,
            "max_height": null,
            "max_width": null,
            "min_height": null,
            "min_width": null,
            "object_fit": null,
            "object_position": null,
            "order": null,
            "overflow": null,
            "overflow_x": null,
            "overflow_y": null,
            "padding": null,
            "right": null,
            "top": null,
            "visibility": null,
            "width": null
          }
        },
        "452f3feedc75415d8b501872b82fcfb6": {
          "model_module": "@jupyter-widgets/base",
          "model_name": "LayoutModel",
          "model_module_version": "1.2.0",
          "state": {
            "_model_module": "@jupyter-widgets/base",
            "_model_module_version": "1.2.0",
            "_model_name": "LayoutModel",
            "_view_count": null,
            "_view_module": "@jupyter-widgets/base",
            "_view_module_version": "1.2.0",
            "_view_name": "LayoutView",
            "align_content": null,
            "align_items": null,
            "align_self": null,
            "border": null,
            "bottom": null,
            "display": null,
            "flex": null,
            "flex_flow": null,
            "grid_area": null,
            "grid_auto_columns": null,
            "grid_auto_flow": null,
            "grid_auto_rows": null,
            "grid_column": null,
            "grid_gap": null,
            "grid_row": null,
            "grid_template_areas": null,
            "grid_template_columns": null,
            "grid_template_rows": null,
            "height": null,
            "justify_content": null,
            "justify_items": null,
            "left": null,
            "margin": null,
            "max_height": null,
            "max_width": null,
            "min_height": null,
            "min_width": null,
            "object_fit": null,
            "object_position": null,
            "order": null,
            "overflow": null,
            "overflow_x": null,
            "overflow_y": null,
            "padding": null,
            "right": null,
            "top": null,
            "visibility": null,
            "width": null
          }
        },
        "9fe9873b1b754149843f2068f5e5caf3": {
          "model_module": "@jupyter-widgets/controls",
          "model_name": "DescriptionStyleModel",
          "model_module_version": "1.5.0",
          "state": {
            "_model_module": "@jupyter-widgets/controls",
            "_model_module_version": "1.5.0",
            "_model_name": "DescriptionStyleModel",
            "_view_count": null,
            "_view_module": "@jupyter-widgets/base",
            "_view_module_version": "1.2.0",
            "_view_name": "StyleView",
            "description_width": ""
          }
        },
        "e17c10902bbc4c6f9c7e1f3ddb9ea278": {
          "model_module": "@jupyter-widgets/base",
          "model_name": "LayoutModel",
          "model_module_version": "1.2.0",
          "state": {
            "_model_module": "@jupyter-widgets/base",
            "_model_module_version": "1.2.0",
            "_model_name": "LayoutModel",
            "_view_count": null,
            "_view_module": "@jupyter-widgets/base",
            "_view_module_version": "1.2.0",
            "_view_name": "LayoutView",
            "align_content": null,
            "align_items": null,
            "align_self": null,
            "border": null,
            "bottom": null,
            "display": null,
            "flex": null,
            "flex_flow": null,
            "grid_area": null,
            "grid_auto_columns": null,
            "grid_auto_flow": null,
            "grid_auto_rows": null,
            "grid_column": null,
            "grid_gap": null,
            "grid_row": null,
            "grid_template_areas": null,
            "grid_template_columns": null,
            "grid_template_rows": null,
            "height": null,
            "justify_content": null,
            "justify_items": null,
            "left": null,
            "margin": null,
            "max_height": null,
            "max_width": null,
            "min_height": null,
            "min_width": null,
            "object_fit": null,
            "object_position": null,
            "order": null,
            "overflow": null,
            "overflow_x": null,
            "overflow_y": null,
            "padding": null,
            "right": null,
            "top": null,
            "visibility": null,
            "width": null
          }
        },
        "37a67fb643374a83a632cd320bb08a85": {
          "model_module": "@jupyter-widgets/controls",
          "model_name": "ProgressStyleModel",
          "model_module_version": "1.5.0",
          "state": {
            "_model_module": "@jupyter-widgets/controls",
            "_model_module_version": "1.5.0",
            "_model_name": "ProgressStyleModel",
            "_view_count": null,
            "_view_module": "@jupyter-widgets/base",
            "_view_module_version": "1.2.0",
            "_view_name": "StyleView",
            "bar_color": null,
            "description_width": ""
          }
        },
        "4d46aecebddf46f796e97c0776e92299": {
          "model_module": "@jupyter-widgets/controls",
          "model_name": "HBoxModel",
          "model_module_version": "1.5.0",
          "state": {
            "_dom_classes": [],
            "_model_module": "@jupyter-widgets/controls",
            "_model_module_version": "1.5.0",
            "_model_name": "HBoxModel",
            "_view_count": null,
            "_view_module": "@jupyter-widgets/controls",
            "_view_module_version": "1.5.0",
            "_view_name": "HBoxView",
            "box_style": "",
            "children": [
              "IPY_MODEL_c22d781efe92458fb3a80cc4c1f1a76b",
              "IPY_MODEL_4cb40c1609ee44ef80e60f895ac111bb",
              "IPY_MODEL_8e982d1a324045138b04e78db146f53f"
            ],
            "layout": "IPY_MODEL_ef7336fa99554b44a1bb0d3086e5ce7f"
          }
        },
        "c22d781efe92458fb3a80cc4c1f1a76b": {
          "model_module": "@jupyter-widgets/controls",
          "model_name": "HTMLModel",
          "model_module_version": "1.5.0",
          "state": {
            "_dom_classes": [],
            "_model_module": "@jupyter-widgets/controls",
            "_model_module_version": "1.5.0",
            "_model_name": "HTMLModel",
            "_view_count": null,
            "_view_module": "@jupyter-widgets/controls",
            "_view_module_version": "1.5.0",
            "_view_name": "HTMLView",
            "description": "",
            "description_tooltip": null,
            "layout": "IPY_MODEL_317b314285184f35b49c846c1ebe2753",
            "placeholder": "​",
            "style": "IPY_MODEL_0a436f8aa5004f52a926c990835b63e6",
            "value": "epoch:   0%"
          }
        },
        "4cb40c1609ee44ef80e60f895ac111bb": {
          "model_module": "@jupyter-widgets/controls",
          "model_name": "FloatProgressModel",
          "model_module_version": "1.5.0",
          "state": {
            "_dom_classes": [],
            "_model_module": "@jupyter-widgets/controls",
            "_model_module_version": "1.5.0",
            "_model_name": "FloatProgressModel",
            "_view_count": null,
            "_view_module": "@jupyter-widgets/controls",
            "_view_module_version": "1.5.0",
            "_view_name": "ProgressView",
            "bar_style": "",
            "description": "",
            "description_tooltip": null,
            "layout": "IPY_MODEL_8f4380508fca416d83e5fb5c03aa08c4",
            "max": 15,
            "min": 0,
            "orientation": "horizontal",
            "style": "IPY_MODEL_e57960f4fa914907a6b916d22bafc92b",
            "value": 0
          }
        },
        "8e982d1a324045138b04e78db146f53f": {
          "model_module": "@jupyter-widgets/controls",
          "model_name": "HTMLModel",
          "model_module_version": "1.5.0",
          "state": {
            "_dom_classes": [],
            "_model_module": "@jupyter-widgets/controls",
            "_model_module_version": "1.5.0",
            "_model_name": "HTMLModel",
            "_view_count": null,
            "_view_module": "@jupyter-widgets/controls",
            "_view_module_version": "1.5.0",
            "_view_name": "HTMLView",
            "description": "",
            "description_tooltip": null,
            "layout": "IPY_MODEL_25afa9c190974b01b3b0ab863db85378",
            "placeholder": "​",
            "style": "IPY_MODEL_d840af9f7fa7445685348fc770c6aae4",
            "value": " 0/15 [00:00&lt;?, ?it/s]"
          }
        },
        "ef7336fa99554b44a1bb0d3086e5ce7f": {
          "model_module": "@jupyter-widgets/base",
          "model_name": "LayoutModel",
          "model_module_version": "1.2.0",
          "state": {
            "_model_module": "@jupyter-widgets/base",
            "_model_module_version": "1.2.0",
            "_model_name": "LayoutModel",
            "_view_count": null,
            "_view_module": "@jupyter-widgets/base",
            "_view_module_version": "1.2.0",
            "_view_name": "LayoutView",
            "align_content": null,
            "align_items": null,
            "align_self": null,
            "border": null,
            "bottom": null,
            "display": null,
            "flex": null,
            "flex_flow": null,
            "grid_area": null,
            "grid_auto_columns": null,
            "grid_auto_flow": null,
            "grid_auto_rows": null,
            "grid_column": null,
            "grid_gap": null,
            "grid_row": null,
            "grid_template_areas": null,
            "grid_template_columns": null,
            "grid_template_rows": null,
            "height": null,
            "justify_content": null,
            "justify_items": null,
            "left": null,
            "margin": null,
            "max_height": null,
            "max_width": null,
            "min_height": null,
            "min_width": null,
            "object_fit": null,
            "object_position": null,
            "order": null,
            "overflow": null,
            "overflow_x": null,
            "overflow_y": null,
            "padding": null,
            "right": null,
            "top": null,
            "visibility": null,
            "width": null
          }
        },
        "317b314285184f35b49c846c1ebe2753": {
          "model_module": "@jupyter-widgets/base",
          "model_name": "LayoutModel",
          "model_module_version": "1.2.0",
          "state": {
            "_model_module": "@jupyter-widgets/base",
            "_model_module_version": "1.2.0",
            "_model_name": "LayoutModel",
            "_view_count": null,
            "_view_module": "@jupyter-widgets/base",
            "_view_module_version": "1.2.0",
            "_view_name": "LayoutView",
            "align_content": null,
            "align_items": null,
            "align_self": null,
            "border": null,
            "bottom": null,
            "display": null,
            "flex": null,
            "flex_flow": null,
            "grid_area": null,
            "grid_auto_columns": null,
            "grid_auto_flow": null,
            "grid_auto_rows": null,
            "grid_column": null,
            "grid_gap": null,
            "grid_row": null,
            "grid_template_areas": null,
            "grid_template_columns": null,
            "grid_template_rows": null,
            "height": null,
            "justify_content": null,
            "justify_items": null,
            "left": null,
            "margin": null,
            "max_height": null,
            "max_width": null,
            "min_height": null,
            "min_width": null,
            "object_fit": null,
            "object_position": null,
            "order": null,
            "overflow": null,
            "overflow_x": null,
            "overflow_y": null,
            "padding": null,
            "right": null,
            "top": null,
            "visibility": null,
            "width": null
          }
        },
        "0a436f8aa5004f52a926c990835b63e6": {
          "model_module": "@jupyter-widgets/controls",
          "model_name": "DescriptionStyleModel",
          "model_module_version": "1.5.0",
          "state": {
            "_model_module": "@jupyter-widgets/controls",
            "_model_module_version": "1.5.0",
            "_model_name": "DescriptionStyleModel",
            "_view_count": null,
            "_view_module": "@jupyter-widgets/base",
            "_view_module_version": "1.2.0",
            "_view_name": "StyleView",
            "description_width": ""
          }
        },
        "8f4380508fca416d83e5fb5c03aa08c4": {
          "model_module": "@jupyter-widgets/base",
          "model_name": "LayoutModel",
          "model_module_version": "1.2.0",
          "state": {
            "_model_module": "@jupyter-widgets/base",
            "_model_module_version": "1.2.0",
            "_model_name": "LayoutModel",
            "_view_count": null,
            "_view_module": "@jupyter-widgets/base",
            "_view_module_version": "1.2.0",
            "_view_name": "LayoutView",
            "align_content": null,
            "align_items": null,
            "align_self": null,
            "border": null,
            "bottom": null,
            "display": null,
            "flex": null,
            "flex_flow": null,
            "grid_area": null,
            "grid_auto_columns": null,
            "grid_auto_flow": null,
            "grid_auto_rows": null,
            "grid_column": null,
            "grid_gap": null,
            "grid_row": null,
            "grid_template_areas": null,
            "grid_template_columns": null,
            "grid_template_rows": null,
            "height": null,
            "justify_content": null,
            "justify_items": null,
            "left": null,
            "margin": null,
            "max_height": null,
            "max_width": null,
            "min_height": null,
            "min_width": null,
            "object_fit": null,
            "object_position": null,
            "order": null,
            "overflow": null,
            "overflow_x": null,
            "overflow_y": null,
            "padding": null,
            "right": null,
            "top": null,
            "visibility": null,
            "width": null
          }
        },
        "e57960f4fa914907a6b916d22bafc92b": {
          "model_module": "@jupyter-widgets/controls",
          "model_name": "ProgressStyleModel",
          "model_module_version": "1.5.0",
          "state": {
            "_model_module": "@jupyter-widgets/controls",
            "_model_module_version": "1.5.0",
            "_model_name": "ProgressStyleModel",
            "_view_count": null,
            "_view_module": "@jupyter-widgets/base",
            "_view_module_version": "1.2.0",
            "_view_name": "StyleView",
            "bar_color": null,
            "description_width": ""
          }
        },
        "25afa9c190974b01b3b0ab863db85378": {
          "model_module": "@jupyter-widgets/base",
          "model_name": "LayoutModel",
          "model_module_version": "1.2.0",
          "state": {
            "_model_module": "@jupyter-widgets/base",
            "_model_module_version": "1.2.0",
            "_model_name": "LayoutModel",
            "_view_count": null,
            "_view_module": "@jupyter-widgets/base",
            "_view_module_version": "1.2.0",
            "_view_name": "LayoutView",
            "align_content": null,
            "align_items": null,
            "align_self": null,
            "border": null,
            "bottom": null,
            "display": null,
            "flex": null,
            "flex_flow": null,
            "grid_area": null,
            "grid_auto_columns": null,
            "grid_auto_flow": null,
            "grid_auto_rows": null,
            "grid_column": null,
            "grid_gap": null,
            "grid_row": null,
            "grid_template_areas": null,
            "grid_template_columns": null,
            "grid_template_rows": null,
            "height": null,
            "justify_content": null,
            "justify_items": null,
            "left": null,
            "margin": null,
            "max_height": null,
            "max_width": null,
            "min_height": null,
            "min_width": null,
            "object_fit": null,
            "object_position": null,
            "order": null,
            "overflow": null,
            "overflow_x": null,
            "overflow_y": null,
            "padding": null,
            "right": null,
            "top": null,
            "visibility": null,
            "width": null
          }
        },
        "d840af9f7fa7445685348fc770c6aae4": {
          "model_module": "@jupyter-widgets/controls",
          "model_name": "DescriptionStyleModel",
          "model_module_version": "1.5.0",
          "state": {
            "_model_module": "@jupyter-widgets/controls",
            "_model_module_version": "1.5.0",
            "_model_name": "DescriptionStyleModel",
            "_view_count": null,
            "_view_module": "@jupyter-widgets/base",
            "_view_module_version": "1.2.0",
            "_view_name": "StyleView",
            "description_width": ""
          }
        },
        "508d9311df904c37a23169344a64ad90": {
          "model_module": "@jupyter-widgets/controls",
          "model_name": "HBoxModel",
          "model_module_version": "1.5.0",
          "state": {
            "_dom_classes": [],
            "_model_module": "@jupyter-widgets/controls",
            "_model_module_version": "1.5.0",
            "_model_name": "HBoxModel",
            "_view_count": null,
            "_view_module": "@jupyter-widgets/controls",
            "_view_module_version": "1.5.0",
            "_view_name": "HBoxView",
            "box_style": "",
            "children": [
              "IPY_MODEL_70af65fec77a43a98f46d3950956567d",
              "IPY_MODEL_e869d9a404cc41a5ba5659615222685f",
              "IPY_MODEL_4feda0e053314386ab9e33f3ebe7b785"
            ],
            "layout": "IPY_MODEL_a6bedec0e7f2469cba1ef0f9fce21812"
          }
        },
        "70af65fec77a43a98f46d3950956567d": {
          "model_module": "@jupyter-widgets/controls",
          "model_name": "HTMLModel",
          "model_module_version": "1.5.0",
          "state": {
            "_dom_classes": [],
            "_model_module": "@jupyter-widgets/controls",
            "_model_module_version": "1.5.0",
            "_model_name": "HTMLModel",
            "_view_count": null,
            "_view_module": "@jupyter-widgets/controls",
            "_view_module_version": "1.5.0",
            "_view_name": "HTMLView",
            "description": "",
            "description_tooltip": null,
            "layout": "IPY_MODEL_81e3ed6872714e7f8741c8121b9209d5",
            "placeholder": "​",
            "style": "IPY_MODEL_4d1ef78f9a1642489298c098145a54d8",
            "value": "100%"
          }
        },
        "e869d9a404cc41a5ba5659615222685f": {
          "model_module": "@jupyter-widgets/controls",
          "model_name": "FloatProgressModel",
          "model_module_version": "1.5.0",
          "state": {
            "_dom_classes": [],
            "_model_module": "@jupyter-widgets/controls",
            "_model_module_version": "1.5.0",
            "_model_name": "FloatProgressModel",
            "_view_count": null,
            "_view_module": "@jupyter-widgets/controls",
            "_view_module_version": "1.5.0",
            "_view_name": "ProgressView",
            "bar_style": "success",
            "description": "",
            "description_tooltip": null,
            "layout": "IPY_MODEL_b997d7153b0c4067823eea73de6ce257",
            "max": 95,
            "min": 0,
            "orientation": "horizontal",
            "style": "IPY_MODEL_2c78bc7804cf41d381aff96a248da6b4",
            "value": 95
          }
        },
        "4feda0e053314386ab9e33f3ebe7b785": {
          "model_module": "@jupyter-widgets/controls",
          "model_name": "HTMLModel",
          "model_module_version": "1.5.0",
          "state": {
            "_dom_classes": [],
            "_model_module": "@jupyter-widgets/controls",
            "_model_module_version": "1.5.0",
            "_model_name": "HTMLModel",
            "_view_count": null,
            "_view_module": "@jupyter-widgets/controls",
            "_view_module_version": "1.5.0",
            "_view_name": "HTMLView",
            "description": "",
            "description_tooltip": null,
            "layout": "IPY_MODEL_fd57e560eefc47199808a6bb02e3b412",
            "placeholder": "​",
            "style": "IPY_MODEL_ab45bb44bf924289869e691c64bc8db8",
            "value": " 95/95 [02:22&lt;00:00,  1.39s/it]"
          }
        },
        "a6bedec0e7f2469cba1ef0f9fce21812": {
          "model_module": "@jupyter-widgets/base",
          "model_name": "LayoutModel",
          "model_module_version": "1.2.0",
          "state": {
            "_model_module": "@jupyter-widgets/base",
            "_model_module_version": "1.2.0",
            "_model_name": "LayoutModel",
            "_view_count": null,
            "_view_module": "@jupyter-widgets/base",
            "_view_module_version": "1.2.0",
            "_view_name": "LayoutView",
            "align_content": null,
            "align_items": null,
            "align_self": null,
            "border": null,
            "bottom": null,
            "display": null,
            "flex": null,
            "flex_flow": null,
            "grid_area": null,
            "grid_auto_columns": null,
            "grid_auto_flow": null,
            "grid_auto_rows": null,
            "grid_column": null,
            "grid_gap": null,
            "grid_row": null,
            "grid_template_areas": null,
            "grid_template_columns": null,
            "grid_template_rows": null,
            "height": null,
            "justify_content": null,
            "justify_items": null,
            "left": null,
            "margin": null,
            "max_height": null,
            "max_width": null,
            "min_height": null,
            "min_width": null,
            "object_fit": null,
            "object_position": null,
            "order": null,
            "overflow": null,
            "overflow_x": null,
            "overflow_y": null,
            "padding": null,
            "right": null,
            "top": null,
            "visibility": null,
            "width": null
          }
        },
        "81e3ed6872714e7f8741c8121b9209d5": {
          "model_module": "@jupyter-widgets/base",
          "model_name": "LayoutModel",
          "model_module_version": "1.2.0",
          "state": {
            "_model_module": "@jupyter-widgets/base",
            "_model_module_version": "1.2.0",
            "_model_name": "LayoutModel",
            "_view_count": null,
            "_view_module": "@jupyter-widgets/base",
            "_view_module_version": "1.2.0",
            "_view_name": "LayoutView",
            "align_content": null,
            "align_items": null,
            "align_self": null,
            "border": null,
            "bottom": null,
            "display": null,
            "flex": null,
            "flex_flow": null,
            "grid_area": null,
            "grid_auto_columns": null,
            "grid_auto_flow": null,
            "grid_auto_rows": null,
            "grid_column": null,
            "grid_gap": null,
            "grid_row": null,
            "grid_template_areas": null,
            "grid_template_columns": null,
            "grid_template_rows": null,
            "height": null,
            "justify_content": null,
            "justify_items": null,
            "left": null,
            "margin": null,
            "max_height": null,
            "max_width": null,
            "min_height": null,
            "min_width": null,
            "object_fit": null,
            "object_position": null,
            "order": null,
            "overflow": null,
            "overflow_x": null,
            "overflow_y": null,
            "padding": null,
            "right": null,
            "top": null,
            "visibility": null,
            "width": null
          }
        },
        "4d1ef78f9a1642489298c098145a54d8": {
          "model_module": "@jupyter-widgets/controls",
          "model_name": "DescriptionStyleModel",
          "model_module_version": "1.5.0",
          "state": {
            "_model_module": "@jupyter-widgets/controls",
            "_model_module_version": "1.5.0",
            "_model_name": "DescriptionStyleModel",
            "_view_count": null,
            "_view_module": "@jupyter-widgets/base",
            "_view_module_version": "1.2.0",
            "_view_name": "StyleView",
            "description_width": ""
          }
        },
        "b997d7153b0c4067823eea73de6ce257": {
          "model_module": "@jupyter-widgets/base",
          "model_name": "LayoutModel",
          "model_module_version": "1.2.0",
          "state": {
            "_model_module": "@jupyter-widgets/base",
            "_model_module_version": "1.2.0",
            "_model_name": "LayoutModel",
            "_view_count": null,
            "_view_module": "@jupyter-widgets/base",
            "_view_module_version": "1.2.0",
            "_view_name": "LayoutView",
            "align_content": null,
            "align_items": null,
            "align_self": null,
            "border": null,
            "bottom": null,
            "display": null,
            "flex": null,
            "flex_flow": null,
            "grid_area": null,
            "grid_auto_columns": null,
            "grid_auto_flow": null,
            "grid_auto_rows": null,
            "grid_column": null,
            "grid_gap": null,
            "grid_row": null,
            "grid_template_areas": null,
            "grid_template_columns": null,
            "grid_template_rows": null,
            "height": null,
            "justify_content": null,
            "justify_items": null,
            "left": null,
            "margin": null,
            "max_height": null,
            "max_width": null,
            "min_height": null,
            "min_width": null,
            "object_fit": null,
            "object_position": null,
            "order": null,
            "overflow": null,
            "overflow_x": null,
            "overflow_y": null,
            "padding": null,
            "right": null,
            "top": null,
            "visibility": null,
            "width": null
          }
        },
        "2c78bc7804cf41d381aff96a248da6b4": {
          "model_module": "@jupyter-widgets/controls",
          "model_name": "ProgressStyleModel",
          "model_module_version": "1.5.0",
          "state": {
            "_model_module": "@jupyter-widgets/controls",
            "_model_module_version": "1.5.0",
            "_model_name": "ProgressStyleModel",
            "_view_count": null,
            "_view_module": "@jupyter-widgets/base",
            "_view_module_version": "1.2.0",
            "_view_name": "StyleView",
            "bar_color": null,
            "description_width": ""
          }
        },
        "fd57e560eefc47199808a6bb02e3b412": {
          "model_module": "@jupyter-widgets/base",
          "model_name": "LayoutModel",
          "model_module_version": "1.2.0",
          "state": {
            "_model_module": "@jupyter-widgets/base",
            "_model_module_version": "1.2.0",
            "_model_name": "LayoutModel",
            "_view_count": null,
            "_view_module": "@jupyter-widgets/base",
            "_view_module_version": "1.2.0",
            "_view_name": "LayoutView",
            "align_content": null,
            "align_items": null,
            "align_self": null,
            "border": null,
            "bottom": null,
            "display": null,
            "flex": null,
            "flex_flow": null,
            "grid_area": null,
            "grid_auto_columns": null,
            "grid_auto_flow": null,
            "grid_auto_rows": null,
            "grid_column": null,
            "grid_gap": null,
            "grid_row": null,
            "grid_template_areas": null,
            "grid_template_columns": null,
            "grid_template_rows": null,
            "height": null,
            "justify_content": null,
            "justify_items": null,
            "left": null,
            "margin": null,
            "max_height": null,
            "max_width": null,
            "min_height": null,
            "min_width": null,
            "object_fit": null,
            "object_position": null,
            "order": null,
            "overflow": null,
            "overflow_x": null,
            "overflow_y": null,
            "padding": null,
            "right": null,
            "top": null,
            "visibility": null,
            "width": null
          }
        },
        "ab45bb44bf924289869e691c64bc8db8": {
          "model_module": "@jupyter-widgets/controls",
          "model_name": "DescriptionStyleModel",
          "model_module_version": "1.5.0",
          "state": {
            "_model_module": "@jupyter-widgets/controls",
            "_model_module_version": "1.5.0",
            "_model_name": "DescriptionStyleModel",
            "_view_count": null,
            "_view_module": "@jupyter-widgets/base",
            "_view_module_version": "1.2.0",
            "_view_name": "StyleView",
            "description_width": ""
          }
        }
      }
    }
  },
  "nbformat": 4,
  "nbformat_minor": 0
}